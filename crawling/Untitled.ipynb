{
 "cells": [
  {
   "cell_type": "markdown",
   "metadata": {},
   "source": [
    "# 에어비앤비 크롤링"
   ]
  },
  {
   "cell_type": "code",
   "execution_count": 2,
   "metadata": {},
   "outputs": [],
   "source": [
    "import requests\n",
    "from bs4 import BeautifulSoup as bs\n",
    "import urllib"
   ]
  },
  {
   "cell_type": "code",
   "execution_count": 35,
   "metadata": {},
   "outputs": [],
   "source": [
    "url=\"https://www.airbnb.co.kr/s/%EC%A0%9C%EC%A3%BC%EB%8F%84/homes?query=%EC%A0%9C%EC%A3%BC%EB%8F%84&federated_search_session_id=e296e38b-6ec1-4296-9a81-f762cfb2c92a&source=structured_search_input_header&search_type=pagination&tab_id=home_tab&checkin=2020-08-16&refinement_paths%5B%5D=%2Fhomes&checkout=2020-08-17&place_id=ChIJRUDITFTjDDURMb8emNI2vGY&section_offset=2&items_offset=0\"\n",
    "url_parsed=urllib.parse.urlparse(url)\n",
    "\n",
    "url_qs=urllib.parse.parse_qs(url_parsed.query)"
   ]
  },
  {
   "cell_type": "code",
   "execution_count": 36,
   "metadata": {
    "scrolled": true
   },
   "outputs": [
    {
     "data": {
      "text/plain": [
       "{'query': ['제주도'],\n",
       " 'federated_search_session_id': ['e296e38b-6ec1-4296-9a81-f762cfb2c92a'],\n",
       " 'source': ['structured_search_input_header'],\n",
       " 'search_type': ['pagination'],\n",
       " 'tab_id': ['home_tab'],\n",
       " 'checkin': ['2020-08-16'],\n",
       " 'refinement_paths[]': ['/homes'],\n",
       " 'checkout': ['2020-08-17'],\n",
       " 'place_id': ['ChIJRUDITFTjDDURMb8emNI2vGY'],\n",
       " 'section_offset': ['2'],\n",
       " 'items_offset': ['0']}"
      ]
     },
     "execution_count": 36,
     "metadata": {},
     "output_type": "execute_result"
    }
   ],
   "source": [
    "url_qs"
   ]
  },
  {
   "cell_type": "code",
   "execution_count": 38,
   "metadata": {},
   "outputs": [],
   "source": [
    "base_url=\"https://www.airbnb.co.kr/s/%EC%A0%9C%EC%A3%BC%EB%8F%84/homes\"\n",
    "params={'query': '제주도',\n",
    " 'federated_search_session_id': 'e296e38b-6ec1-4296-9a81-f762cfb2c92a',\n",
    " 'source': 'structured_search_input_header',\n",
    " 'search_type': 'pagination',\n",
    " 'tab_id': 'home_tab',\n",
    " 'checkin': '2020-08-16',\n",
    " 'refinement_paths[]': '/homes',\n",
    " 'checkout': '2020-08-17',\n",
    " 'place_id': 'ChIJRUDITFTjDDURMb8emNI2vGY',\n",
    " 'section_offset': '2',\n",
    " 'items_offset': '0'}"
   ]
  },
  {
   "cell_type": "code",
   "execution_count": 39,
   "metadata": {},
   "outputs": [
    {
     "data": {
      "text/plain": [
       "<Response [200]>"
      ]
     },
     "execution_count": 39,
     "metadata": {},
     "output_type": "execute_result"
    }
   ],
   "source": [
    "resp=requests.get(base_url,params=params)\n",
    "resp"
   ]
  },
  {
   "cell_type": "code",
   "execution_count": 40,
   "metadata": {},
   "outputs": [],
   "source": [
    "soup=bs(resp.text)"
   ]
  },
  {
   "cell_type": "code",
   "execution_count": 77,
   "metadata": {},
   "outputs": [
    {
     "data": {
      "text/plain": [
       "20"
      ]
     },
     "execution_count": 77,
     "metadata": {},
     "output_type": "execute_result"
    }
   ],
   "source": [
    "item_tags=soup.select(\"#FMP-target > div > div > div > div\")\n",
    "len(item_tags[0])"
   ]
  },
  {
   "cell_type": "code",
   "execution_count": 170,
   "metadata": {},
   "outputs": [
    {
     "data": {
      "text/plain": [
       "['https://www.airbnb.co.kr/rooms/33474581?location=%EC%A0%9C%EC%A3%BC%EB%8F%84&check_in=2020-08-16&check_out=2020-08-17&previous_page_section_name=1000&federated_search_id=11c21dcc-db3f-4982-a674-b030af0c552f',\n",
       " 'https://www.airbnb.co.kr/rooms/35720896?location=%EC%A0%9C%EC%A3%BC%EB%8F%84&check_in=2020-08-16&check_out=2020-08-17&previous_page_section_name=1000&federated_search_id=11c21dcc-db3f-4982-a674-b030af0c552f',\n",
       " 'https://www.airbnb.co.kr/rooms/19724369?location=%EC%A0%9C%EC%A3%BC%EB%8F%84&check_in=2020-08-16&check_out=2020-08-17&previous_page_section_name=1000&federated_search_id=11c21dcc-db3f-4982-a674-b030af0c552f',\n",
       " 'https://www.airbnb.co.kr/rooms/18103390?location=%EC%A0%9C%EC%A3%BC%EB%8F%84&check_in=2020-08-16&check_out=2020-08-17&previous_page_section_name=1000&federated_search_id=11c21dcc-db3f-4982-a674-b030af0c552f',\n",
       " 'https://www.airbnb.co.kr/rooms/15321610?location=%EC%A0%9C%EC%A3%BC%EB%8F%84&check_in=2020-08-16&check_out=2020-08-17&previous_page_section_name=1000&federated_search_id=11c21dcc-db3f-4982-a674-b030af0c552f',\n",
       " 'https://www.airbnb.co.kr/rooms/43659982?location=%EC%A0%9C%EC%A3%BC%EB%8F%84&check_in=2020-08-16&check_out=2020-08-17&previous_page_section_name=1000&federated_search_id=11c21dcc-db3f-4982-a674-b030af0c552f',\n",
       " 'https://www.airbnb.co.kr/rooms/43298030?location=%EC%A0%9C%EC%A3%BC%EB%8F%84&check_in=2020-08-16&check_out=2020-08-17&previous_page_section_name=1000&federated_search_id=11c21dcc-db3f-4982-a674-b030af0c552f',\n",
       " 'https://www.airbnb.co.kr/rooms/36090662?location=%EC%A0%9C%EC%A3%BC%EB%8F%84&check_in=2020-08-16&check_out=2020-08-17&previous_page_section_name=1000&federated_search_id=11c21dcc-db3f-4982-a674-b030af0c552f',\n",
       " 'https://www.airbnb.co.kr/rooms/16491566?location=%EC%A0%9C%EC%A3%BC%EB%8F%84&check_in=2020-08-16&check_out=2020-08-17&previous_page_section_name=1000&federated_search_id=11c21dcc-db3f-4982-a674-b030af0c552f',\n",
       " 'https://www.airbnb.co.kr/rooms/15639787?location=%EC%A0%9C%EC%A3%BC%EB%8F%84&check_in=2020-08-16&check_out=2020-08-17&previous_page_section_name=1000&federated_search_id=11c21dcc-db3f-4982-a674-b030af0c552f',\n",
       " 'https://www.airbnb.co.kr/rooms/43834942?location=%EC%A0%9C%EC%A3%BC%EB%8F%84&check_in=2020-08-16&check_out=2020-08-17&previous_page_section_name=1000&federated_search_id=11c21dcc-db3f-4982-a674-b030af0c552f',\n",
       " 'https://www.airbnb.co.kr/rooms/41779774?location=%EC%A0%9C%EC%A3%BC%EB%8F%84&check_in=2020-08-16&check_out=2020-08-17&previous_page_section_name=1000&federated_search_id=11c21dcc-db3f-4982-a674-b030af0c552f',\n",
       " 'https://www.airbnb.co.kr/rooms/5933890?location=%EC%A0%9C%EC%A3%BC%EB%8F%84&check_in=2020-08-16&check_out=2020-08-17&previous_page_section_name=1000&federated_search_id=11c21dcc-db3f-4982-a674-b030af0c552f',\n",
       " 'https://www.airbnb.co.kr/rooms/20395764?location=%EC%A0%9C%EC%A3%BC%EB%8F%84&check_in=2020-08-16&check_out=2020-08-17&previous_page_section_name=1000&federated_search_id=11c21dcc-db3f-4982-a674-b030af0c552f',\n",
       " 'https://www.airbnb.co.kr/rooms/43167592?location=%EC%A0%9C%EC%A3%BC%EB%8F%84&check_in=2020-08-16&check_out=2020-08-17&previous_page_section_name=1000&federated_search_id=11c21dcc-db3f-4982-a674-b030af0c552f',\n",
       " 'https://www.airbnb.co.kr/rooms/33958148?location=%EC%A0%9C%EC%A3%BC%EB%8F%84&check_in=2020-08-16&check_out=2020-08-17&previous_page_section_name=1000&federated_search_id=11c21dcc-db3f-4982-a674-b030af0c552f',\n",
       " 'https://www.airbnb.co.kr/rooms/44158302?location=%EC%A0%9C%EC%A3%BC%EB%8F%84&check_in=2020-08-16&check_out=2020-08-17&previous_page_section_name=1000&federated_search_id=11c21dcc-db3f-4982-a674-b030af0c552f',\n",
       " 'https://www.airbnb.co.kr/rooms/35685284?location=%EC%A0%9C%EC%A3%BC%EB%8F%84&check_in=2020-08-16&check_out=2020-08-17&previous_page_section_name=1000&federated_search_id=11c21dcc-db3f-4982-a674-b030af0c552f',\n",
       " 'https://www.airbnb.co.kr/rooms/5163865?location=%EC%A0%9C%EC%A3%BC%EB%8F%84&check_in=2020-08-16&check_out=2020-08-17&previous_page_section_name=1000&federated_search_id=11c21dcc-db3f-4982-a674-b030af0c552f',\n",
       " 'https://www.airbnb.co.kr/rooms/32805801?location=%EC%A0%9C%EC%A3%BC%EB%8F%84&check_in=2020-08-16&check_out=2020-08-17&previous_page_section_name=1000&federated_search_id=11c21dcc-db3f-4982-a674-b030af0c552f']"
      ]
     },
     "execution_count": 170,
     "metadata": {},
     "output_type": "execute_result"
    }
   ],
   "source": [
    "a_tags=item_tags[0].find_all(\"a\")\n",
    "\n",
    "url_list=[]\n",
    "for i in a_tags:\n",
    "    url_list.append(\"https://www.airbnb.co.kr%s\" %i.get(\"href\"))\n",
    "    \n",
    "url_list\n"
   ]
  },
  {
   "cell_type": "code",
   "execution_count": null,
   "metadata": {},
   "outputs": [],
   "source": [
    "price_tags=item_tags[0].find_all(\"span\", class_=\"_1p7iugi\")\n",
    "\n",
    "price_list=[]\n",
    "\n",
    "for i in price_tags:\n",
    "    try:\n",
    "        price=i.text.split(\":\")[2]\n",
    "    except:\n",
    "        price=i.text.split(\":\")[1]\n",
    "        \n",
    "    price_list.append(price)\n",
    "    \n",
    "price_list\n",
    "                  "
   ]
  },
  {
   "cell_type": "code",
   "execution_count": null,
   "metadata": {},
   "outputs": [],
   "source": [
    "count_reviews=item_tags[0].find_all(\"span\",class_=\"_krjbj\")\n",
    "\n",
    "count_reviews\n",
    "\n",
    "count_reviews_list=[]\n",
    "for i in count_reviews:\n",
    "    if \"후기\" in str(i):\n",
    "        count_reviews_list.append(i.text.split(\" \")[1])\n",
    "        \n",
    "count_reviews_list"
   ]
  },
  {
   "cell_type": "code",
   "execution_count": 208,
   "metadata": {},
   "outputs": [
    {
     "data": {
      "text/plain": [
       "[{'이름': '제주 느낌 가득한!귤꽃 청귤 감귤이 있는 귤밭 속 집,귤중옥/산방산/마라도(1)',\n",
       "  '평점': '4.79',\n",
       "  '후기 개수': '97개',\n",
       "  '가격': '₩56,610',\n",
       "  '링크': 'https://www.airbnb.co.kr/rooms/33474581?location=%EC%A0%9C%EC%A3%BC%EB%8F%84&check_in=2020-08-16&check_out=2020-08-17&previous_page_section_name=1000&federated_search_id=11c21dcc-db3f-4982-a674-b030af0c552f'},\n",
       " {'이름': \"☆제주 별빛... 파도소리 들리는.. ''노을이야기''  Senset..애월 (애월이독채)\",\n",
       "  '평점': '4.84',\n",
       "  '후기 개수': '45개',\n",
       "  '가격': '₩144,412',\n",
       "  '링크': 'https://www.airbnb.co.kr/rooms/35720896?location=%EC%A0%9C%EC%A3%BC%EB%8F%84&check_in=2020-08-16&check_out=2020-08-17&previous_page_section_name=1000&federated_search_id=11c21dcc-db3f-4982-a674-b030af0c552f'},\n",
       " {'이름': '[플레이스캠프제주] Standard',\n",
       "  '평점': '4.47',\n",
       "  '후기 개수': '701개',\n",
       "  '가격': '₩44,100',\n",
       "  '링크': 'https://www.airbnb.co.kr/rooms/19724369?location=%EC%A0%9C%EC%A3%BC%EB%8F%84&check_in=2020-08-16&check_out=2020-08-17&previous_page_section_name=1000&federated_search_id=11c21dcc-db3f-4982-a674-b030af0c552f'},\n",
       " {'이름': '걷기 좋은 동네 게스트하우스',\n",
       "  '평점': '4.61',\n",
       "  '후기 개수': '70개',\n",
       "  '가격': '₩35,814',\n",
       "  '링크': 'https://www.airbnb.co.kr/rooms/18103390?location=%EC%A0%9C%EC%A3%BC%EB%8F%84&check_in=2020-08-16&check_out=2020-08-17&previous_page_section_name=1000&federated_search_id=11c21dcc-db3f-4982-a674-b030af0c552f'},\n",
       " {'이름': '몽돌하우스',\n",
       "  '평점': '4.84',\n",
       "  '후기 개수': '62개',\n",
       "  '가격': '₩34,543',\n",
       "  '링크': 'https://www.airbnb.co.kr/rooms/15321610?location=%EC%A0%9C%EC%A3%BC%EB%8F%84&check_in=2020-08-16&check_out=2020-08-17&previous_page_section_name=1000&federated_search_id=11c21dcc-db3f-4982-a674-b030af0c552f'},\n",
       " {'이름': 'Emily house',\n",
       "  '평점': '4.90',\n",
       "  '후기 개수': '10개',\n",
       "  '가격': '₩144,412',\n",
       "  '링크': 'https://www.airbnb.co.kr/rooms/43659982?location=%EC%A0%9C%EC%A3%BC%EB%8F%84&check_in=2020-08-16&check_out=2020-08-17&previous_page_section_name=1000&federated_search_id=11c21dcc-db3f-4982-a674-b030af0c552f'},\n",
       " {'이름': '애몽게스트하우스) 애월해안도로 도보3분거리_#5프라이빗한 도미토리방(여성only)6인실',\n",
       "  '평점': '4.86',\n",
       "  '후기 개수': '36개',\n",
       "  '가격': '₩34,659',\n",
       "  '링크': 'https://www.airbnb.co.kr/rooms/43298030?location=%EC%A0%9C%EC%A3%BC%EB%8F%84&check_in=2020-08-16&check_out=2020-08-17&previous_page_section_name=1000&federated_search_id=11c21dcc-db3f-4982-a674-b030af0c552f'},\n",
       " {'이름': '법환동 바닷가집 별채',\n",
       "  '평점': '4.63',\n",
       "  '후기 개수': '188개',\n",
       "  '가격': '₩51,988',\n",
       "  '링크': 'https://www.airbnb.co.kr/rooms/36090662?location=%EC%A0%9C%EC%A3%BC%EB%8F%84&check_in=2020-08-16&check_out=2020-08-17&previous_page_section_name=1000&federated_search_id=11c21dcc-db3f-4982-a674-b030af0c552f'},\n",
       " {'이름': '불특정식당(손님전용민박)#1',\n",
       "  '평점': '4.68',\n",
       "  '후기 개수': '317개',\n",
       "  '가격': '₩34,659',\n",
       "  '링크': 'https://www.airbnb.co.kr/rooms/16491566?location=%EC%A0%9C%EC%A3%BC%EB%8F%84&check_in=2020-08-16&check_out=2020-08-17&previous_page_section_name=1000&federated_search_id=11c21dcc-db3f-4982-a674-b030af0c552f'},\n",
       " {'이름': \"#2 / JW's House 2 (독채)\",\n",
       "  '평점': '4.57',\n",
       "  '후기 개수': '7개',\n",
       "  '가격': '₩103,977',\n",
       "  '링크': 'https://www.airbnb.co.kr/rooms/15639787?location=%EC%A0%9C%EC%A3%BC%EB%8F%84&check_in=2020-08-16&check_out=2020-08-17&previous_page_section_name=1000&federated_search_id=11c21dcc-db3f-4982-a674-b030af0c552f'},\n",
       " {'이름': '가장 합리적인 제주 여행자를 위한 숙소.Cornerstone Hotel 스탠다드 더블',\n",
       "  '평점': '4.37',\n",
       "  '후기 개수': '155개',\n",
       "  '가격': '₩57,765',\n",
       "  '링크': 'https://www.airbnb.co.kr/rooms/43834942?location=%EC%A0%9C%EC%A3%BC%EB%8F%84&check_in=2020-08-16&check_out=2020-08-17&previous_page_section_name=1000&federated_search_id=11c21dcc-db3f-4982-a674-b030af0c552f'},\n",
       " {'이름': '디럭스 트윈 더블',\n",
       "  '평점': '4.72',\n",
       "  '후기 개수': '64개',\n",
       "  '가격': '₩43,900',\n",
       "  '링크': 'https://www.airbnb.co.kr/rooms/41779774?location=%EC%A0%9C%EC%A3%BC%EB%8F%84&check_in=2020-08-16&check_out=2020-08-17&previous_page_section_name=1000&federated_search_id=11c21dcc-db3f-4982-a674-b030af0c552f'},\n",
       " {'이름': '협재 인 제주 inn JEJU 지금의 방 & Breakfast',\n",
       "  '평점': '4.62',\n",
       "  '후기 개수': '121개',\n",
       "  '가격': '₩80,870',\n",
       "  '링크': 'https://www.airbnb.co.kr/rooms/5933890?location=%EC%A0%9C%EC%A3%BC%EB%8F%84&check_in=2020-08-16&check_out=2020-08-17&previous_page_section_name=1000&federated_search_id=11c21dcc-db3f-4982-a674-b030af0c552f'},\n",
       " {'이름': '제주에서 제일 싼 개인실/ 개별욕실/ 가성비갑 G',\n",
       "  '평점': '4.85',\n",
       "  '후기 개수': '13개',\n",
       "  '가격': '₩19,640',\n",
       "  '링크': 'https://www.airbnb.co.kr/rooms/20395764?location=%EC%A0%9C%EC%A3%BC%EB%8F%84&check_in=2020-08-16&check_out=2020-08-17&previous_page_section_name=1000&federated_search_id=11c21dcc-db3f-4982-a674-b030af0c552f'},\n",
       " {'이름': '제주공항 엔틱 1인실 BARN64_vintage blue',\n",
       "  '평점': '4.75',\n",
       "  '후기 개수': '44개',\n",
       "  '가격': '₩40,435',\n",
       "  '링크': 'https://www.airbnb.co.kr/rooms/43167592?location=%EC%A0%9C%EC%A3%BC%EB%8F%84&check_in=2020-08-16&check_out=2020-08-17&previous_page_section_name=1000&federated_search_id=11c21dcc-db3f-4982-a674-b030af0c552f'},\n",
       " {'이름': '한라산 오름 등반 최적 힐링 숙소 제주 수스테이 302',\n",
       "  '평점': '4.83',\n",
       "  '후기 개수': '6개',\n",
       "  '가격': '₩67,654',\n",
       "  '링크': 'https://www.airbnb.co.kr/rooms/33958148?location=%EC%A0%9C%EC%A3%BC%EB%8F%84&check_in=2020-08-16&check_out=2020-08-17&previous_page_section_name=1000&federated_search_id=11c21dcc-db3f-4982-a674-b030af0c552f'},\n",
       " {'이름': '(시국특별할인)공항8분@나혼자 살아본다 제주에@안전한 신축건물@생활권편리@무료지정주차장완비',\n",
       "  '평점': '4.59',\n",
       "  '후기 개수': '167개',\n",
       "  '가격': '₩31,770',\n",
       "  '링크': 'https://www.airbnb.co.kr/rooms/44158302?location=%EC%A0%9C%EC%A3%BC%EB%8F%84&check_in=2020-08-16&check_out=2020-08-17&previous_page_section_name=1000&federated_search_id=11c21dcc-db3f-4982-a674-b030af0c552f'},\n",
       " {'이름': '제주도 바다가 한 눈에 보이는 감성공간 Bunker Room',\n",
       "  '평점': '4.70',\n",
       "  '후기 개수': '23개',\n",
       "  '가격': '₩42,400',\n",
       "  '링크': 'https://www.airbnb.co.kr/rooms/35685284?location=%EC%A0%9C%EC%A3%BC%EB%8F%84&check_in=2020-08-16&check_out=2020-08-17&previous_page_section_name=1000&federated_search_id=11c21dcc-db3f-4982-a674-b030af0c552f'}]"
      ]
     },
     "execution_count": 208,
     "metadata": {},
     "output_type": "execute_result"
    }
   ],
   "source": [
    "name_tags=item_tags[0].find_all(\"div\",class_=\"_1c2n35az\")\n",
    "rate_tags=item_tags[0].find_all(\"span\",class_=\"_10fy1f8\")\n",
    "\n",
    "\n",
    "result=[]\n",
    "for n,r,u,p,c in zip(name_tags,rate_tags,url_list,price_list,count_reviews_list):\n",
    "    result.append({\n",
    "        \"이름\":n.text,\n",
    "        \"평점\":r.text,\n",
    "        \"후기 개수\" :c,\n",
    "        \"가격\":p,\n",
    "        \"링크\":u\n",
    "    })\n",
    "    \n",
    "result"
   ]
  },
  {
   "cell_type": "markdown",
   "metadata": {},
   "source": [
    "# 에어비앤비 크롤링 함수화"
   ]
  },
  {
   "cell_type": "code",
   "execution_count": null,
   "metadata": {},
   "outputs": [],
   "source": [
    "def airbnb(place,checkin,checkout,pages):\n",
    "    \n",
    "    for page in range(1,pages+1):\n",
    "        offset=0\n",
    "        if page=1:\n",
    "            return 0\n",
    "        else:\n",
    "            offset+=20\n",
    "    \n",
    "    base_url=\"https://www.airbnb.co.kr/s/%EC%A0%9C%EC%A3%BC%EB%8F%84/homes\"\n",
    "    params={'query': query,\n",
    "     'federated_search_session_id': 'e296e38b-6ec1-4296-9a81-f762cfb2c92a',\n",
    "     'source': 'structured_search_input_header',\n",
    "     'search_type': 'pagination',\n",
    "     'tab_id': 'home_tab',\n",
    "     'checkin': checkin,\n",
    "     'refinement_paths[]': '/homes',\n",
    "     'checkout': checkout,\n",
    "     'place_id': 'ChIJRUDITFTjDDURMb8emNI2vGY',\n",
    "     'section_offset': '2',\n",
    "     'items_offset': offset}"
   ]
  }
 ],
 "metadata": {
  "kernelspec": {
   "display_name": "Python 3",
   "language": "python",
   "name": "python3"
  },
  "language_info": {
   "codemirror_mode": {
    "name": "ipython",
    "version": 3
   },
   "file_extension": ".py",
   "mimetype": "text/x-python",
   "name": "python",
   "nbconvert_exporter": "python",
   "pygments_lexer": "ipython3",
   "version": "3.8.3"
  }
 },
 "nbformat": 4,
 "nbformat_minor": 4
}
