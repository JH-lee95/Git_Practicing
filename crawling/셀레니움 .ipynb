{
 "cells": [
  {
   "cell_type": "markdown",
   "metadata": {},
   "source": [
    "# 셀레니움을 이용한 크롤링\n",
    "\n",
    "\n",
    "\n",
    "1. 셀레니움은 브라우저를 핸들링한다.\n",
    "\n",
    "\n",
    "2. 브라우저를 핸들링하기 때문에, 브라우저상에 보이지 않는 것들은 크롤링 할 수 없다. (단점)\n",
    "\n",
    "\n",
    "3. 브라우저의 반응속도에 종속적이다."
   ]
  },
  {
   "cell_type": "code",
   "execution_count": 1,
   "metadata": {},
   "outputs": [],
   "source": [
    "from selenium import webdriver"
   ]
  },
  {
   "cell_type": "code",
   "execution_count": 15,
   "metadata": {},
   "outputs": [],
   "source": [
    "driver=webdriver.Chrome()"
   ]
  },
  {
   "cell_type": "code",
   "execution_count": 4,
   "metadata": {},
   "outputs": [],
   "source": [
    "driver.maximize_window() #창 최대화"
   ]
  },
  {
   "cell_type": "code",
   "execution_count": 16,
   "metadata": {},
   "outputs": [],
   "source": [
    "driver.get(\"https://naver.com\") #해당 url로 이동"
   ]
  },
  {
   "cell_type": "code",
   "execution_count": 17,
   "metadata": {},
   "outputs": [],
   "source": [
    "group_nav=driver.find_element_by_class_name(\"group_nav\")  #하나만"
   ]
  },
  {
   "cell_type": "code",
   "execution_count": 18,
   "metadata": {},
   "outputs": [
    {
     "data": {
      "text/plain": [
       "<selenium.webdriver.remote.webelement.WebElement (session=\"f7f39f11cb4fa9f0e322fd67c0194030\", element=\"4562c199-06ed-4f73-8382-ff46443b92b4\")>"
      ]
     },
     "execution_count": 18,
     "metadata": {},
     "output_type": "execute_result"
    }
   ],
   "source": [
    "group_nav"
   ]
  },
  {
   "cell_type": "code",
   "execution_count": 19,
   "metadata": {},
   "outputs": [],
   "source": [
    "nav_items=group_nav.find_elements_by_class_name(\"nav_item\") #여러개"
   ]
  },
  {
   "cell_type": "code",
   "execution_count": 20,
   "metadata": {},
   "outputs": [],
   "source": [
    "result_list=[]\n",
    "for nav in nav_items:\n",
    "    anchor_tag=nav.find_element_by_tag_name(\"a\")\n",
    "    result_list.append({\n",
    "        'url':anchor_tag.get_attribute('href'),\n",
    "        \"title\":anchor_tag.text\n",
    "    })"
   ]
  },
  {
   "cell_type": "code",
   "execution_count": 21,
   "metadata": {},
   "outputs": [
    {
     "data": {
      "text/plain": [
       "[{'url': 'https://mail.naver.com/', 'title': '메일'},\n",
       " {'url': 'https://section.cafe.naver.com/', 'title': '카페'},\n",
       " {'url': 'https://section.blog.naver.com/', 'title': '블로그'},\n",
       " {'url': 'https://kin.naver.com/', 'title': '지식iN'},\n",
       " {'url': 'https://shopping.naver.com/', 'title': '쇼핑'},\n",
       " {'url': 'https://order.pay.naver.com/home', 'title': 'Pay'},\n",
       " {'url': 'https://tv.naver.com/', 'title': 'TV'},\n",
       " {'url': 'https://dict.naver.com/', 'title': '사전'},\n",
       " {'url': 'https://news.naver.com/', 'title': '뉴스'},\n",
       " {'url': 'https://finance.naver.com/', 'title': '증권'},\n",
       " {'url': 'https://land.naver.com/', 'title': '부동산'},\n",
       " {'url': 'https://map.naver.com/', 'title': '지도'},\n",
       " {'url': 'https://movie.naver.com/', 'title': '영화'},\n",
       " {'url': 'https://vibe.naver.com/?from=naver_main', 'title': '뮤직'},\n",
       " {'url': 'https://book.naver.com/', 'title': '책'},\n",
       " {'url': 'https://comic.naver.com/', 'title': '웹툰'}]"
      ]
     },
     "execution_count": 21,
     "metadata": {},
     "output_type": "execute_result"
    }
   ],
   "source": [
    "result_list"
   ]
  },
  {
   "cell_type": "code",
   "execution_count": 22,
   "metadata": {},
   "outputs": [
    {
     "data": {
      "text/plain": [
       "{'width': 945, 'height': 1020}"
      ]
     },
     "execution_count": 22,
     "metadata": {},
     "output_type": "execute_result"
    }
   ],
   "source": [
    "driver.get_window_size() #창 크기 "
   ]
  },
  {
   "cell_type": "code",
   "execution_count": 23,
   "metadata": {},
   "outputs": [],
   "source": [
    "driver.forward() #앞으로"
   ]
  },
  {
   "cell_type": "code",
   "execution_count": 24,
   "metadata": {},
   "outputs": [
    {
     "data": {
      "text/plain": [
       "<selenium.webdriver.remote.webelement.WebElement (session=\"f7f39f11cb4fa9f0e322fd67c0194030\", element=\"5c49913b-9c36-4741-b437-2b4ab859e35d\")>"
      ]
     },
     "execution_count": 24,
     "metadata": {},
     "output_type": "execute_result"
    }
   ],
   "source": [
    "search_input=driver.find_element_by_id('query')  #검색 하기 위해 query 태그에 접근\n",
    "search_input"
   ]
  },
  {
   "cell_type": "code",
   "execution_count": 25,
   "metadata": {},
   "outputs": [],
   "source": [
    "search_input.send_keys(\"방탄소년단\") #검색창에 키워드 보내기"
   ]
  },
  {
   "cell_type": "code",
   "execution_count": 27,
   "metadata": {},
   "outputs": [],
   "source": [
    "search_btn=driver.find_element_by_id(\"search_btn\")  #클릭하기 위해 클릭버튼 태그에 접근\n",
    "search_btn.click()"
   ]
  },
  {
   "cell_type": "code",
   "execution_count": 28,
   "metadata": {},
   "outputs": [
    {
     "data": {
      "text/plain": [
       "'https://search.naver.com/search.naver?where=nexearch&query=%EB%82%A8%ED%9D%AC%EC%84%9D&sm=top_lve.agallgrpmapsipenpspp&ie=utf8'"
      ]
     },
     "execution_count": 28,
     "metadata": {},
     "output_type": "execute_result"
    }
   ],
   "source": [
    "driver.current_url"
   ]
  },
  {
   "cell_type": "markdown",
   "metadata": {},
   "source": [
    "## 뉴스 크롤링\n"
   ]
  },
  {
   "cell_type": "code",
   "execution_count": 30,
   "metadata": {
    "collapsed": true
   },
   "outputs": [
    {
     "ename": "NameError",
     "evalue": "name 'seasrch_btn' is not defined",
     "output_type": "error",
     "traceback": [
      "\u001b[1;31m---------------------------------------------------------------------------\u001b[0m",
      "\u001b[1;31mNameError\u001b[0m                                 Traceback (most recent call last)",
      "\u001b[1;32m<ipython-input-30-6c771cc4fa31>\u001b[0m in \u001b[0;36m<module>\u001b[1;34m\u001b[0m\n\u001b[0;32m      5\u001b[0m \u001b[0msearch_input\u001b[0m\u001b[1;33m.\u001b[0m\u001b[0msend_keys\u001b[0m\u001b[1;33m(\u001b[0m\u001b[1;34m\"방탄소년단\"\u001b[0m\u001b[1;33m)\u001b[0m\u001b[1;33m\u001b[0m\u001b[1;33m\u001b[0m\u001b[0m\n\u001b[0;32m      6\u001b[0m \u001b[0msearch_btn\u001b[0m\u001b[1;33m=\u001b[0m\u001b[0mdriver\u001b[0m\u001b[1;33m.\u001b[0m\u001b[0mfind_element_by_id\u001b[0m\u001b[1;33m(\u001b[0m\u001b[1;34m\"search_btn\"\u001b[0m\u001b[1;33m)\u001b[0m\u001b[1;33m\u001b[0m\u001b[1;33m\u001b[0m\u001b[0m\n\u001b[1;32m----> 7\u001b[1;33m \u001b[0mseasrch_btn\u001b[0m\u001b[1;33m.\u001b[0m\u001b[0mclick\u001b[0m\u001b[1;33m(\u001b[0m\u001b[1;33m)\u001b[0m\u001b[1;33m\u001b[0m\u001b[1;33m\u001b[0m\u001b[0m\n\u001b[0m",
      "\u001b[1;31mNameError\u001b[0m: name 'seasrch_btn' is not defined"
     ]
    }
   ],
   "source": [
    "driver=webdriver.Chrome()\n",
    "driver.get(\"http://naver.com\")\n",
    "\n",
    "search_input=driver.find_element_by_id('query')\n",
    "search_input.send_keys(\"방탄소년단\")\n",
    "search_btn=driver.find_element_by_id(\"search_btn\")"
   ]
  },
  {
   "cell_type": "code",
   "execution_count": 31,
   "metadata": {},
   "outputs": [],
   "source": [
    "search_btn.click()"
   ]
  },
  {
   "cell_type": "code",
   "execution_count": 37,
   "metadata": {},
   "outputs": [],
   "source": [
    "news=driver.find_element_by_class_name(\"type01\")"
   ]
  },
  {
   "cell_type": "code",
   "execution_count": 42,
   "metadata": {},
   "outputs": [
    {
     "data": {
      "text/plain": [
       "<selenium.webdriver.remote.webelement.WebElement (session=\"d50cedb2e7bd0a3866452bc200fbd919\", element=\"ee606f93-3529-42ac-a69d-014547ce5db7\")>"
      ]
     },
     "execution_count": 42,
     "metadata": {},
     "output_type": "execute_result"
    }
   ],
   "source": [
    "news"
   ]
  },
  {
   "cell_type": "code",
   "execution_count": 44,
   "metadata": {},
   "outputs": [
    {
     "data": {
      "text/plain": [
       "[<selenium.webdriver.remote.webelement.WebElement (session=\"d50cedb2e7bd0a3866452bc200fbd919\", element=\"22755de8-b013-4f7a-bbbd-70aeace2866c\")>,\n",
       " <selenium.webdriver.remote.webelement.WebElement (session=\"d50cedb2e7bd0a3866452bc200fbd919\", element=\"1b8d5dcc-52f4-415f-a465-6bf003e7ed85\")>,\n",
       " <selenium.webdriver.remote.webelement.WebElement (session=\"d50cedb2e7bd0a3866452bc200fbd919\", element=\"15e0b40b-4848-47ac-a0c9-59cec06cbb4c\")>,\n",
       " <selenium.webdriver.remote.webelement.WebElement (session=\"d50cedb2e7bd0a3866452bc200fbd919\", element=\"d31ed237-df4a-4f1c-8a0a-d44025cf60f9\")>,\n",
       " <selenium.webdriver.remote.webelement.WebElement (session=\"d50cedb2e7bd0a3866452bc200fbd919\", element=\"50a685cc-3d90-4234-83c2-71da20e052e6\")>,\n",
       " <selenium.webdriver.remote.webelement.WebElement (session=\"d50cedb2e7bd0a3866452bc200fbd919\", element=\"241e12ee-f42b-4251-af43-ed17bbdbef35\")>,\n",
       " <selenium.webdriver.remote.webelement.WebElement (session=\"d50cedb2e7bd0a3866452bc200fbd919\", element=\"0bb8d765-017c-4745-b054-63563227544f\")>,\n",
       " <selenium.webdriver.remote.webelement.WebElement (session=\"d50cedb2e7bd0a3866452bc200fbd919\", element=\"78a92ff5-f544-4d84-85dd-53fca7c265ae\")>,\n",
       " <selenium.webdriver.remote.webelement.WebElement (session=\"d50cedb2e7bd0a3866452bc200fbd919\", element=\"e9321996-b020-4a4e-ad4d-55632379021f\")>,\n",
       " <selenium.webdriver.remote.webelement.WebElement (session=\"d50cedb2e7bd0a3866452bc200fbd919\", element=\"53fecf70-960e-40d0-bf2d-57c5719287cc\")>,\n",
       " <selenium.webdriver.remote.webelement.WebElement (session=\"d50cedb2e7bd0a3866452bc200fbd919\", element=\"04ba2549-ea22-49fb-9eee-a0c0094dbd08\")>,\n",
       " <selenium.webdriver.remote.webelement.WebElement (session=\"d50cedb2e7bd0a3866452bc200fbd919\", element=\"fcc3ad97-c20b-4afa-b620-4b668976db6a\")>,\n",
       " <selenium.webdriver.remote.webelement.WebElement (session=\"d50cedb2e7bd0a3866452bc200fbd919\", element=\"d8475d9c-c309-41c6-b9bb-979f27b43f3a\")>,\n",
       " <selenium.webdriver.remote.webelement.WebElement (session=\"d50cedb2e7bd0a3866452bc200fbd919\", element=\"d139d502-60f9-4175-add1-876b13bcc115\")>,\n",
       " <selenium.webdriver.remote.webelement.WebElement (session=\"d50cedb2e7bd0a3866452bc200fbd919\", element=\"ba49827e-2efe-4ddd-a927-3fece09c85bd\")>,\n",
       " <selenium.webdriver.remote.webelement.WebElement (session=\"d50cedb2e7bd0a3866452bc200fbd919\", element=\"fd7f5804-80e6-44cd-ab97-0582a3fb826c\")>,\n",
       " <selenium.webdriver.remote.webelement.WebElement (session=\"d50cedb2e7bd0a3866452bc200fbd919\", element=\"c1a6a7bd-0289-46a9-9555-af6d105dd6b5\")>,\n",
       " <selenium.webdriver.remote.webelement.WebElement (session=\"d50cedb2e7bd0a3866452bc200fbd919\", element=\"bb658b31-7ab4-4d7e-b09a-be863d9ce53d\")>,\n",
       " <selenium.webdriver.remote.webelement.WebElement (session=\"d50cedb2e7bd0a3866452bc200fbd919\", element=\"78133498-7497-4025-a709-801a18c671b7\")>,\n",
       " <selenium.webdriver.remote.webelement.WebElement (session=\"d50cedb2e7bd0a3866452bc200fbd919\", element=\"6ce773b7-b555-4f84-8267-62ec136ccd13\")>,\n",
       " <selenium.webdriver.remote.webelement.WebElement (session=\"d50cedb2e7bd0a3866452bc200fbd919\", element=\"a12b65c3-af82-4e11-ac38-a50b9c01eee7\")>,\n",
       " <selenium.webdriver.remote.webelement.WebElement (session=\"d50cedb2e7bd0a3866452bc200fbd919\", element=\"18803b86-c663-43b3-8893-b7ce8b7b53a9\")>,\n",
       " <selenium.webdriver.remote.webelement.WebElement (session=\"d50cedb2e7bd0a3866452bc200fbd919\", element=\"bb240484-e0aa-441c-a8a4-42edf4f74417\")>,\n",
       " <selenium.webdriver.remote.webelement.WebElement (session=\"d50cedb2e7bd0a3866452bc200fbd919\", element=\"c92b250c-8899-4ecc-abaa-e8665a565e7c\")>,\n",
       " <selenium.webdriver.remote.webelement.WebElement (session=\"d50cedb2e7bd0a3866452bc200fbd919\", element=\"847fdce4-b269-4a90-836f-e2f12b523e20\")>,\n",
       " <selenium.webdriver.remote.webelement.WebElement (session=\"d50cedb2e7bd0a3866452bc200fbd919\", element=\"b35d3bc7-ed91-4141-a926-0761cd2427f1\")>]"
      ]
     },
     "execution_count": 44,
     "metadata": {},
     "output_type": "execute_result"
    }
   ],
   "source": [
    "li_tags=news.find_elements_by_tag_name(\"li\")\n",
    "li_tags"
   ]
  },
  {
   "cell_type": "code",
   "execution_count": 75,
   "metadata": {},
   "outputs": [
    {
     "data": {
      "text/plain": [
       "[{'title': '',\n",
       "  'url': 'http://sbsfune.sbs.co.kr/news/news_content.jsp?article_id=E10009982238&plink=ORI&cooper=NAVER'},\n",
       " {'title': \"방탄소년단, 美 '2020 MTV 비디오 뮤직 어워즈' 3개 부문 후보\",\n",
       "  'url': 'https://tenasia.hankyung.com/music/article/2020073195624'},\n",
       " {'title': '방탄소년단, 美 MTV 비디오 뮤직 어워즈 3개 부문 후보(공식)',\n",
       "  'url': 'https://www.newsen.com/news_view.php?uid=202007311144266710'},\n",
       " {'title': '방탄소년단, 美 `2020 MTV 비디오 뮤직 어워즈`서 3개 부문 노미네이트',\n",
       "  'url': 'http://star.mk.co.kr/new/view.php?mc=ST&year=2020&no=784615'},\n",
       " {'title': \"방탄소년단, 美 '2020 MTV VMA' 3개 부문 노미네이트 [공식]\",\n",
       "  'url': 'http://www.osen.co.kr/article/G1111407978'},\n",
       " {'title': '',\n",
       "  'url': 'http://sports.khan.co.kr/news/sk_index.html?art_id=202007310956003&sec_id=540101&pt=nv'},\n",
       " {'title': '방탄소년단 뷔, 함께 여름휴가 떠나고 싶은 남자 아이돌 1위',\n",
       "  'url': 'http://star.mt.co.kr/stview.php?no=2020073106281173276'},\n",
       " {'title': '\"속 시원한 비주얼\"…방탄소년단 뷔, 함께 여름휴가 가고 싶은 男 아이돌 1위',\n",
       "  'url': 'https://tenasia.hankyung.com/topic/article/2020073187354'},\n",
       " {'title': '', 'url': 'http://www.newspim.com/news/view/20200730001047'},\n",
       " {'title': \"배스킨라빈스, '방탄은 베라다' TV 광고 공개\",\n",
       "  'url': 'http://www.fnnews.com/news/202007301737147064'},\n",
       " {'title': \"배스킨라빈스, BTS '방탄은 배라다' TV광고 3편 8월 방영\",\n",
       "  'url': 'http://www.seoulfn.com/news/articleView.html?idxno=390608'},\n",
       " {'title': \"배스킨라빈스, '방탄은 배라다' TV 광고 공개\",\n",
       "  'url': 'http://www.newsis.com/view/?id=NISX20200730_0001113318&cID=13001&pID=13000'},\n",
       " {'title': \"배스킨라빈스, 방탄소년단과 TV광고 8월1일 '온에어'\",\n",
       "  'url': 'http://www.shinailbo.co.kr/news/articleView.html?idxno=1304925'},\n",
       " {'title': '',\n",
       "  'url': 'http://www.kjdaily.com/read.php3?aid=1596081903519189208'},\n",
       " {'title': '방탄소년단 진, 최애돌 제67대 기부요정 등극!',\n",
       "  'url': 'http://thetravelnews.co.kr/07/454664/'},\n",
       " {'title': '',\n",
       "  'url': 'http://www.futurekorea.co.kr/news/articleView.html?idxno=137428'},\n",
       " {'title': '',\n",
       "  'url': 'http://topclass.chosun.com/daily/view.asp?idx=448&Newsnumb=202007448'},\n",
       " {'title': \"방탄소년단 美 '빌보드 200' 차트 68위…22주 연속 진입\",\n",
       "  'url': 'https://www.nocutnews.co.kr/news/5386208'},\n",
       " {'title': \"방탄소년단, 美 '빌보드 200' 68위...22주 연속 상위권\",\n",
       "  'url': 'https://www.ytn.co.kr/_sn/0117_202007290840310478'},\n",
       " {'title': '8월 컴백 앞둔 방탄소년단, 美빌보드+日오리콘 접수',\n",
       "  'url': 'http://isplus.live.joins.com/news/article/article.asp?total_id=23835830'},\n",
       " {'title': \"[공식] 방탄소년단, 美 '빌보드 200' 22주 연속 상위권 '독보적 기록'\",\n",
       "  'url': 'http://sports.chosun.com/news/ntype.htm?id=202007290100268220018296&servicedate=20200729'},\n",
       " {'title': '',\n",
       "  'url': 'http://sports.chosun.com/news/ntype.htm?id=202007310100289610019675&servicedate=20200730'},\n",
       " {'title': '배스킨라빈스, ‘방탄은 배라다’ TV 광고 공개',\n",
       "  'url': 'http://www.mdtoday.co.kr/mdtoday/index.html?no=394809'},\n",
       " {'title': '',\n",
       "  'url': 'http://www.businesspost.co.kr/BP?command=article_view&num=189762'},\n",
       " {'title': '', 'url': 'http://www.kwnews.co.kr/nview.asp?aid=220073000142'},\n",
       " {'title': '',\n",
       "  'url': 'http://star.mt.co.kr/stview.php?no=2020073111392518153'}]"
      ]
     },
     "execution_count": 75,
     "metadata": {},
     "output_type": "execute_result"
    }
   ],
   "source": [
    "result_list=[]\n",
    "for tag in li_tags:\n",
    "    title=tag.find_element_by_tag_name(\"a\")\n",
    "    url=title.get_attribute(\"href\")\n",
    "    \n",
    "    result_list.append({\n",
    "        \"title\":title.text,\n",
    "        \"url\":url\n",
    "    })\n",
    "result_list"
   ]
  },
  {
   "cell_type": "code",
   "execution_count": null,
   "metadata": {},
   "outputs": [],
   "source": []
  }
 ],
 "metadata": {
  "kernelspec": {
   "display_name": "Python 3",
   "language": "python",
   "name": "python3"
  },
  "language_info": {
   "codemirror_mode": {
    "name": "ipython",
    "version": 3
   },
   "file_extension": ".py",
   "mimetype": "text/x-python",
   "name": "python",
   "nbconvert_exporter": "python",
   "pygments_lexer": "ipython3",
   "version": "3.8.3"
  }
 },
 "nbformat": 4,
 "nbformat_minor": 4
}
