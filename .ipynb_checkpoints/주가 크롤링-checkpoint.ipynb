{
 "cells": [
  {
   "cell_type": "markdown",
   "metadata": {},
   "source": [
    "# 네이버 주가 데이터 크롤링(일별시세)"
   ]
  },
  {
   "cell_type": "markdown",
   "metadata": {},
   "source": [
    "\n",
    "\n",
    "Iframe 의 경우 일반적인 크롤링 방식으로는 콘텐츠를 가져오지 못함\n",
    "\n",
    "src의 주소를 타고 들어가서 iframe에 해당하는 페이지로 직접 들어갸아함\n"
   ]
  },
  {
   "cell_type": "code",
   "execution_count": 2,
   "metadata": {},
   "outputs": [],
   "source": [
    "import requests\n",
    "from bs4 import BeautifulSoup as bs"
   ]
  },
  {
   "cell_type": "code",
   "execution_count": 74,
   "metadata": {},
   "outputs": [],
   "source": [
    "base_url=\"https://finance.naver.com//item/sise_day.nhn\"   #해당 iframe의 url\n",
    "params={\n",
    "    \"code\":'005930'\n",
    "}\n",
    "resp_stock=requests.get(base_url,params)\n",
    "\n",
    "soup_stock=bs(resp_stock.text)\n",
    "day_price=soup_stock.select(\"body > table.type2 tr\")"
   ]
  },
  {
   "cell_type": "code",
   "execution_count": 76,
   "metadata": {},
   "outputs": [
    {
     "data": {
      "text/plain": [
       "16"
      ]
     },
     "execution_count": 76,
     "metadata": {},
     "output_type": "execute_result"
    }
   ],
   "source": [
    "tr_tags=soup_stock.select(\"table.type2 tr\")\n",
    "len(tr_tags)"
   ]
  },
  {
   "cell_type": "code",
   "execution_count": 85,
   "metadata": {},
   "outputs": [],
   "source": [
    "result_stock=[]\n",
    "\n",
    "th_tags=tr_tags[0].find_all(\"th\")\n",
    "title_list=[]\n",
    "for th in th_tags:\n",
    "    title_list.append(th.text)\n",
    "\n",
    "for tr_tag in tr_tags:\n",
    "    td_tags=tr_tag.find_all('td')\n",
    "    if len(td_tags)<7:\n",
    "        continue\n",
    "    data_list=[]\n",
    "    for td in td_tags:\n",
    "        data_list.append(td.text.strip())\n",
    "    result_stock.append(dict(zip(title_list,data_list)))"
   ]
  },
  {
   "cell_type": "code",
   "execution_count": 87,
   "metadata": {
    "scrolled": true
   },
   "outputs": [
    {
     "data": {
      "text/plain": [
       "[{'날짜': '2020.07.31',\n",
       "  '종가': '58,900',\n",
       "  '전일비': '100',\n",
       "  '시가': '59,500',\n",
       "  '고가': '59,600',\n",
       "  '저가': '58,400',\n",
       "  '거래량': '6,925,599'},\n",
       " {'날짜': '2020.07.30',\n",
       "  '종가': '59,000',\n",
       "  '전일비': '0',\n",
       "  '시가': '59,700',\n",
       "  '고가': '60,100',\n",
       "  '저가': '59,000',\n",
       "  '거래량': '19,285,354'},\n",
       " {'날짜': '2020.07.29',\n",
       "  '종가': '59,000',\n",
       "  '전일비': '400',\n",
       "  '시가': '60,300',\n",
       "  '고가': '60,400',\n",
       "  '저가': '58,600',\n",
       "  '거래량': '36,476,611'},\n",
       " {'날짜': '2020.07.28',\n",
       "  '종가': '58,600',\n",
       "  '전일비': '3,000',\n",
       "  '시가': '57,000',\n",
       "  '고가': '58,800',\n",
       "  '저가': '56,400',\n",
       "  '거래량': '48,431,566'},\n",
       " {'날짜': '2020.07.27',\n",
       "  '종가': '55,600',\n",
       "  '전일비': '1,400',\n",
       "  '시가': '54,300',\n",
       "  '고가': '55,700',\n",
       "  '저가': '54,300',\n",
       "  '거래량': '21,054,421'},\n",
       " {'날짜': '2020.07.24',\n",
       "  '종가': '54,200',\n",
       "  '전일비': '100',\n",
       "  '시가': '54,000',\n",
       "  '고가': '54,400',\n",
       "  '저가': '53,700',\n",
       "  '거래량': '10,994,535'},\n",
       " {'날짜': '2020.07.23',\n",
       "  '종가': '54,100',\n",
       "  '전일비': '600',\n",
       "  '시가': '54,700',\n",
       "  '고가': '54,700',\n",
       "  '저가': '53,800',\n",
       "  '거래량': '16,214,932'},\n",
       " {'날짜': '2020.07.22',\n",
       "  '종가': '54,700',\n",
       "  '전일비': '600',\n",
       "  '시가': '55,300',\n",
       "  '고가': '55,500',\n",
       "  '저가': '54,700',\n",
       "  '거래량': '12,885,057'},\n",
       " {'날짜': '2020.07.21',\n",
       "  '종가': '55,300',\n",
       "  '전일비': '1,100',\n",
       "  '시가': '55,200',\n",
       "  '고가': '55,400',\n",
       "  '저가': '54,800',\n",
       "  '거래량': '18,297,260'},\n",
       " {'날짜': '2020.07.20',\n",
       "  '종가': '54,200',\n",
       "  '전일비': '200',\n",
       "  '시가': '54,800',\n",
       "  '고가': '54,800',\n",
       "  '저가': '54,000',\n",
       "  '거래량': '10,507,530'}]"
      ]
     },
     "execution_count": 87,
     "metadata": {},
     "output_type": "execute_result"
    }
   ],
   "source": [
    "result_stock"
   ]
  },
  {
   "cell_type": "markdown",
   "metadata": {},
   "source": [
    "## 주가 크롤링 함수화"
   ]
  },
  {
   "cell_type": "code",
   "execution_count": 93,
   "metadata": {},
   "outputs": [],
   "source": [
    "def get_day_price(code,page_num):\n",
    "    for page in range(1,page_num+1):\n",
    "        base_url=\"https://finance.naver.com//item/sise_day.nhn\"   #해당 iframe의 url\n",
    "        params={\n",
    "            \"code\":code,\n",
    "            \"page\":page}\n",
    "        \n",
    "        \n",
    "        resp_stock=requests.get(base_url,params)\n",
    "        soup_stock=bs(resp_stock.text)\n",
    "        \n",
    "        tr_tags=soup_stock.select(\"table.type2 tr\")\n",
    "        \n",
    "        result_stock=[]\n",
    "\n",
    "        th_tags=tr_tags[0].find_all(\"th\")\n",
    "        title_list=[]\n",
    "        for th in th_tags:\n",
    "            title_list.append(th.text)\n",
    "\n",
    "        for tr_tag in tr_tags:\n",
    "            td_tags=tr_tag.find_all('td')\n",
    "            if len(td_tags)<7:\n",
    "                continue\n",
    "            data_list=[]\n",
    "            for td in td_tags:\n",
    "                data_list.append(td.text.strip())\n",
    "            result_stock.append(dict(zip(title_list,data_list)))\n",
    "            \n",
    "    return result_stock"
   ]
  },
  {
   "cell_type": "code",
   "execution_count": 96,
   "metadata": {
    "scrolled": true
   },
   "outputs": [
    {
     "data": {
      "text/plain": [
       "[{'날짜': '2020.07.31',\n",
       "  '종가': '59,000',\n",
       "  '전일비': '0',\n",
       "  '시가': '59,500',\n",
       "  '고가': '59,600',\n",
       "  '저가': '58,400',\n",
       "  '거래량': '9,099,883'},\n",
       " {'날짜': '2020.07.30',\n",
       "  '종가': '59,000',\n",
       "  '전일비': '0',\n",
       "  '시가': '59,700',\n",
       "  '고가': '60,100',\n",
       "  '저가': '59,000',\n",
       "  '거래량': '19,285,354'},\n",
       " {'날짜': '2020.07.29',\n",
       "  '종가': '59,000',\n",
       "  '전일비': '400',\n",
       "  '시가': '60,300',\n",
       "  '고가': '60,400',\n",
       "  '저가': '58,600',\n",
       "  '거래량': '36,476,611'},\n",
       " {'날짜': '2020.07.28',\n",
       "  '종가': '58,600',\n",
       "  '전일비': '3,000',\n",
       "  '시가': '57,000',\n",
       "  '고가': '58,800',\n",
       "  '저가': '56,400',\n",
       "  '거래량': '48,431,566'},\n",
       " {'날짜': '2020.07.27',\n",
       "  '종가': '55,600',\n",
       "  '전일비': '1,400',\n",
       "  '시가': '54,300',\n",
       "  '고가': '55,700',\n",
       "  '저가': '54,300',\n",
       "  '거래량': '21,054,421'},\n",
       " {'날짜': '2020.07.24',\n",
       "  '종가': '54,200',\n",
       "  '전일비': '100',\n",
       "  '시가': '54,000',\n",
       "  '고가': '54,400',\n",
       "  '저가': '53,700',\n",
       "  '거래량': '10,994,535'},\n",
       " {'날짜': '2020.07.23',\n",
       "  '종가': '54,100',\n",
       "  '전일비': '600',\n",
       "  '시가': '54,700',\n",
       "  '고가': '54,700',\n",
       "  '저가': '53,800',\n",
       "  '거래량': '16,214,932'},\n",
       " {'날짜': '2020.07.22',\n",
       "  '종가': '54,700',\n",
       "  '전일비': '600',\n",
       "  '시가': '55,300',\n",
       "  '고가': '55,500',\n",
       "  '저가': '54,700',\n",
       "  '거래량': '12,885,057'},\n",
       " {'날짜': '2020.07.21',\n",
       "  '종가': '55,300',\n",
       "  '전일비': '1,100',\n",
       "  '시가': '55,200',\n",
       "  '고가': '55,400',\n",
       "  '저가': '54,800',\n",
       "  '거래량': '18,297,260'},\n",
       " {'날짜': '2020.07.20',\n",
       "  '종가': '54,200',\n",
       "  '전일비': '200',\n",
       "  '시가': '54,800',\n",
       "  '고가': '54,800',\n",
       "  '저가': '54,000',\n",
       "  '거래량': '10,507,530'}]"
      ]
     },
     "execution_count": 96,
     "metadata": {},
     "output_type": "execute_result"
    }
   ],
   "source": [
    "get_day_price(\"005930\",1)"
   ]
  },
  {
   "cell_type": "code",
   "execution_count": null,
   "metadata": {},
   "outputs": [],
   "source": []
  }
 ],
 "metadata": {
  "kernelspec": {
   "display_name": "Python 3",
   "language": "python",
   "name": "python3"
  },
  "language_info": {
   "codemirror_mode": {
    "name": "ipython",
    "version": 3
   },
   "file_extension": ".py",
   "mimetype": "text/x-python",
   "name": "python",
   "nbconvert_exporter": "python",
   "pygments_lexer": "ipython3",
   "version": "3.8.3"
  }
 },
 "nbformat": 4,
 "nbformat_minor": 4
}
