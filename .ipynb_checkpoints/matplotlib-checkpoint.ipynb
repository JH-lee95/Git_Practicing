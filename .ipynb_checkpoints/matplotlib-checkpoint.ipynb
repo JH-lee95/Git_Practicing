{
 "cells": [
  {
   "cell_type": "markdown",
   "metadata": {
    "colab_type": "text",
    "id": "umMiajX0Zo_Q"
   },
   "source": [
    "# 데이터 시각화"
   ]
  },
  {
   "cell_type": "markdown",
   "metadata": {},
   "source": [
    "- https://matplotlib.org/"
   ]
  },
  {
   "cell_type": "markdown",
   "metadata": {
    "colab_type": "text",
    "id": "M58An10IZo_S"
   },
   "source": [
    "## matplotlib로 그래프 그리기"
   ]
  },
  {
   "cell_type": "code",
   "execution_count": null,
   "metadata": {
    "colab": {},
    "colab_type": "code",
    "id": "W3O2UXILZo_V"
   },
   "outputs": [],
   "source": [
    "import matplotlib.pyplot as plt"
   ]
  },
  {
   "cell_type": "markdown",
   "metadata": {
    "colab_type": "text",
    "id": "2hGWivL9ZpAA"
   },
   "source": [
    "###  선 그래프"
   ]
  },
  {
   "cell_type": "markdown",
   "metadata": {
    "colab_type": "text",
    "id": "XVslzLVqZpAB"
   },
   "source": [
    "####  기본적인 선 그래프 그리기"
   ]
  },
  {
   "cell_type": "code",
   "execution_count": null,
   "metadata": {
    "colab": {},
    "colab_type": "code",
    "id": "eOX5InPnZpAE"
   },
   "outputs": [],
   "source": [
    "data1 = [10, 14, 19, 20, 25]"
   ]
  },
  {
   "cell_type": "markdown",
   "metadata": {},
   "source": [
    "```\n",
    "> plot([x], y, [fmt], *, data=None, **kwargs)\n",
    "> plot([x], y, [fmt], [x2], y2, [fmt2], ..., **kwargs)```\n",
    "y값만 입력하기"
   ]
  },
  {
   "cell_type": "code",
   "execution_count": null,
   "metadata": {
    "colab": {},
    "colab_type": "code",
    "id": "o4baH0YtZpAM",
    "outputId": "0632c095-67ee-4f7e-d173-96bd42677fcd",
    "scrolled": true
   },
   "outputs": [],
   "source": [
    "\n",
    "plt.plot(data1)"
   ]
  },
  {
   "cell_type": "code",
   "execution_count": null,
   "metadata": {
    "colab": {},
    "colab_type": "code",
    "id": "BR3CuWM_ZpAV",
    "outputId": "66473a7b-5427-4257-fd52-2bc38000e187"
   },
   "outputs": [],
   "source": [
    "plt.plot(data1)\n",
    "plt.show()"
   ]
  },
  {
   "cell_type": "code",
   "execution_count": null,
   "metadata": {
    "colab": {},
    "colab_type": "code",
    "id": "NA4qFfFyZpAa",
    "outputId": "4886d9c3-b034-4e5a-a687-6acd6f3c1f65"
   },
   "outputs": [],
   "source": [
    "try:\n",
    "    %matplotlib qt\n",
    "except:\n",
    "    # version 변경되면서 설치해줘야함.\n",
    "    !pip3 install PyQt5\n",
    "    %matplotlib qt"
   ]
  },
  {
   "cell_type": "code",
   "execution_count": null,
   "metadata": {
    "colab": {},
    "colab_type": "code",
    "id": "X82AUXxXZpAg",
    "outputId": "e2d92501-50ae-4604-ec97-205bd8c3e54c"
   },
   "outputs": [],
   "source": [
    "plt.plot(data1)"
   ]
  },
  {
   "cell_type": "code",
   "execution_count": null,
   "metadata": {},
   "outputs": [],
   "source": [
    "%matplotlib inline"
   ]
  },
  {
   "cell_type": "code",
   "execution_count": null,
   "metadata": {
    "colab": {},
    "colab_type": "code",
    "id": "TDu1qXODZpAy",
    "outputId": "56e916ea-1941-4adf-bd40-f764bc47bba4"
   },
   "outputs": [],
   "source": [
    "import numpy as np\n",
    "\n",
    "x = np.arange(-4.5, 5, 0.5) # 배열 x 생성. 범위: [-4.5, 5), 0.5씩 증가\n",
    "y = 2*x**2 # y=2x^2 => 수식을 이용해 배열 x에 대응하는 배열 y 생성\n",
    "[x,y]"
   ]
  },
  {
   "cell_type": "code",
   "execution_count": null,
   "metadata": {
    "colab": {},
    "colab_type": "code",
    "id": "N9GXZduPZpA2",
    "outputId": "97e0de56-9102-4789-9a73-7ee47fef10b7"
   },
   "outputs": [],
   "source": [
    "plt.plot(x,y)\n",
    "plt.show()"
   ]
  },
  {
   "cell_type": "markdown",
   "metadata": {
    "colab_type": "text",
    "id": "87QdwHlZZpA8"
   },
   "source": [
    "#### 여러 그래프 그리기"
   ]
  },
  {
   "cell_type": "code",
   "execution_count": null,
   "metadata": {
    "colab": {},
    "colab_type": "code",
    "id": "3-GsDgUBZpA-"
   },
   "outputs": [],
   "source": [
    "import numpy as np\n",
    "\n",
    "x = np.arange(-4.5, 5, 0.5)\n",
    "y1 = 2*x**2\n",
    "y2 = 5*x + 30\n",
    "y3 = 4*x**2 + 10"
   ]
  },
  {
   "cell_type": "code",
   "execution_count": null,
   "metadata": {
    "colab": {},
    "colab_type": "code",
    "id": "K1RbSp_pZpBC",
    "outputId": "91af1276-c5d4-4410-8ec5-bb745eff0548"
   },
   "outputs": [],
   "source": [
    "import matplotlib.pyplot as plt\n",
    "\n",
    "# (보통 나눌때는 스타일이 다를때)\n",
    "plt.plot(x, y1)\n",
    "plt.plot(x, y2)\n",
    "plt.plot(x, y3)\n",
    "plt.show()"
   ]
  },
  {
   "cell_type": "code",
   "execution_count": null,
   "metadata": {
    "colab": {},
    "colab_type": "code",
    "id": "WO5dVxpIZpBH",
    "outputId": "94491c11-ce6a-4f5f-d2d0-e37bc94067da"
   },
   "outputs": [],
   "source": [
    "plt.plot(x, y1, x, y2, x, y3) # 한 줄에 그리기 \n",
    "plt.show()"
   ]
  },
  {
   "cell_type": "code",
   "execution_count": null,
   "metadata": {
    "colab": {},
    "colab_type": "code",
    "id": "5vJZkLS2ZpBL",
    "outputId": "bfb62672-174b-4c56-8b5c-cb11c97f5b9b"
   },
   "outputs": [],
   "source": [
    "plt.plot(x, y1) #처음 그리기 함수를 수행하면 그래프 창이 자동으로 생성됨 \n",
    "\n",
    "plt.figure() # 새로운 그래프 창을 생성함\n",
    "plt.plot(x, y2) # 새롭게 생성된 그래프 창에 그래프를 그림\n",
    "\n",
    "# 총 세개를 그림\n",
    "plt.figure()\n",
    "plt.plot(x, y3)\n",
    "\n",
    "plt.show()"
   ]
  },
  {
   "cell_type": "code",
   "execution_count": null,
   "metadata": {
    "colab": {},
    "colab_type": "code",
    "id": "H-1350huZpBQ",
    "outputId": "65277316-15ce-4f30-9700-569bdd987d95"
   },
   "outputs": [],
   "source": [
    "import numpy as np\n",
    "\n",
    "# 데이터 생성\n",
    "x = np.arange(-5, 5, 0.1)\n",
    "y1 = x**2 -2\n",
    "y2 = 20*np.cos(x)**2 # NumPy에서 cos()는 np.cos()으로 입력\n",
    "\n",
    "# figure에 이름 정하기\n",
    "\n",
    "plt.figure(1) # 1번 그래프 창을 생성함\n",
    "plt.plot(x, y1) # 지정된 그래프 창에 그래프를 그림 \n",
    "\n",
    "plt.figure(2) # 2번 그래프 창을 생성함\n",
    "plt.plot(x, y2) # 지정된 그래프 창에 그래프를 그림\n",
    "\n",
    "plt.figure(1) # 이미 생성된 1번 그래프 창을 지정함\n",
    "plt.plot(x, y2) # 지정된 그래프 창에 그래프를 그림\n",
    "\n",
    "plt.figure(2) # 이미 생성된 2번 그래프 창을 지정함\n",
    "plt.clf() # clear figure 2번 그래프 창에 그려진 모든 그래프를 지움\n",
    "plt.plot(x, y1) # 지정된 그래프 창에 그래프를 그림\n",
    "\n",
    "plt.show()\n",
    "\n",
    "## figure은 한 번 그려지면 모두 초기화됨"
   ]
  },
  {
   "cell_type": "code",
   "execution_count": null,
   "metadata": {
    "colab": {},
    "colab_type": "code",
    "id": "eCN-hvQsZpBW",
    "outputId": "60976691-c499-4520-de54-de46690bfcaa"
   },
   "outputs": [],
   "source": [
    "import numpy as np\n",
    "\n",
    "# 데이터 생성\n",
    "x = np.arange(0, 10, 0.1)\n",
    "y1 = 0.3*(x-5)**2 + 1\n",
    "y2 = -1.5*x + 3\n",
    "y3 = np.sin(x)**2 # NumPy에서 sin()은 np.sin()으로 입력\n",
    "\n",
    "# exponential 지수함수\n",
    "y4 = 10*np.exp(-x) + 1 # NumPy에서 exp()는 np.exp()로 입력 \n",
    "\n",
    "# 2 × 2 행렬로 이뤄진 하위 그래프에서 p에 따라 위치를 지정\n",
    "# subplot그리기\n",
    "plt.subplot(2,2,1) # p는 1 \n",
    "plt.plot(x,y1)\n",
    "\n",
    "plt.subplot(2,2,2) # p는 2\n",
    "plt.plot(x,y2)\n",
    "\n",
    "plt.subplot(2,2,3) # p는 3\n",
    "plt.plot(x,y3)\n",
    "\n",
    "plt.subplot(2,2,4) # p는 4\n",
    "plt.plot(x,y4)\n",
    "\n",
    "plt.show()"
   ]
  },
  {
   "cell_type": "markdown",
   "metadata": {
    "colab_type": "text",
    "id": "PjQDTix5ZpBZ"
   },
   "source": [
    "##### **추가**\n",
    "- 보통 subplot은 for문과 함께 씀  \n",
    "상관관계를 조사한다고 생각해보자."
   ]
  },
  {
   "cell_type": "code",
   "execution_count": null,
   "metadata": {
    "colab": {},
    "colab_type": "code",
    "id": "F5V4NjR-ZpBZ"
   },
   "outputs": [],
   "source": [
    "try:\n",
    "    from sklearn.datasets import load_boston\n",
    "except ImportError as e:\n",
    "    !pip3 install scikit-learn\n",
    "    from sklearn.datasets import load_boston\n",
    "finally:\n",
    "    import pandas as pd"
   ]
  },
  {
   "cell_type": "code",
   "execution_count": null,
   "metadata": {
    "colab": {},
    "colab_type": "code",
    "id": "asrbrohmZpBe"
   },
   "outputs": [],
   "source": [
    "# boston 집 가격\n",
    "boston = load_boston()\n",
    "df = pd.DataFrame(boston.data, columns=boston.feature_names)\n",
    "y = boston.target\n"
   ]
  },
  {
   "cell_type": "code",
   "execution_count": null,
   "metadata": {
    "colab": {},
    "colab_type": "code",
    "id": "9JzVxbwHZpBj",
    "outputId": "464a5839-7ead-485b-9fe5-ff91fb0308d1"
   },
   "outputs": [],
   "source": [
    "df.shape # (506,14)"
   ]
  },
  {
   "cell_type": "code",
   "execution_count": null,
   "metadata": {
    "colab": {},
    "colab_type": "code",
    "id": "4FXWKU9HZpBo",
    "outputId": "cf1f72a2-26cd-4001-ab46-8f3e3e5a0dcb"
   },
   "outputs": [],
   "source": [
    "df.columns"
   ]
  },
  {
   "cell_type": "code",
   "execution_count": null,
   "metadata": {
    "colab": {},
    "colab_type": "code",
    "id": "BQdgtxCDZpBs",
    "outputId": "4c8a306e-7a96-42a1-b46e-6cf74924722c",
    "scrolled": false
   },
   "outputs": [],
   "source": [
    "columns = ['CRIM', 'ZN', 'INDUS', 'CHAS', 'NOX', 'RM', 'AGE', 'DIS', 'RAD', 'TAX', 'PTRATIO', 'B', 'LSTAT']\n",
    "\n",
    "fig,axs = plt.subplots(7, 2, figsize=(20,20))\n",
    "axs = axs.ravel()\n",
    "for ax, column in zip(axs, columns):\n",
    "    ax.plot(df[column], y, 'o')\n",
    "    ax.set_ylabel('price', fontsize=18)\n",
    "    ax.set_xlabel(column, fontsize=18)\n",
    "\n",
    "plt.tight_layout()"
   ]
  },
  {
   "cell_type": "markdown",
   "metadata": {
    "colab_type": "text",
    "id": "P-6ZhXebZpBw"
   },
   "source": [
    "**seaborn 사용하기**\n",
    "https://seaborn.pydata.org/"
   ]
  },
  {
   "cell_type": "code",
   "execution_count": null,
   "metadata": {
    "colab": {},
    "colab_type": "code",
    "id": "dhOrBrlQZpBw"
   },
   "outputs": [],
   "source": [
    "try:\n",
    "    import seaborn as sns\n",
    "except ImportError as e:\n",
    "    !pip install seaborn\n",
    "    import seaborn as sns"
   ]
  },
  {
   "cell_type": "code",
   "execution_count": null,
   "metadata": {
    "colab": {},
    "colab_type": "code",
    "id": "e4pS1q-cZpB0",
    "outputId": "0a3e3cc9-4f1b-411f-9789-76ffbe679525"
   },
   "outputs": [],
   "source": [
    "df.head()"
   ]
  },
  {
   "cell_type": "code",
   "execution_count": null,
   "metadata": {
    "colab": {},
    "colab_type": "code",
    "id": "To0pw0H6ZpB4",
    "outputId": "d4c59b9c-177e-49e4-8ae6-9529e21d6954"
   },
   "outputs": [],
   "source": [
    "df['price'] = y\n",
    "df.head()"
   ]
  },
  {
   "cell_type": "code",
   "execution_count": null,
   "metadata": {
    "colab": {},
    "colab_type": "code",
    "id": "UjSjpd5AZpB7",
    "outputId": "0cbe0bd6-75d7-4ede-d992-4342e13d8287"
   },
   "outputs": [],
   "source": [
    "\n"
   ]
  },
  {
   "cell_type": "code",
   "execution_count": null,
   "metadata": {
    "colab": {},
    "colab_type": "code",
    "id": "UtZyeKAzZpB_"
   },
   "outputs": [],
   "source": [
    "sns.pairplot(df.iloc[:, :3], corner=False)"
   ]
  },
  {
   "cell_type": "code",
   "execution_count": null,
   "metadata": {
    "colab": {},
    "colab_type": "code",
    "id": "dep0JGZmZpCB",
    "outputId": "8c74970d-f8bc-4e0e-d7d9-5073b15ed44a"
   },
   "outputs": [],
   "source": [
    "def hide_current_axis(*args, **kwds):\n",
    "    plt.gca().set_visible(False)\n",
    "pp = sns.pairplot(df.iloc[:, :3], corner=False)\n",
    "pp.map_upper(hide_current_axis)"
   ]
  },
  {
   "cell_type": "markdown",
   "metadata": {
    "colab_type": "text",
    "id": "7tOswCQZZpCF"
   },
   "source": [
    "#### 그래프의 출력 범위 지정하기"
   ]
  },
  {
   "cell_type": "code",
   "execution_count": null,
   "metadata": {
    "colab": {},
    "colab_type": "code",
    "id": "RPb9Sp4fZpCH",
    "outputId": "67c2a59e-6df8-4b6f-8e3b-847269282147"
   },
   "outputs": [],
   "source": [
    "import numpy as np\n",
    "\n",
    "x = np.linspace(-4, 4,100) # [-4, 4] 범위에서 100개의 값 생성\n",
    "y1 = x**3  \n",
    "y2 = 10*x**2 - 2\n",
    "\n",
    "plt.plot(x, y1, x, y2)\n",
    "plt.show()"
   ]
  },
  {
   "cell_type": "code",
   "execution_count": null,
   "metadata": {
    "colab": {},
    "colab_type": "code",
    "id": "ZIwmB4C7ZpCL",
    "outputId": "12da3d7a-6ddc-4d69-cdc0-61157dd5d17b"
   },
   "outputs": [],
   "source": [
    "plt.plot(x, y1, x, y2)\n",
    "plt.xlim(-1, 1)\n",
    "plt.ylim(-3, 3)\n",
    "plt.show()"
   ]
  },
  {
   "cell_type": "markdown",
   "metadata": {
    "colab_type": "text",
    "id": "xq9mcqajZpCR"
   },
   "source": [
    "###  그래프 꾸미기"
   ]
  },
  {
   "cell_type": "markdown",
   "metadata": {
    "colab_type": "text",
    "id": "y-2hcC4cZpCR"
   },
   "source": [
    "#### 출력 형식 지정"
   ]
  },
  {
   "cell_type": "code",
   "execution_count": null,
   "metadata": {
    "colab": {},
    "colab_type": "code",
    "id": "4ObKjIpcZpCT"
   },
   "outputs": [],
   "source": [
    "import numpy as np\n",
    "x = np.arange(0, 5, 1)\n",
    "y1 = x\n",
    "y2 = x + 1\n",
    "y3 = x + 2\n",
    "y4 = x + 3"
   ]
  },
  {
   "cell_type": "code",
   "execution_count": null,
   "metadata": {
    "colab": {},
    "colab_type": "code",
    "id": "adirngKPZpCW",
    "outputId": "39322e8e-d2cd-4200-b6e3-1a93aeb04a50"
   },
   "outputs": [],
   "source": [
    "# 자동으로 color\n",
    "plt.plot(x, y1, x, y2, x, y3, x, y4)\n",
    "plt.show()"
   ]
  },
  {
   "cell_type": "code",
   "execution_count": null,
   "metadata": {
    "colab": {},
    "colab_type": "code",
    "id": "tYge_qK7ZpCa",
    "outputId": "3a174242-ea20-46d1-d210-e0a4dce34290"
   },
   "outputs": [],
   "source": [
    "plt.plot(x, y1, 'm', x, y2,'y', x, y3, 'k', x, y4, 'c')\n",
    "plt.show()"
   ]
  },
  {
   "cell_type": "code",
   "execution_count": null,
   "metadata": {
    "colab": {},
    "colab_type": "code",
    "id": "-mFq5HkPZpCh",
    "outputId": "76e45649-a77c-41e8-a10c-660b45f16dbb"
   },
   "outputs": [],
   "source": [
    "plt.plot(x, y1, '-', x, y2, '--', x, y3, ':',  x, y4, '-.')\n",
    "\n",
    "plt.show()"
   ]
  },
  {
   "cell_type": "code",
   "execution_count": null,
   "metadata": {
    "colab": {},
    "colab_type": "code",
    "id": "jzIz94dyZpCn",
    "outputId": "520769af-23b9-4071-e9bf-30cff45486f3"
   },
   "outputs": [],
   "source": [
    "plt.plot(x, y1, 'o', x, y2, '^',x, y3, 's', x, y4, 'd') # square, diamond\n",
    "plt.show()"
   ]
  },
  {
   "cell_type": "code",
   "execution_count": null,
   "metadata": {
    "colab": {},
    "colab_type": "code",
    "id": "o4qi8P7rZpCw",
    "outputId": "434bc5bb-997d-4da5-d067-8ef3129e4d35"
   },
   "outputs": [],
   "source": [
    "# scatter + line (순서 상관 X)\n",
    "plt.plot(x, y1, '>--r', x, y2, 's-g', x, y3, 'd:b', x, y4, '-.Xc')\n",
    "plt.show()"
   ]
  },
  {
   "cell_type": "markdown",
   "metadata": {
    "colab_type": "text",
    "id": "3kCi8WBbZpC3"
   },
   "source": [
    "#### 라벨, 제목, 격자, 범례, 문자열 표시"
   ]
  },
  {
   "cell_type": "code",
   "execution_count": null,
   "metadata": {
    "colab": {},
    "colab_type": "code",
    "id": "yQdVErzvZpC7",
    "outputId": "6c0507e7-1d06-4ab7-bc81-416f635d3068"
   },
   "outputs": [],
   "source": [
    "import numpy as np\n",
    "\n",
    "x = np.arange(-4.5, 5, 0.5)\n",
    "y = 2*x**3\n",
    "\n",
    "plt.plot(x,y)\n",
    "# subplot의 set_xlabel과 구별\n",
    "plt.xlabel('X-axis')\n",
    "plt.ylabel('Y-axis')\n",
    "plt.show()"
   ]
  },
  {
   "cell_type": "code",
   "execution_count": null,
   "metadata": {
    "colab": {},
    "colab_type": "code",
    "id": "H9YwxGOtZpDC"
   },
   "outputs": [],
   "source": []
  },
  {
   "cell_type": "code",
   "execution_count": null,
   "metadata": {
    "colab": {},
    "colab_type": "code",
    "id": "nrx35jC1ZpDH",
    "outputId": "f9c5133d-e155-4a8a-ee63-fb01d5ce5d65"
   },
   "outputs": [],
   "source": [
    "plt.plot(x,y)\n",
    "plt.xlabel('X-axis')\n",
    "plt.ylabel('Y-axis')\n",
    "plt.title('Graph title')\n",
    "plt.show()"
   ]
  },
  {
   "cell_type": "code",
   "execution_count": null,
   "metadata": {
    "colab": {},
    "colab_type": "code",
    "id": "w8ZC6Wu7ZpDQ",
    "outputId": "279e621c-4b1c-43b6-9495-0aa36ba8f116"
   },
   "outputs": [],
   "source": [
    "plt.plot(x,y)\n",
    "plt.xlabel('X-axis')\n",
    "plt.ylabel('Y-axis')\n",
    "plt.title('Graph title')\n",
    "plt.grid(True) # 'plt.grid()'도 가능\n",
    "# plt.grid()"
   ]
  },
  {
   "cell_type": "code",
   "execution_count": null,
   "metadata": {
    "colab": {},
    "colab_type": "code",
    "id": "hULSpkqmZpDa",
    "outputId": "e5f8ebb5-9507-4095-ef58-994350260b86"
   },
   "outputs": [],
   "source": [
    "import numpy as np\n",
    "x = np.arange(0, 5, 1)\n",
    "y1 = x\n",
    "y2 = x + 1\n",
    "y3 = x + 2\n",
    "y4 = x + 3\n",
    "\n",
    "plt.plot(x, y1, '>--r', x, y2, 's-g', x, y3, 'd:b', x, y4, '-.Xc')\n",
    "plt.legend(['data1', 'data2', 'data3', 'data4']) # legend(명각) - 범례\n",
    "plt.show()"
   ]
  },
  {
   "cell_type": "code",
   "execution_count": null,
   "metadata": {
    "colab": {},
    "colab_type": "code",
    "id": "08FppqZnZpDg",
    "outputId": "4a7ac91d-33ac-40b9-8454-39bc9c3f9113"
   },
   "outputs": [],
   "source": [
    "plt.plot(x, y1, '>--r', x, y2, 's-g', x, y3, 'd:b', x, y4, '-.Xc')\n",
    "plt.legend(['data1', 'data2', 'data3', 'data4'], loc = 'lower right') # legend 위치 (upper,lower), (left, right)\n",
    "plt.show()"
   ]
  },
  {
   "cell_type": "code",
   "execution_count": null,
   "metadata": {
    "colab": {},
    "colab_type": "code",
    "id": "2QXDheXSZpDk",
    "outputId": "33aa4da5-8c1c-45e7-c10b-35b904d00687"
   },
   "outputs": [],
   "source": [
    "plt.plot(x, y1, '>--r', x, y2, 's-g', x, y3, 'd:b', x, y4, '-.Xc')\n",
    "plt.legend(['data1', 'data2', 'data3', 'data4'], loc = 4)\n",
    "plt.xlabel('X-axis')\n",
    "plt.ylabel('Y-axis')\n",
    "plt.title('Graph title')\n",
    "plt.grid(True)"
   ]
  },
  {
   "cell_type": "code",
   "execution_count": null,
   "metadata": {
    "colab": {},
    "colab_type": "code",
    "id": "lEmPTqU5ZpDn",
    "outputId": "e78a4ad6-ac6f-44dd-c43c-3dd46be5cb4a"
   },
   "outputs": [],
   "source": [
    "plt.plot(x, y1, '>--r', x, y2, 's-g', x, y3, 'd:b', x, y4, '-.Xc')\n",
    "plt.legend(['데이터1', '데이터2', '데이터3', '데이터4'], loc = 4)\n",
    "plt.xlabel('X-축')\n",
    "plt.ylabel('Y-축')\n",
    "plt.title('샘플 그래프')\n",
    "plt.grid(True)"
   ]
  },
  {
   "cell_type": "code",
   "execution_count": null,
   "metadata": {
    "colab": {},
    "colab_type": "code",
    "id": "BA1G8ilyZpDq"
   },
   "outputs": [],
   "source": [
    "import matplotlib\n",
    "\n",
    "matplotlib.rcParams['font.family'] = 'Malgun Gothic'   # '맑은 고딕'으로 설정 \n",
    "matplotlib.rcParams['axes.unicode_minus'] = False"
   ]
  },
  {
   "cell_type": "markdown",
   "metadata": {
    "colab_type": "text",
    "id": "ENSxADUKZpDv"
   },
   "source": [
    "**[한글설정] platform 별로 다르게**"
   ]
  },
  {
   "cell_type": "code",
   "execution_count": null,
   "metadata": {
    "colab": {
     "base_uri": "https://localhost:8080/",
     "height": 34
    },
    "colab_type": "code",
    "executionInfo": {
     "elapsed": 731,
     "status": "ok",
     "timestamp": 1592198135058,
     "user": {
      "displayName": "신윤수",
      "photoUrl": "",
      "userId": "07762081172064821251"
     },
     "user_tz": -540
    },
    "id": "atRBXp0_ZpDw",
    "outputId": "7fd8a961-c5e7-40a9-da84-d76f55074d13"
   },
   "outputs": [],
   "source": [
    "# 맷플롯립 한글 폰트 지정\n",
    "import platform\n",
    "from matplotlib import font_manager, rc\n",
    "\n",
    "# 한글 설정시 마이너스 부호 깨지는 것 방지\n",
    "plt.rcParams['axes.unicode_minus'] = False\n",
    "\n",
    "if platform.system() == 'Darwin':\n",
    "    # mac\n",
    "    rc('font', family='AppleGothic')\n",
    "elif platform.system() == 'Windows':\n",
    "    # windows\n",
    "    path = \"c:/Windows/Fonts/malgun.ttf\"\n",
    "    font_name = font_manager.FontProperties(fname=path).get_name()\n",
    "    rc('font', family=font_name)\n",
    "else:\n",
    "    print('Unknown system... sorry~~~~')"
   ]
  },
  {
   "cell_type": "code",
   "execution_count": null,
   "metadata": {
    "colab": {},
    "colab_type": "code",
    "id": "8WkWtAqNZpD1"
   },
   "outputs": [],
   "source": []
  },
  {
   "cell_type": "code",
   "execution_count": null,
   "metadata": {
    "colab": {},
    "colab_type": "code",
    "id": "HOl2QpU_ZpD9",
    "outputId": "f373b43e-8476-4468-cf5f-3597417b25a8"
   },
   "outputs": [],
   "source": [
    "plt.plot(x, y1, '>--r', x, y2, 's-g', x, y3, 'd:b', x, y4, '-.Xc')\n",
    "plt.legend(['데이터1', '데이터2', '데이터3', '데이터4'], loc = 'best')\n",
    "plt.xlabel('X 축')\n",
    "plt.ylabel('Y 축')\n",
    "plt.title('그래프 제목')\n",
    "plt.grid(True)"
   ]
  },
  {
   "cell_type": "code",
   "execution_count": null,
   "metadata": {
    "colab": {},
    "colab_type": "code",
    "id": "O7HpO9MuZpED",
    "outputId": "29e1abf3-6d9b-402c-d3d9-de72e4e80f70"
   },
   "outputs": [],
   "source": [
    "plt.plot(x, y1, '>--r', x, y2, 's-g', x, y3, 'd:b', x, y4, '-.Xc')\n",
    "plt.text(0, 6, \"문자열 출력 1\") # 문자열 위치(x,y) 정해서 출력하기\n",
    "plt.text(0, 5, \"문자열 출력 2\")\n",
    "plt.text(3, 1, \"문자열 출력 3\")\n",
    "plt.text(3, 0, \"문자열 출력 4\")\n",
    "\n",
    "#추가\n",
    "plt.text(-2, 0, \"문자열 출력 5\")\n",
    "plt.show()"
   ]
  },
  {
   "cell_type": "markdown",
   "metadata": {
    "colab_type": "text",
    "id": "lAq2TgS1ZpEM"
   },
   "source": [
    "### 산점도"
   ]
  },
  {
   "cell_type": "code",
   "execution_count": null,
   "metadata": {
    "colab": {
     "base_uri": "https://localhost:8080/",
     "height": 330
    },
    "colab_type": "code",
    "executionInfo": {
     "elapsed": 1049,
     "status": "ok",
     "timestamp": 1592198482367,
     "user": {
      "displayName": "신윤수",
      "photoUrl": "",
      "userId": "07762081172064821251"
     },
     "user_tz": -540
    },
    "id": "OvwYBYYKZpEQ",
    "outputId": "6d698379-3ab6-44d0-edb6-dada912fc90d"
   },
   "outputs": [],
   "source": [
    "import matplotlib.pyplot as plt\n",
    "\n",
    "height = [165, 177, 160, 180, 185, 155, 172]   # 키 데이터\n",
    "weight = [62, 67, 55, 74, 90, 43, 64]   # 몸무게 데이터\n",
    "\n",
    "plt.scatter(height, weight)\n",
    "plt.xlabel('Height(m)')\n",
    "plt.ylabel('Weight(Kg)')\n",
    "plt.title('Height & Weight')\n",
    "plt.grid(True)"
   ]
  },
  {
   "cell_type": "code",
   "execution_count": null,
   "metadata": {
    "colab": {
     "base_uri": "https://localhost:8080/",
     "height": 265
    },
    "colab_type": "code",
    "executionInfo": {
     "elapsed": 894,
     "status": "ok",
     "timestamp": 1592198512768,
     "user": {
      "displayName": "신윤수",
      "photoUrl": "",
      "userId": "07762081172064821251"
     },
     "user_tz": -540
    },
    "id": "sSMNgPiFZpEU",
    "outputId": "18e95596-95c1-40bd-d7c1-eb5b8201938c"
   },
   "outputs": [],
   "source": [
    "plt.scatter(height, weight, s=500, c='r') # 마커 크기는(s=size) 500, 컬러는(c=color) 붉은색(red)\n",
    "plt.show()"
   ]
  },
  {
   "cell_type": "code",
   "execution_count": null,
   "metadata": {
    "colab": {},
    "colab_type": "code",
    "id": "3Kb725v8bszP"
   },
   "outputs": [],
   "source": [
    "import numpy as np"
   ]
  },
  {
   "cell_type": "code",
   "execution_count": null,
   "metadata": {
    "colab": {
     "base_uri": "https://localhost:8080/",
     "height": 265
    },
    "colab_type": "code",
    "executionInfo": {
     "elapsed": 1519,
     "status": "ok",
     "timestamp": 1592198620012,
     "user": {
      "displayName": "신윤수",
      "photoUrl": "",
      "userId": "07762081172064821251"
     },
     "user_tz": -540
    },
    "id": "LX5ItD20ZpEb",
    "outputId": "cd7170b0-78aa-404d-9657-32792e1693fa"
   },
   "outputs": [],
   "source": [
    "size = 100 * np.arange(1,8) # 데이터별로 마커의 크기 지정\n",
    "colors = ['r', 'g', 'b', 'c', 'm', 'k', 'y'] # 데이터별로 마커의 컬러 지정\n",
    "\n",
    "#! s와 color를 배열로 전달.\n",
    "#! 배열이 아니라면 plt에서 broadcast해서 같은색이 나옴.\n",
    "plt.scatter(height, weight, s=size, c=colors, alpha=0.2)\n",
    "plt.show()"
   ]
  },
  {
   "cell_type": "code",
   "execution_count": null,
   "metadata": {
    "colab": {},
    "colab_type": "code",
    "id": "bkScKwCNZpEg",
    "outputId": "b52a2d71-75f4-4439-acd8-140f3e817d6c"
   },
   "outputs": [],
   "source": [
    "import numpy as np\n",
    "\n",
    "city = ['서울', '인천', '대전', '대구', '울산', '부산', '광주']\n",
    "\n",
    "# 위도(latitude)와 경도(longitude)\n",
    "lat  = [37.56, 37.45, 36.35, 35.87, 35.53, 35.18, 35.16] \n",
    "lon = [126.97, 126.70, 127.38, 128.60, 129.31, 129.07, 126.85]\n",
    "\n",
    "# 인구 밀도(명/km^2): 2017년 통계청 자료\n",
    "pop_den = [16154, 2751, 2839, 2790, 1099, 4454, 2995]\n",
    "\n",
    "size = np.array(pop_den) * 0.2 # 마커의 크기 지정 \n",
    "colors = ['r', 'g', 'b', 'c', 'm', 'k', 'y'] # 마커의 컬러 지정\n",
    "\n",
    "\n",
    "#!! alpha: 투명도.\n",
    "plt.scatter(lon, lat, s=size, c=colors, alpha=0.5)\n",
    "plt.xlabel('경도(longitude)')\n",
    "plt.ylabel('위도(latitude)')\n",
    "plt.title('지역별 인구 밀도(2017)')\n",
    "\n",
    "for x, y, name in zip(lon, lat, city):\n",
    "    plt.text(x, y, name) # 위도 경도에 맞게 도시 이름 출력\n",
    "    # plt.text(x, y, name, fontdict={\"color\":'black', 'fontsize':15}) # 위도 경도에 맞게 도시 이름 출력\n",
    "\n",
    "plt.show()"
   ]
  },
  {
   "cell_type": "markdown",
   "metadata": {
    "colab_type": "text",
    "id": "VRUbXeOiZpEk"
   },
   "source": [
    "### 막대 그래프"
   ]
  },
  {
   "cell_type": "code",
   "execution_count": null,
   "metadata": {
    "colab": {},
    "colab_type": "code",
    "id": "QdEBVJu5ZpEl"
   },
   "outputs": [],
   "source": [
    "member_IDs = ['m_01', 'm_02', 'm_03', 'm_04'] # 회원 ID\n",
    "before_ex = [27, 35, 40, 33] # 운동 시작 전\n",
    "after_ex = [30, 38, 42, 37] # 운동 한 달 후"
   ]
  },
  {
   "cell_type": "code",
   "execution_count": null,
   "metadata": {
    "colab": {
     "base_uri": "https://localhost:8080/",
     "height": 265
    },
    "colab_type": "code",
    "executionInfo": {
     "elapsed": 831,
     "status": "ok",
     "timestamp": 1592199002788,
     "user": {
      "displayName": "신윤수",
      "photoUrl": "",
      "userId": "07762081172064821251"
     },
     "user_tz": -540
    },
    "id": "EOZYZlMjZpEo",
    "outputId": "4ac2926c-fe71-49f0-c34d-423b53d96f21"
   },
   "outputs": [],
   "source": [
    "import matplotlib.pyplot as plt\n",
    "import numpy as np\n",
    "\n",
    "n_data = len(member_IDs)     # 회원이 네 명이므로 전체 데이터 수는 4\n",
    "index = np.arange(n_data)   # NumPy를 이용해 배열 생성 (0, 1, 2, 3)\n",
    "plt.bar(index, before_ex)   # bar(x,y)에서 x=index, height=before_ex 로 지정\n",
    "plt.show()"
   ]
  },
  {
   "cell_type": "code",
   "execution_count": null,
   "metadata": {
    "colab": {
     "base_uri": "https://localhost:8080/",
     "height": 266
    },
    "colab_type": "code",
    "executionInfo": {
     "elapsed": 875,
     "status": "ok",
     "timestamp": 1592199013612,
     "user": {
      "displayName": "신윤수",
      "photoUrl": "",
      "userId": "07762081172064821251"
     },
     "user_tz": -540
    },
    "id": "HsTEQwlRZpEu",
    "outputId": "b256a14b-ab06-4f97-b90a-c10af4a943e2"
   },
   "outputs": [],
   "source": [
    "plt.bar(index, before_ex, tick_label = member_IDs)\n",
    "plt.show()"
   ]
  },
  {
   "cell_type": "code",
   "execution_count": null,
   "metadata": {
    "colab": {
     "base_uri": "https://localhost:8080/",
     "height": 266
    },
    "colab_type": "code",
    "executionInfo": {
     "elapsed": 894,
     "status": "ok",
     "timestamp": 1592199023472,
     "user": {
      "displayName": "신윤수",
      "photoUrl": "",
      "userId": "07762081172064821251"
     },
     "user_tz": -540
    },
    "id": "NgGw_yGvZpEz",
    "outputId": "2f6f012c-8614-4304-e3b5-947defe490ec"
   },
   "outputs": [],
   "source": [
    "colors=['r', 'g', 'b', 'm']\n",
    "plt.bar(index, before_ex, color = colors, tick_label = member_IDs)\n",
    "plt.show()"
   ]
  },
  {
   "cell_type": "code",
   "execution_count": null,
   "metadata": {
    "colab": {
     "base_uri": "https://localhost:8080/",
     "height": 266
    },
    "colab_type": "code",
    "executionInfo": {
     "elapsed": 851,
     "status": "ok",
     "timestamp": 1592199032830,
     "user": {
      "displayName": "신윤수",
      "photoUrl": "",
      "userId": "07762081172064821251"
     },
     "user_tz": -540
    },
    "id": "IYf8-z1WZpE2",
    "outputId": "758521dc-2afa-4526-f4b3-8256867294f1",
    "scrolled": true
   },
   "outputs": [],
   "source": [
    "plt.bar(index, before_ex, tick_label = member_IDs, width = 0.6)\n",
    "plt.show()"
   ]
  },
  {
   "cell_type": "code",
   "execution_count": null,
   "metadata": {
    "colab": {
     "base_uri": "https://localhost:8080/",
     "height": 265
    },
    "colab_type": "code",
    "executionInfo": {
     "elapsed": 1014,
     "status": "ok",
     "timestamp": 1592199057823,
     "user": {
      "displayName": "신윤수",
      "photoUrl": "",
      "userId": "07762081172064821251"
     },
     "user_tz": -540
    },
    "id": "u6zzZiLXZpE5",
    "outputId": "9f7aab53-9cbd-48ce-d1f2-b8642818e0c5"
   },
   "outputs": [],
   "source": [
    "#!! barh: bar horizon \n",
    "colors=['r', 'g', 'b', 'm']\n",
    "plt.barh(index, before_ex, color = colors, tick_label = member_IDs)\n",
    "plt.show()"
   ]
  },
  {
   "cell_type": "code",
   "execution_count": null,
   "metadata": {
    "colab": {
     "base_uri": "https://localhost:8080/",
     "height": 34
    },
    "colab_type": "code",
    "executionInfo": {
     "elapsed": 779,
     "status": "ok",
     "timestamp": 1592199066450,
     "user": {
      "displayName": "신윤수",
      "photoUrl": "",
      "userId": "07762081172064821251"
     },
     "user_tz": -540
    },
    "id": "fZ5CE3s3ZpE7",
    "outputId": "29ff2296-8c9b-44d9-9642-d54ac947bb1c"
   },
   "outputs": [],
   "source": [
    "index"
   ]
  },
  {
   "cell_type": "code",
   "execution_count": null,
   "metadata": {
    "colab": {},
    "colab_type": "code",
    "id": "i3VDu4OFZpE9",
    "outputId": "fb060e15-908d-4308-dc54-8d263d861d3a"
   },
   "outputs": [],
   "source": [
    "#! bar 넓이\n",
    "barWidth = 0.4\n",
    "\n",
    "#! bar 2개 그리기 # width 속성, label 속성\n",
    "plt.bar(index, before_ex, color='c', align='edge', width = barWidth, label='before')\n",
    "plt.bar(index + barWidth, after_ex , color='m', align='edge', width = barWidth, label='after')\n",
    "\n",
    "#! tick: 표시하는 단위\n",
    "plt.xticks(index + barWidth, member_IDs) #! (위치, 표시할 내용)\n",
    "plt.legend()\n",
    "plt.xlabel('회원 ID')\n",
    "plt.ylabel('윗몸일으키기 횟수')\n",
    "plt.title('운동 시작 전과 후의 근지구력(복근) 변화 비교')\n",
    "plt.show()"
   ]
  },
  {
   "cell_type": "markdown",
   "metadata": {
    "colab_type": "text",
    "id": "HeimXoqdZpE_"
   },
   "source": [
    "### 히스토그램"
   ]
  },
  {
   "cell_type": "code",
   "execution_count": null,
   "metadata": {
    "colab": {
     "base_uri": "https://localhost:8080/",
     "height": 318
    },
    "colab_type": "code",
    "executionInfo": {
     "elapsed": 1014,
     "status": "ok",
     "timestamp": 1592199182600,
     "user": {
      "displayName": "신윤수",
      "photoUrl": "",
      "userId": "07762081172064821251"
     },
     "user_tz": -540
    },
    "id": "tx_643u7ZpE_",
    "outputId": "e9ef68bb-70b7-47c8-9238-6f995e7b8482"
   },
   "outputs": [],
   "source": [
    "import matplotlib.pyplot as plt\n",
    "\n",
    "math = np.random.randint(1, 100, (100,))\n",
    "# math = [76, 82, 84, 83, 90, 86, 85, 92, 72, 71, 100, 87, 81, 76, 94, 78, 81, 60, 79, 69, 74, 87, 82, 68, 79]\n",
    "plt.hist(math)"
   ]
  },
  {
   "cell_type": "code",
   "execution_count": null,
   "metadata": {
    "colab": {
     "base_uri": "https://localhost:8080/",
     "height": 318
    },
    "colab_type": "code",
    "executionInfo": {
     "elapsed": 918,
     "status": "ok",
     "timestamp": 1592199218845,
     "user": {
      "displayName": "신윤수",
      "photoUrl": "",
      "userId": "07762081172064821251"
     },
     "user_tz": -540
    },
    "id": "G4N-YUlsd7cX",
    "outputId": "776d0d3a-95e8-4927-fbe1-da2d815f8a5a"
   },
   "outputs": [],
   "source": [
    "plt.hist(math, bins=4)"
   ]
  },
  {
   "cell_type": "code",
   "execution_count": null,
   "metadata": {
    "colab": {
     "base_uri": "https://localhost:8080/",
     "height": 265
    },
    "colab_type": "code",
    "executionInfo": {
     "elapsed": 852,
     "status": "ok",
     "timestamp": 1592199233096,
     "user": {
      "displayName": "신윤수",
      "photoUrl": "",
      "userId": "07762081172064821251"
     },
     "user_tz": -540
    },
    "id": "AB1Vwa1fZpFE",
    "outputId": "09778670-8c77-409e-af18-5928b765dec7"
   },
   "outputs": [],
   "source": [
    "plt.hist(math, bins= 8) # 막대의 개수\n",
    "plt.show()"
   ]
  },
  {
   "cell_type": "code",
   "execution_count": null,
   "metadata": {
    "colab": {},
    "colab_type": "code",
    "id": "L2aj4Ie_ZpFJ",
    "outputId": "6ddc9ba2-259a-46b3-f6a6-d2dec65ca8b9"
   },
   "outputs": [],
   "source": [
    "plt.hist(math, bins= 8)\n",
    "plt.xlabel('시험 점수')\n",
    "plt.ylabel('도수(frequency)')\n",
    "plt.title('수학 시험의 히스토그램')\n",
    "plt.grid()\n",
    "plt.show()"
   ]
  },
  {
   "cell_type": "markdown",
   "metadata": {
    "colab_type": "text",
    "id": "WZpsS_UDZpFN"
   },
   "source": [
    "### 파이 그래프"
   ]
  },
  {
   "cell_type": "code",
   "execution_count": null,
   "metadata": {
    "colab": {},
    "colab_type": "code",
    "id": "LkLuil00ZpFP"
   },
   "outputs": [],
   "source": [
    "fruit = ['사과', '바나나', '딸기', '오렌지', '포도']\n",
    "result = [7, 6, 3, 2, 2]"
   ]
  },
  {
   "cell_type": "code",
   "execution_count": null,
   "metadata": {
    "colab": {
     "base_uri": "https://localhost:8080/",
     "height": 248
    },
    "colab_type": "code",
    "executionInfo": {
     "elapsed": 874,
     "status": "ok",
     "timestamp": 1592199604344,
     "user": {
      "displayName": "신윤수",
      "photoUrl": "",
      "userId": "07762081172064821251"
     },
     "user_tz": -540
    },
    "id": "9cpdZazlZpFT",
    "outputId": "a65910e3-407f-4351-c4d5-30627713b4f1"
   },
   "outputs": [],
   "source": [
    "import matplotlib.pyplot as plt\n",
    "\n",
    "#! pie 그래프\n",
    "plt.pie(result)\n",
    "plt.show()"
   ]
  },
  {
   "cell_type": "code",
   "execution_count": null,
   "metadata": {
    "colab": {},
    "colab_type": "code",
    "id": "lvC9KLFuZpFW",
    "outputId": "133b9f21-0b64-4da6-c20b-afea3ef6fcb8"
   },
   "outputs": [],
   "source": [
    "plt.figure(figsize=(8,8)) # size 지정.\n",
    "plt.pie(result)\n",
    "plt.show()"
   ]
  },
  {
   "cell_type": "code",
   "execution_count": null,
   "metadata": {
    "colab": {},
    "colab_type": "code",
    "id": "NVqS9IM3ZpFf",
    "outputId": "12d4c977-1d48-46a4-a0c6-88026f34015e"
   },
   "outputs": [],
   "source": [
    "fruit, result"
   ]
  },
  {
   "cell_type": "code",
   "execution_count": null,
   "metadata": {
    "colab": {
     "base_uri": "https://localhost:8080/",
     "height": 1000
    },
    "colab_type": "code",
    "executionInfo": {
     "elapsed": 992,
     "status": "ok",
     "timestamp": 1592199674792,
     "user": {
      "displayName": "신윤수",
      "photoUrl": "",
      "userId": "07762081172064821251"
     },
     "user_tz": -540
    },
    "id": "YVf0i_RgZpFi",
    "outputId": "0a0ce9cf-2a1c-4123-9008-0d6df263e95e",
    "scrolled": true
   },
   "outputs": [],
   "source": [
    "# 자동으로 %로 변환\n",
    "plt.figure(figsize=(5,5))\n",
    "plt.pie(result, labels= fruit, autopct='%.1f%%') # auto percent (소수점 첫째자리까지)하고, 뒤에 % 붙임.\n",
    "plt.show()"
   ]
  },
  {
   "cell_type": "code",
   "execution_count": null,
   "metadata": {
    "colab": {},
    "colab_type": "code",
    "id": "9frMDeX9ZpFl",
    "outputId": "206f8cc6-283d-4274-c7d0-c6a16d75c982"
   },
   "outputs": [],
   "source": [
    "plt.figure(figsize=(5,5))\n",
    "plt.pie(result, labels= fruit, autopct='%.1f%%', startangle=90) # !! 90도 회전 시계방향\n",
    "plt.show()\n"
   ]
  },
  {
   "cell_type": "code",
   "execution_count": null,
   "metadata": {
    "colab": {},
    "colab_type": "code",
    "id": "20jeWfc3ZpFn",
    "outputId": "1daa122d-6b4d-4177-b514-45019c365436"
   },
   "outputs": [],
   "source": [
    "plt.pie(result, labels= fruit, autopct='%.1f%%', startangle=-30, counterclock = False) # 90도 회전 (시계 반대방향으로)\n",
    "plt.show()"
   ]
  },
  {
   "cell_type": "code",
   "execution_count": null,
   "metadata": {
    "colab": {},
    "colab_type": "code",
    "id": "AYIPF8YRZpFs",
    "outputId": "0389749e-8ab9-48f3-b326-50d51e9bbd3d"
   },
   "outputs": [],
   "source": [
    "explode_value = (0.1, 0, 0, 0, 0)\n",
    "\n",
    "plt.figure(figsize=(5,5))\n",
    "\n",
    "#!! 그림자 & explode\n",
    "plt.pie(result, labels= fruit, autopct='%.1f%%', startangle=90, counterclock = False, explode=explode_value, shadow=True)\n",
    "plt.show()"
   ]
  },
  {
   "cell_type": "markdown",
   "metadata": {
    "colab_type": "text",
    "collapsed": true,
    "id": "0gJ7Hb32ZpFx"
   },
   "source": [
    "### 그래프 저장하기"
   ]
  },
  {
   "cell_type": "code",
   "execution_count": null,
   "metadata": {
    "colab": {},
    "colab_type": "code",
    "id": "4gyqYIOEZpFy"
   },
   "outputs": [],
   "source": [
    "## !! Default값 바꿀수 있음.d\n",
    "import matplotlib as mpl\n",
    "mpl.rcParams['figure.figsize']\n",
    "mpl.rcParams['figure.figsize'] = (15,5)"
   ]
  },
  {
   "cell_type": "code",
   "execution_count": null,
   "metadata": {
    "colab": {},
    "colab_type": "code",
    "id": "uEGQ7gcqZpF2",
    "outputId": "c4bcc165-6592-4d65-e73d-0afe2af1869f"
   },
   "outputs": [],
   "source": [
    "mpl.rcParams['figure.dpi']"
   ]
  },
  {
   "cell_type": "code",
   "execution_count": null,
   "metadata": {
    "colab": {
     "base_uri": "https://localhost:8080/",
     "height": 524
    },
    "colab_type": "code",
    "executionInfo": {
     "elapsed": 1782,
     "status": "ok",
     "timestamp": 1592199793857,
     "user": {
      "displayName": "신윤수",
      "photoUrl": "",
      "userId": "07762081172064821251"
     },
     "user_tz": -540
    },
    "id": "bQ2BuV_XZpF6",
    "outputId": "90b46f7a-f029-43e4-953b-7f3af3efeda4",
    "scrolled": true
   },
   "outputs": [],
   "source": [
    "import numpy as np\n",
    "import matplotlib.pyplot as plt\n",
    "\n",
    "x = np.arange(0, 5, 1)\n",
    "y1 = x\n",
    "y2 = x + 1\n",
    "y3 = x + 2\n",
    "y4 = x + 3\n",
    "\n",
    "plt.plot(x, y1, x, y2, x, y3, x, y4)\n",
    "\n",
    "plt.grid(True)\n",
    "plt.xlabel('x')\n",
    "plt.ylabel('y')\n",
    "plt.title('Saving a figure')\n",
    "\n",
    "#!! 그래프를 이미지 파일로 저장. dpi는 100으로 설정 (해상도)\n",
    "plt.savefig('saveFigTest1.png', dpi = 100) \n",
    "plt.show()"
   ]
  },
  {
   "cell_type": "code",
   "execution_count": null,
   "metadata": {
    "colab": {},
    "colab_type": "code",
    "id": "TRr_YEKNZpF-",
    "outputId": "1a1450da-5ebe-4e0e-8114-c7adca5df185"
   },
   "outputs": [],
   "source": [
    "import matplotlib.pyplot as plt\n",
    "\n",
    "fruit = ['사과', '바나나', '딸기', '오렌지', '포도']\n",
    "result = [7, 6, 3, 2, 2]\n",
    "explode_value = (0.1, 0, 0, 0, 0)\n",
    "\n",
    "plt.figure(figsize=(5,5)) # 그래프의 크기를 지정\n",
    "plt.pie(result, labels= fruit, autopct='%.1f%%', startangle=90, counterclock = False, explode=explode_value, shadow=True)\n",
    "\n",
    "# 그래프를 이미지 파일로 저장. dpi는 200으로 설정\n",
    "plt.savefig('saveFigTest2.png', dpi = 200)\n",
    "plt.show()"
   ]
  },
  {
   "cell_type": "markdown",
   "metadata": {
    "colab_type": "text",
    "id": "nJPaxLFRZpGA"
   },
   "source": [
    "## pandas로 그래프 그리기"
   ]
  },
  {
   "cell_type": "markdown",
   "metadata": {
    "colab_type": "text",
    "id": "11KpxgMVZpGA"
   },
   "source": [
    "### pandas의 그래프 구조"
   ]
  },
  {
   "cell_type": "markdown",
   "metadata": {
    "colab_type": "text",
    "id": "HQyruIvCZpGB"
   },
   "source": [
    "### pandas의 선 그래프"
   ]
  },
  {
   "cell_type": "code",
   "execution_count": null,
   "metadata": {
    "colab": {
     "base_uri": "https://localhost:8080/",
     "height": 210
    },
    "colab_type": "code",
    "executionInfo": {
     "elapsed": 824,
     "status": "ok",
     "timestamp": 1592199903843,
     "user": {
      "displayName": "신윤수",
      "photoUrl": "",
      "userId": "07762081172064821251"
     },
     "user_tz": -540
    },
    "id": "AIr9B4BzZpGB",
    "outputId": "ba9cca02-35f3-4298-81b7-aa568c6098fa"
   },
   "outputs": [],
   "source": [
    "import pandas as pd\n",
    "import matplotlib.pyplot as plt\n",
    "\n",
    "s1 = pd.Series([1,2,3,4,5,6,7,8,9,10])\n",
    "s1"
   ]
  },
  {
   "cell_type": "code",
   "execution_count": null,
   "metadata": {
    "colab": {
     "base_uri": "https://localhost:8080/",
     "height": 320
    },
    "colab_type": "code",
    "executionInfo": {
     "elapsed": 3338,
     "status": "ok",
     "timestamp": 1592199927719,
     "user": {
      "displayName": "신윤수",
      "photoUrl": "",
      "userId": "07762081172064821251"
     },
     "user_tz": -540
    },
    "id": "le4-PwvpZpGD",
    "outputId": "8f6fee51-453c-45b8-9897-2d5d5c58ab91"
   },
   "outputs": [],
   "source": [
    "s1.plot()\n",
    "plt.show()"
   ]
  },
  {
   "cell_type": "code",
   "execution_count": null,
   "metadata": {
    "colab": {
     "base_uri": "https://localhost:8080/",
     "height": 210
    },
    "colab_type": "code",
    "executionInfo": {
     "elapsed": 908,
     "status": "ok",
     "timestamp": 1592199943704,
     "user": {
      "displayName": "신윤수",
      "photoUrl": "",
      "userId": "07762081172064821251"
     },
     "user_tz": -540
    },
    "id": "5W0Xx4n2ZpGF",
    "outputId": "7bdb5b8a-1e57-4b80-fd0c-2c240645370a"
   },
   "outputs": [],
   "source": [
    "s2 = pd.Series([1,2,3,4,5,6,7,8,9,10], index = pd.date_range('2019-01-01', periods=10))\n",
    "s2"
   ]
  },
  {
   "cell_type": "code",
   "execution_count": null,
   "metadata": {
    "colab": {
     "base_uri": "https://localhost:8080/",
     "height": 343
    },
    "colab_type": "code",
    "executionInfo": {
     "elapsed": 1041,
     "status": "ok",
     "timestamp": 1592199949241,
     "user": {
      "displayName": "신윤수",
      "photoUrl": "",
      "userId": "07762081172064821251"
     },
     "user_tz": -540
    },
    "id": "q8j-eaBMZpGI",
    "outputId": "6e67b2c0-f091-4493-dfb9-76b2cc30aa06"
   },
   "outputs": [],
   "source": [
    "s2.plot()\n",
    "plt.show()"
   ]
  },
  {
   "cell_type": "code",
   "execution_count": null,
   "metadata": {
    "colab": {},
    "colab_type": "code",
    "id": "zGQKAsQQZpGM",
    "outputId": "6540ae4e-49bc-41af-d269-5efa8f33ccfc"
   },
   "outputs": [],
   "source": [
    "s2.plot(grid=True)\n",
    "plt.show()"
   ]
  },
  {
   "cell_type": "code",
   "execution_count": null,
   "metadata": {
    "colab": {},
    "colab_type": "code",
    "id": "7u0Gvmu9ZpGQ",
    "outputId": "71794bde-a34d-45f4-b051-9b47dd8a3cb3"
   },
   "outputs": [],
   "source": [
    "df_rain = pd.read_csv('./data/sea_rain1_from_notepad.csv', index_col=\"연도\", encoding='cp949' )\n",
    "df_rain"
   ]
  },
  {
   "cell_type": "code",
   "execution_count": null,
   "metadata": {
    "colab": {},
    "colab_type": "code",
    "id": "59Nq1dR3ZpGW"
   },
   "outputs": [],
   "source": [
    "import matplotlib\n",
    "matplotlib.rcParams['font.family'] = 'Malgun Gothic'# '맑은 고딕'으로 설정 \n",
    "matplotlib.rcParams['axes.unicode_minus'] = False\n",
    "\n"
   ]
  },
  {
   "cell_type": "code",
   "execution_count": null,
   "metadata": {
    "colab": {},
    "colab_type": "code",
    "id": "x8jpU6FOZpGi",
    "outputId": "1a8d8df4-eda9-4e0c-9407-565bd76f7def"
   },
   "outputs": [],
   "source": [
    "df_rain.plot()\n",
    "plt.show()"
   ]
  },
  {
   "cell_type": "code",
   "execution_count": null,
   "metadata": {
    "colab": {},
    "colab_type": "code",
    "id": "hkRUbs2BZpGm",
    "outputId": "569eade1-f805-4bb8-f54d-d401a22ac98e"
   },
   "outputs": [],
   "source": [
    "rain_plot = df_rain.plot(grid = True, style = ['r--*', 'g-o', 'b:*', 'm-.p'])\n",
    "rain_plot.set_xlabel(\"연도\")\n",
    "rain_plot.set_ylabel(\"강수량\")\n",
    "rain_plot.set_title(\"연간 강수량\")\n",
    "plt.show()"
   ]
  },
  {
   "cell_type": "code",
   "execution_count": null,
   "metadata": {
    "colab": {},
    "colab_type": "code",
    "id": "Iq0SODR8ZpGq",
    "outputId": "df2abd52-6ec2-4ea2-eafd-c9b6d2b5ee4d"
   },
   "outputs": [],
   "source": [
    "year = [2006, 2008, 2010, 2012, 2014, 2016] # 연도\n",
    "area = [26.2, 27.8, 28.5, 31.7, 33.5, 33.2] # 1인당 주거면적\n",
    "table = {'연도':year, '주거면적':area}\n",
    "df_area = pd.DataFrame(table, columns=['연도', '주거면적'])\n",
    "df_area"
   ]
  },
  {
   "cell_type": "markdown",
   "metadata": {
    "colab_type": "text",
    "id": "rjOG3OT3ZpGt"
   },
   "source": [
    "- DataFrame.plot"
   ]
  },
  {
   "cell_type": "code",
   "execution_count": null,
   "metadata": {
    "colab": {},
    "colab_type": "code",
    "id": "ISkhDzNwZpGt",
    "outputId": "9abbb2bd-550a-4996-ccdd-c1a433d95f90",
    "scrolled": true
   },
   "outputs": [],
   "source": [
    "df_area.plot(x='연도', y='주거면적', grid = True, title = '연도별 1인당 주거면적')\n",
    "plt.show()"
   ]
  },
  {
   "cell_type": "markdown",
   "metadata": {
    "colab_type": "text",
    "id": "6Vexw_YfZpGv"
   },
   "source": [
    "### pandas의 산점도"
   ]
  },
  {
   "cell_type": "code",
   "execution_count": null,
   "metadata": {
    "colab": {},
    "colab_type": "code",
    "id": "XztlUiU9ZpGv",
    "outputId": "6f7c36eb-3c24-49b2-a667-8b06d324a06f"
   },
   "outputs": [],
   "source": [
    "import matplotlib.pyplot as plt\n",
    "import pandas as pd\n",
    "\n",
    "temperature = [25.2, 27.4, 22.9, 26.2, 29.5, 33.1, 30.4, 36.1, 34.4, 29.1]\n",
    "Ice_cream_sales = [236500, 357500, 203500, 365200, 446600, 574200, 453200, 675400, 598400, 463100]\n",
    "\n",
    "dict_data = {'기온':temperature, '아이스크림 판매량':Ice_cream_sales}\n",
    "df_ice_cream = pd.DataFrame(dict_data, columns=['기온', '아이스크림 판매량'])\n",
    "\n",
    "df_ice_cream"
   ]
  },
  {
   "cell_type": "code",
   "execution_count": null,
   "metadata": {
    "colab": {},
    "colab_type": "code",
    "id": "W3z9Doe3ZpGy",
    "outputId": "0b6c15da-bd13-45db-b0c4-43a154e9a212"
   },
   "outputs": [],
   "source": [
    "df_ice_cream.plot.scatter('기온', '아이스크림 판매량', grid=True, title='최고 기온과 아이스크림 판매량')\n",
    "# df_ice_cream.plot.scatter(x='기온', y='아이스크림 판매량', grid=True, title='최고 기온과 아이스크림 판매량')\n",
    "plt.show()"
   ]
  },
  {
   "cell_type": "markdown",
   "metadata": {
    "colab_type": "text",
    "id": "C5GUWO2uZpG0"
   },
   "source": [
    "### pandas의 막대 그래프"
   ]
  },
  {
   "cell_type": "code",
   "execution_count": null,
   "metadata": {
    "colab": {},
    "colab_type": "code",
    "id": "VQCF3NtoZpG0",
    "outputId": "9ca68728-c43a-4934-844d-1eb329000f70"
   },
   "outputs": [],
   "source": [
    "import matplotlib.pyplot as plt\n",
    "import pandas as pd\n",
    "\n",
    "grade_num = [5, 14, 12, 3]\n",
    "students = ['A', 'B', 'C', 'D']\n",
    "\n",
    "df_grade = pd.DataFrame(grade_num, index=students, columns = ['Student'])\n",
    "df_grade"
   ]
  },
  {
   "cell_type": "code",
   "execution_count": null,
   "metadata": {
    "colab": {},
    "colab_type": "code",
    "id": "mZYIzeDpZpG3",
    "outputId": "cf23f11c-0ac7-4e56-f555-32aae8451112"
   },
   "outputs": [],
   "source": [
    "grade_bar = df_grade.plot.bar(grid = True)\n",
    "grade_bar.set_xlabel(\"학점\")\n",
    "grade_bar.set_ylabel(\"학생수\")\n",
    "grade_bar.set_title(\"학점별 학생 수 막대 그래프\")\n",
    "plt.show()"
   ]
  },
  {
   "cell_type": "markdown",
   "metadata": {
    "colab_type": "text",
    "id": "HGJfri3xZpG5"
   },
   "source": [
    "### pandas의 히스토그램"
   ]
  },
  {
   "cell_type": "code",
   "execution_count": null,
   "metadata": {
    "colab": {},
    "colab_type": "code",
    "id": "N7Rk-f_hZpG6",
    "outputId": "e662b6f0-f3b2-46d7-b0be-5252fc96bb6b"
   },
   "outputs": [],
   "source": [
    "import matplotlib.pyplot as plt\n",
    "import pandas as pd\n",
    "\n",
    "math = [76,82,84,83,90,86,85,92,72,71,100,87,81,76,94,78,81,60,79,69,74,87,82,68,79]\n",
    "\n",
    "df_math = pd.DataFrame(math, columns = ['Student'])\n",
    "\n",
    "math_hist = df_math.plot.hist(bins=8, grid = True)\n",
    "math_hist.set_xlabel(\"시험 점수\")\n",
    "math_hist.set_ylabel(\"도수(frequency)\")\n",
    "math_hist.set_title(\"수학 시험의 히스토그램\")\n",
    "\n",
    "plt.show()"
   ]
  },
  {
   "cell_type": "markdown",
   "metadata": {
    "colab_type": "text",
    "id": "3n-IBH69ZpG-"
   },
   "source": [
    "### pandas의 파이 그래프"
   ]
  },
  {
   "cell_type": "code",
   "execution_count": null,
   "metadata": {
    "colab": {},
    "colab_type": "code",
    "id": "pRgXdexSZpHA",
    "outputId": "20f331a3-2d40-4d27-ac5c-5fdc4ef0fb5d"
   },
   "outputs": [],
   "source": [
    "import matplotlib.pyplot as plt\n",
    "import pandas as pd\n",
    "\n",
    "fruit = ['사과', '바나나', '딸기', '오렌지', '포도']\n",
    "result = [7, 6, 3, 2, 2]\n",
    "\n",
    "df_fruit = pd.Series(result, index = fruit, name = '선택한 학생수')\n",
    "df_fruit"
   ]
  },
  {
   "cell_type": "code",
   "execution_count": null,
   "metadata": {
    "colab": {},
    "colab_type": "code",
    "id": "sA_fT_rDZpHC",
    "outputId": "8b51bb22-b08d-4825-a28d-f8844538690c"
   },
   "outputs": [],
   "source": [
    "df_fruit.plot.pie()\n",
    "plt.show()"
   ]
  },
  {
   "cell_type": "code",
   "execution_count": null,
   "metadata": {
    "colab": {},
    "colab_type": "code",
    "id": "FTAq79FzZpHQ",
    "outputId": "70d43ced-1b70-4aca-ca26-c9537ef5d3df"
   },
   "outputs": [],
   "source": [
    "explode_value = (0.1, 0, 0, 0, 0)\n",
    "fruit_pie = df_fruit.plot.pie(figsize=(5, 5), autopct='%.1f%%', startangle=90, \n",
    "    counterclock = False, explode=explode_value, shadow=True, table=True)\n",
    "fruit_pie.set_ylabel(\"\") # 불필요한 y축 라벨 제거\n",
    "fruit_pie.set_title(\"과일 선호도 조사 결과\")\n",
    "\n",
    "# 그래프를 이미지 파일로 저장. dpi는 200으로 설정\n",
    "plt.savefig('saveFigTest3.png', dpi = 200)\n",
    "plt.show()"
   ]
  },
  {
   "cell_type": "markdown",
   "metadata": {
    "colab_type": "text",
    "id": "X8uJTuL8ZpHT"
   },
   "source": [
    "## 정리"
   ]
  },
  {
   "cell_type": "code",
   "execution_count": null,
   "metadata": {
    "colab": {},
    "colab_type": "code",
    "id": "kKAoIH-EhKFN"
   },
   "outputs": [],
   "source": [
    "from sklearn.datasets import load_boston"
   ]
  },
  {
   "cell_type": "code",
   "execution_count": null,
   "metadata": {
    "colab": {},
    "colab_type": "code",
    "id": "Iddm9u08hJ-a"
   },
   "outputs": [],
   "source": [
    "boston_origin = load_boston()\n",
    "X = boston_origin.data\n",
    "y = boston_origin.target"
   ]
  },
  {
   "cell_type": "code",
   "execution_count": null,
   "metadata": {
    "colab": {},
    "colab_type": "code",
    "id": "LpIMTWJThJ1A"
   },
   "outputs": [],
   "source": [
    "import pandas as pd\n",
    "boston = pd.DataFrame(X, columns=boston_origin.feature_names)"
   ]
  },
  {
   "cell_type": "code",
   "execution_count": null,
   "metadata": {
    "colab": {
     "base_uri": "https://localhost:8080/",
     "height": 195
    },
    "colab_type": "code",
    "executionInfo": {
     "elapsed": 1052,
     "status": "ok",
     "timestamp": 1592200182604,
     "user": {
      "displayName": "신윤수",
      "photoUrl": "",
      "userId": "07762081172064821251"
     },
     "user_tz": -540
    },
    "id": "HXlSGumAhf_j",
    "outputId": "f1183972-c340-4bcc-824a-a7a69da6df73"
   },
   "outputs": [],
   "source": [
    "boston.head()"
   ]
  },
  {
   "cell_type": "code",
   "execution_count": null,
   "metadata": {
    "colab": {},
    "colab_type": "code",
    "id": "1CpldG7KhiTC"
   },
   "outputs": [],
   "source": [
    "boston.hist()"
   ]
  },
  {
   "cell_type": "code",
   "execution_count": null,
   "metadata": {
    "colab": {
     "base_uri": "https://localhost:8080/",
     "height": 868
    },
    "colab_type": "code",
    "executionInfo": {
     "elapsed": 2598,
     "status": "ok",
     "timestamp": 1592200325934,
     "user": {
      "displayName": "신윤수",
      "photoUrl": "",
      "userId": "07762081172064821251"
     },
     "user_tz": -540
    },
    "id": "28hIvNdXhsT8",
    "outputId": "21c99004-24c1-466b-a176-43574eee9f7f"
   },
   "outputs": [],
   "source": [
    "import seaborn as sns\n",
    "plt.figure(figsize=(15,15))\n",
    "sns.heatmap(boston.corr('pearson'), square=True, annot=True)\n"
   ]
  },
  {
   "cell_type": "code",
   "execution_count": null,
   "metadata": {
    "colab": {},
    "colab_type": "code",
    "id": "1u9zPA2Kh7AB"
   },
   "outputs": [],
   "source": []
  }
 ],
 "metadata": {
  "anaconda-cloud": {},
  "colab": {
   "collapsed_sections": [
    "87QdwHlZZpA8",
    "7tOswCQZZpCF",
    "11KpxgMVZpGA",
    "6Vexw_YfZpGv",
    "C5GUWO2uZpG0",
    "HGJfri3xZpG5",
    "3n-IBH69ZpG-"
   ],
   "name": "matplotlib.ipynb",
   "provenance": []
  },
  "kernelspec": {
   "display_name": "Python 3",
   "language": "python",
   "name": "python3"
  },
  "language_info": {
   "codemirror_mode": {
    "name": "ipython",
    "version": 3
   },
   "file_extension": ".py",
   "mimetype": "text/x-python",
   "name": "python",
   "nbconvert_exporter": "python",
   "pygments_lexer": "ipython3",
   "version": "3.8.3"
  },
  "latex_envs": {
   "LaTeX_envs_menu_present": true,
   "autoclose": false,
   "autocomplete": true,
   "bibliofile": "biblio.bib",
   "cite_by": "apalike",
   "current_citInitial": 1,
   "eqLabelWithNumbers": true,
   "eqNumInitial": 1,
   "hotkeys": {
    "equation": "Ctrl-E",
    "itemize": "Ctrl-I"
   },
   "labels_anchors": false,
   "latex_user_defs": false,
   "report_style_numbering": false,
   "user_envs_cfg": false
  },
  "nav_menu": {},
  "toc": {
   "nav_menu": {
    "height": "419px",
    "width": "252px"
   },
   "number_sections": false,
   "sideBar": true,
   "skip_h1_title": false,
   "toc_cell": false,
   "toc_position": {
    "height": "545px",
    "left": "0px",
    "right": "1154px",
    "top": "111px",
    "width": "212px"
   },
   "toc_section_display": "block",
   "toc_window_display": false
  },
  "toc_position": {
   "height": "552px",
   "left": "0px",
   "right": "1051px",
   "top": "107px",
   "width": "315px"
  }
 },
 "nbformat": 4,
 "nbformat_minor": 1
}
