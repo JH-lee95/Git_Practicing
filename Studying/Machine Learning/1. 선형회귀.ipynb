{
 "cells": [
  {
   "cell_type": "markdown",
   "metadata": {},
   "source": [
    "## 최소제곱법 (Least Squared Method) \n",
    "\n",
    ": 회귀식의 최적의 1차 함수 그래프를 찾는 수식(기울기를 구함),\n",
    "\n",
    "\n",
    "1. 시그마[(x-x의 평균)(y-y의 평균)] / 시그마(x-x의 평균)^2\n",
    "\n",
    "\n",
    "\n",
    "2. y절편 = y의평균 - (x의평균 * 기울기)\n",
    "\n"
   ]
  },
  {
   "cell_type": "code",
   "execution_count": 22,
   "metadata": {},
   "outputs": [],
   "source": [
    "import numpy as np\n",
    "import matplotlib.pyplot as plt"
   ]
  },
  {
   "cell_type": "code",
   "execution_count": 115,
   "metadata": {},
   "outputs": [
    {
     "data": {
      "text/plain": [
       "(5.0, 90.5)"
      ]
     },
     "execution_count": 115,
     "metadata": {},
     "output_type": "execute_result"
    }
   ],
   "source": [
    "x=[2,4,6,8]\n",
    "y=[81,93,91,97]\n",
    "\n",
    "mx=np.mean(x)\n",
    "my=np.mean(y)\n",
    "\n",
    "mx,my"
   ]
  },
  {
   "cell_type": "code",
   "execution_count": 116,
   "metadata": {},
   "outputs": [],
   "source": [
    "divisor=sum([(mx-i)**2 for i in x])\n",
    "\n",
    "numerator=sum([(i-mx)*(j-my) for i,j in zip(x,y)])"
   ]
  },
  {
   "cell_type": "code",
   "execution_count": 117,
   "metadata": {},
   "outputs": [],
   "source": [
    "inclination=numerator/divisor #기울기"
   ]
  },
  {
   "cell_type": "code",
   "execution_count": 118,
   "metadata": {},
   "outputs": [
    {
     "data": {
      "text/plain": [
       "79.0"
      ]
     },
     "execution_count": 118,
     "metadata": {},
     "output_type": "execute_result"
    }
   ],
   "source": [
    "b=my-(mx*inclination)\n",
    "b"
   ]
  },
  {
   "cell_type": "code",
   "execution_count": 119,
   "metadata": {},
   "outputs": [
    {
     "data": {
      "text/plain": [
       "[<matplotlib.lines.Line2D at 0x2b4460e9048>]"
      ]
     },
     "execution_count": 119,
     "metadata": {},
     "output_type": "execute_result"
    },
    {
     "data": {
      "image/png": "[encoded data removed]",
      "text/plain": [
       "<Figure size 432x288 with 1 Axes>"
      ]
     },
     "metadata": {
      "needs_background": "light"
     },
     "output_type": "display_data"
    }
   ],
   "source": [
    "plt.plot(x,y)"
   ]
  },
  {
   "cell_type": "code",
   "execution_count": 120,
   "metadata": {},
   "outputs": [
    {
     "data": {
      "text/plain": [
       "[79.0, 81.0, 83.0, 85.0]"
      ]
     },
     "execution_count": 120,
     "metadata": {},
     "output_type": "execute_result"
    }
   ],
   "source": [
    "y_=[2*x+b for x in range(len(x)) ]\n",
    "y_"
   ]
  },
  {
   "cell_type": "code",
   "execution_count": 121,
   "metadata": {},
   "outputs": [
    {
     "data": {
      "text/plain": [
       "[<matplotlib.lines.Line2D at 0x2b4461681c8>]"
      ]
     },
     "execution_count": 121,
     "metadata": {},
     "output_type": "execute_result"
    },
    {
     "data": {
      "image/png": "[encoded data removed]",
      "text/plain": [
       "<Figure size 432x288 with 2 Axes>"
      ]
     },
     "metadata": {
      "needs_background": "light"
     },
     "output_type": "display_data"
    }
   ],
   "source": [
    "plt.subplot(1,2,1)\n",
    "plt.plot(x,y)\n",
    "\n",
    "plt.subplot(1,2,2)\n",
    "plt.plot(x,y_)"
   ]
  },
  {
   "cell_type": "code",
   "execution_count": 122,
   "metadata": {},
   "outputs": [],
   "source": [
    "def lsm(x,y):  #최소제곱법\n",
    "    mean_x=np.mean(x) #x의 평균\n",
    "    mean_y=np.mean(y) #y의 평균\n",
    "    \n",
    "    numerator=sum([(i-mean_x)*(j-mean_y) for i,j in zip(x,y)])  #(x-x의평균)(y-y의평균) 의 합\n",
    "    divisor=sum([(mean_x-i)**2 for i in x]) #(x-x의평균)^2 의 합\n",
    "    \n",
    "    inclination = numerator/divisor #기울기 \n",
    "    b=mean_y-(mean_x*inclination) #y절편\n",
    "    \n",
    "    return inclination,b\n",
    "    "
   ]
  },
  {
   "cell_type": "code",
   "execution_count": 123,
   "metadata": {},
   "outputs": [
    {
     "data": {
      "text/plain": [
       "(2.3, 79.0)"
      ]
     },
     "execution_count": 123,
     "metadata": {},
     "output_type": "execute_result"
    }
   ],
   "source": [
    "lsm(x,y)"
   ]
  },
  {
   "cell_type": "markdown",
   "metadata": {},
   "source": [
    "### 예제"
   ]
  },
  {
   "cell_type": "code",
   "execution_count": 124,
   "metadata": {},
   "outputs": [
    {
     "data": {
      "text/plain": [
       "(4.5, 0.7562500000000001)"
      ]
     },
     "execution_count": 124,
     "metadata": {},
     "output_type": "execute_result"
    }
   ],
   "source": [
    "x=[1,2,3,4,5,6,7,8]\n",
    "y=[0.2,0.3,0.5,0.6,0.9,0.95,1.1,1.5]\n",
    "\n",
    "np.mean(x),np.mean(y)"
   ]
  },
  {
   "cell_type": "code",
   "execution_count": 125,
   "metadata": {},
   "outputs": [
    {
     "data": {
      "text/plain": [
       "(0.17559523809523808, -0.03392857142857131)"
      ]
     },
     "execution_count": 125,
     "metadata": {},
     "output_type": "execute_result"
    }
   ],
   "source": [
    "w,b=lsm(x,y)\n",
    "w,b"
   ]
  },
  {
   "cell_type": "code",
   "execution_count": 126,
   "metadata": {},
   "outputs": [
    {
     "name": "stdout",
     "output_type": "stream",
     "text": [
      "0.168\n",
      "3.829\n",
      "13.487\n",
      "30\n"
     ]
    }
   ],
   "source": [
    "new_x=[1.15,22,77,200]\n",
    "y_predict=[x*w+b for x in new_x]\n",
    "\n",
    "for i in y_predict:\n",
    "    if i>=30:\n",
    "        i=30\n",
    "    print(round(i,3))\n"
   ]
  },
  {
   "cell_type": "code",
   "execution_count": 127,
   "metadata": {},
   "outputs": [
    {
     "data": {
      "text/plain": [
       "0.056"
      ]
     },
     "execution_count": 127,
     "metadata": {},
     "output_type": "execute_result"
    }
   ],
   "source": [
    "#5주차 예상 크기와 실제 크기와의 차이\n",
    "loss_5=y[4]-(w*5+b)\n",
    "round(loss_5,3)"
   ]
  },
  {
   "cell_type": "code",
   "execution_count": 128,
   "metadata": {},
   "outputs": [
    {
     "data": {
      "text/plain": [
       "[<matplotlib.lines.Line2D at 0x2b44626bc08>]"
      ]
     },
     "execution_count": 128,
     "metadata": {},
     "output_type": "execute_result"
    },
    {
     "data": {
      "image/png": "[encoded data removed]",
      "text/plain": [
       "<Figure size 432x288 with 3 Axes>"
      ]
     },
     "metadata": {
      "needs_background": "light"
     },
     "output_type": "display_data"
    }
   ],
   "source": [
    "plt.subplot(2,2,1)\n",
    "plt.scatter(x,y)\n",
    "\n",
    "plt. subplot(2,2,2)\n",
    "plt.plot(x,y)\n",
    "\n",
    "plt.subplot(2,2,3)\n",
    "plt.plot(new_x,y_predict)"
   ]
  },
  {
   "cell_type": "markdown",
   "metadata": {},
   "source": [
    "## MSE (평균제곱오차)\n",
    "\n",
    "1. 임의의 값(w,b)을 주고 그 임의의 값에 따른 그래프의 MSE 최소가 되는 선을 찾는 것이 딥러닝의 목적(최소가 된는 그래프의 w,b를 찾는 것)\n",
    "\n",
    "\n",
    "2. sum((y-y_predict)^2)/변수개수 : 실제 y값과 y예측값의 차이의 제곱의 합을 변수개수로 나눔"
   ]
  },
  {
   "cell_type": "code",
   "execution_count": 145,
   "metadata": {},
   "outputs": [],
   "source": [
    "#임의의 기울기,절편\n",
    "ab=[3,76]\n",
    "\n",
    "#데이터\n",
    "data=[[2,81],[4,93],[6,91],[8,97]]\n",
    "\n"
   ]
  },
  {
   "cell_type": "code",
   "execution_count": 146,
   "metadata": {},
   "outputs": [
    {
     "name": "stdout",
     "output_type": "stream",
     "text": [
      "[81, 93, 91, 97]\n"
     ]
    },
    {
     "data": {
      "text/plain": [
       "[82, 88, 94, 100]"
      ]
     },
     "execution_count": 146,
     "metadata": {},
     "output_type": "execute_result"
    }
   ],
   "source": [
    "y=[y[1] for y in data]\n",
    "print(y)\n",
    "\n",
    "y_predict=[ab[0]*x[0]+ab[1] for x in data]\n",
    "y_predict"
   ]
  },
  {
   "cell_type": "code",
   "execution_count": 148,
   "metadata": {},
   "outputs": [
    {
     "data": {
      "text/plain": [
       "(array([81, 93, 91, 97]), array([ 82,  88,  94, 100]))"
      ]
     },
     "execution_count": 148,
     "metadata": {},
     "output_type": "execute_result"
    }
   ],
   "source": [
    "y=np.array(y)\n",
    "y_predict=np.array(y_predict)\n",
    "\n",
    "y,y_predict"
   ]
  },
  {
   "cell_type": "code",
   "execution_count": 149,
   "metadata": {},
   "outputs": [
    {
     "data": {
      "text/plain": [
       "array([-1,  5, -3, -3])"
      ]
     },
     "execution_count": 149,
     "metadata": {},
     "output_type": "execute_result"
    }
   ],
   "source": [
    "y-y_predict"
   ]
  },
  {
   "cell_type": "code",
   "execution_count": 162,
   "metadata": {},
   "outputs": [
    {
     "data": {
      "text/plain": [
       "<matplotlib.legend.Legend at 0x2b44677fb88>"
      ]
     },
     "execution_count": 162,
     "metadata": {},
     "output_type": "execute_result"
    },
    {
     "data": {
      "image/png": "[encoded data removed]",
      "text/plain": [
       "<Figure size 432x288 with 1 Axes>"
      ]
     },
     "metadata": {
      "needs_background": "light"
     },
     "output_type": "display_data"
    }
   ],
   "source": [
    "plt.scatter(x,y)\n",
    "plt.plot(x,y_predict,\"r-\")\n",
    "plt.legend([\"y_predict\",\"y\"])"
   ]
  },
  {
   "cell_type": "code",
   "execution_count": 152,
   "metadata": {},
   "outputs": [
    {
     "data": {
      "text/plain": [
       "11.0"
      ]
     },
     "execution_count": 152,
     "metadata": {},
     "output_type": "execute_result"
    }
   ],
   "source": [
    "#평균제곱오차\n",
    "mse=sum((y-y_predict)**2)/len(y)\n",
    "mse"
   ]
  },
  {
   "cell_type": "code",
   "execution_count": 153,
   "metadata": {},
   "outputs": [
    {
     "data": {
      "text/plain": [
       "3.3166247903554"
      ]
     },
     "execution_count": 153,
     "metadata": {},
     "output_type": "execute_result"
    }
   ],
   "source": [
    "#평균제곱근오차 , \n",
    "RMSE=mse**(1/2)\n",
    "RMSE  #임의로 정한 [3,76]의 오차가 3.31... 이라는 결과가 나옴"
   ]
  },
  {
   "cell_type": "code",
   "execution_count": 165,
   "metadata": {},
   "outputs": [],
   "source": [
    "def rmse(var,data):\n",
    "    y=[y[1] for y in data]\n",
    "    y_predict=[var[0]*x[0]+var[1] for x in data]\n",
    "    \n",
    "    y=np.array(y)\n",
    "    y_predict=np.array(y_predict)\n",
    "\n",
    "    mse=sum((y-y_predict)**2)/len(y)\n",
    "    RMSE=mse**(1/2)\n",
    "\n",
    "    return RMSE\n",
    "    "
   ]
  },
  {
   "cell_type": "code",
   "execution_count": 166,
   "metadata": {},
   "outputs": [
    {
     "data": {
      "text/plain": [
       "3.3166247903554"
      ]
     },
     "execution_count": 166,
     "metadata": {},
     "output_type": "execute_result"
    }
   ],
   "source": [
    "rmse(ab,data)"
   ]
  },
  {
   "cell_type": "code",
   "execution_count": null,
   "metadata": {},
   "outputs": [],
   "source": [
    "\n"
   ]
  }
 ],
 "metadata": {
  "kernelspec": {
   "display_name": "Python 3",
   "language": "python",
   "name": "python3"
  },
  "language_info": {
   "codemirror_mode": {
    "name": "ipython",
    "version": 3
   },
   "file_extension": ".py",
   "mimetype": "text/x-python",
   "name": "python",
   "nbconvert_exporter": "python",
   "pygments_lexer": "ipython3",
   "version": "3.7.7"
  }
 },
 "nbformat": 4,
 "nbformat_minor": 4
}
