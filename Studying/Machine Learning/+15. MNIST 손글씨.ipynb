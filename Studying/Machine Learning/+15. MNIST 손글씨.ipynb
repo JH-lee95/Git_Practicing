{
 "cells": [
  {
   "cell_type": "markdown",
   "metadata": {},
   "source": [
    "# CNN\n",
    "\n",
    "## MNIST 손글씨 인식"
   ]
  },
  {
   "cell_type": "code",
   "execution_count": 1,
   "metadata": {},
   "outputs": [],
   "source": [
    "import tensorflow as tf\n",
    "import matplotlib.pyplot as plt\n",
    "import numpy as np\n",
    "import sys\n",
    "\n",
    "from tensorflow.keras.datasets import mnist\n",
    "from tensorflow.keras import utils\n",
    "from tensorflow.keras.models import Sequential\n",
    "from tensorflow.keras.layers import Dense\n",
    "from tensorflow.keras.callbacks import ModelCheckpoint,EarlyStopping\n",
    "\n",
    "np.random.seed(0)\n",
    "tf.random.set_seed(0)"
   ]
  },
  {
   "cell_type": "code",
   "execution_count": 2,
   "metadata": {},
   "outputs": [],
   "source": [
    "# 데이터셋 로드\n",
    "(X_train,Y_class_train),(X_test,Y_class_test)=mnist.load_data()"
   ]
  },
  {
   "cell_type": "markdown",
   "metadata": {},
   "source": [
    "### 데이터 확인"
   ]
  },
  {
   "cell_type": "code",
   "execution_count": 3,
   "metadata": {},
   "outputs": [
    {
     "data": {
      "text/plain": [
       "((60000, 28, 28), (60000,))"
      ]
     },
     "execution_count": 3,
     "metadata": {},
     "output_type": "execute_result"
    }
   ],
   "source": [
    "X_train.shape,Y_class_train.shape"
   ]
  },
  {
   "cell_type": "code",
   "execution_count": 4,
   "metadata": {},
   "outputs": [
    {
     "data": {
      "text/plain": [
       "((10000, 28, 28), (10000,))"
      ]
     },
     "execution_count": 4,
     "metadata": {},
     "output_type": "execute_result"
    }
   ],
   "source": [
    "X_test.shape,Y_class_test.shape"
   ]
  },
  {
   "cell_type": "code",
   "execution_count": 5,
   "metadata": {
    "scrolled": true
   },
   "outputs": [
    {
     "data": {
      "image/png": "[encoded data removed]",
      "text/plain": [
       "<Figure size 432x288 with 1 Axes>"
      ]
     },
     "metadata": {
      "needs_background": "light"
     },
     "output_type": "display_data"
    }
   ],
   "source": [
    "plt.imshow(X_train[0],cmap='Greys')\n",
    "plt.show()"
   ]
  },
  {
   "cell_type": "code",
   "execution_count": 6,
   "metadata": {
    "scrolled": true
   },
   "outputs": [
    {
     "name": "stdout",
     "output_type": "stream",
     "text": [
      "  0  0  0  0  0  0  0  0  0  0  0  0  0  0  0  0  0  0  0  0  0  0  0  0  0  0  0  0\n",
      "  0  0  0  0  0  0  0  0  0  0  0  0  0  0  0  0  0  0  0  0  0  0  0  0  0  0  0  0\n",
      "  0  0  0  0  0  0  0  0  0  0  0  0  0  0  0  0  0  0  0  0  0  0  0  0  0  0  0  0\n",
      "  0  0  0  0  0  0  0  0  0  0  0  0  0  0  0  0  0  0  0  0  0  0  0  0  0  0  0  0\n",
      "  0  0  0  0  0  0  0  0  0  0  0  0  0  0  0  0  0  0  0  0  0  0  0  0  0  0  0  0\n",
      "  0  0  0  0  0  0  0  0  0  0  0  0  3 18 18 18126136175 26166255247127  0  0  0  0\n",
      "  0  0  0  0  0  0  0  0 30 36 94154170253253253253253225172253242195 64  0  0  0  0\n",
      "  0  0  0  0  0  0  0 49238253253253253253253253253251 93 82 82 56 39  0  0  0  0  0\n",
      "  0  0  0  0  0  0  0 18219253253253253253198182247241  0  0  0  0  0  0  0  0  0  0\n",
      "  0  0  0  0  0  0  0  0 80156107253253205 11  0 43154  0  0  0  0  0  0  0  0  0  0\n",
      "  0  0  0  0  0  0  0  0  0 14  1154253 90  0  0  0  0  0  0  0  0  0  0  0  0  0  0\n",
      "  0  0  0  0  0  0  0  0  0  0  0139253190  2  0  0  0  0  0  0  0  0  0  0  0  0  0\n",
      "  0  0  0  0  0  0  0  0  0  0  0 11190253 70  0  0  0  0  0  0  0  0  0  0  0  0  0\n",
      "  0  0  0  0  0  0  0  0  0  0  0  0 35241225160108  1  0  0  0  0  0  0  0  0  0  0\n",
      "  0  0  0  0  0  0  0  0  0  0  0  0  0 81240253253119 25  0  0  0  0  0  0  0  0  0\n",
      "  0  0  0  0  0  0  0  0  0  0  0  0  0  0 45186253253150 27  0  0  0  0  0  0  0  0\n",
      "  0  0  0  0  0  0  0  0  0  0  0  0  0  0  0 16 93252253187  0  0  0  0  0  0  0  0\n",
      "  0  0  0  0  0  0  0  0  0  0  0  0  0  0  0  0  0249253249 64  0  0  0  0  0  0  0\n",
      "  0  0  0  0  0  0  0  0  0  0  0  0  0  0 46130183253253207  2  0  0  0  0  0  0  0\n",
      "  0  0  0  0  0  0  0  0  0  0  0  0 39148229253253253250182  0  0  0  0  0  0  0  0\n",
      "  0  0  0  0  0  0  0  0  0  0 24114221253253253253201 78  0  0  0  0  0  0  0  0  0\n",
      "  0  0  0  0  0  0  0  0 23 66213253253253253198 81  2  0  0  0  0  0  0  0  0  0  0\n",
      "  0  0  0  0  0  0 18171219253253253253195 80  9  0  0  0  0  0  0  0  0  0  0  0  0\n",
      "  0  0  0  0 55172226253253253253244133 11  0  0  0  0  0  0  0  0  0  0  0  0  0  0\n",
      "  0  0  0  0136253253253212135132 16  0  0  0  0  0  0  0  0  0  0  0  0  0  0  0  0\n",
      "  0  0  0  0  0  0  0  0  0  0  0  0  0  0  0  0  0  0  0  0  0  0  0  0  0  0  0  0\n",
      "  0  0  0  0  0  0  0  0  0  0  0  0  0  0  0  0  0  0  0  0  0  0  0  0  0  0  0  0\n",
      "  0  0  0  0  0  0  0  0  0  0  0  0  0  0  0  0  0  0  0  0  0  0  0  0  0  0  0  0\n"
     ]
    }
   ],
   "source": [
    "for x in X_train[0]:\n",
    "    for i in x:\n",
    "        sys.stdout.write(\"%3d\"%i)\n",
    "    sys.stdout.write(\"\\n\")"
   ]
  },
  {
   "cell_type": "code",
   "execution_count": 8,
   "metadata": {},
   "outputs": [
    {
     "data": {
      "text/plain": [
       "(28, 28)"
      ]
     },
     "execution_count": 8,
     "metadata": {},
     "output_type": "execute_result"
    }
   ],
   "source": [
    "X_train[0].shape"
   ]
  },
  {
   "cell_type": "markdown",
   "metadata": {},
   "source": [
    " - 가로 28 * 세로 28 = 총 784 개의 픽셀 \n",
    " \n",
    " - 각 픽셀은 밝기 정도에 따라 0부터 255까지의 등급을 매김\n",
    " \n",
    " - 784개의 속성을 이용해 0~9까지 10개의 클래스 중 하나를 맞히는 문제\n"
   ]
  },
  {
   "cell_type": "markdown",
   "metadata": {},
   "source": [
    "### 이미지 데이터 전처리"
   ]
  },
  {
   "cell_type": "code",
   "execution_count": 168,
   "metadata": {},
   "outputs": [],
   "source": [
    "#주어진 가로 28, 세로28의 2차원 배열을 784개의 1차원 배열로 바꿔어 줌 \n",
    "X_train=X_train.reshape(X_train.shape[0],784)"
   ]
  },
  {
   "cell_type": "code",
   "execution_count": 169,
   "metadata": {},
   "outputs": [
    {
     "data": {
      "text/plain": [
       "(60000, 784)"
      ]
     },
     "execution_count": 169,
     "metadata": {},
     "output_type": "execute_result"
    }
   ],
   "source": [
    "X_train.shape"
   ]
  },
  {
   "cell_type": "markdown",
   "metadata": {},
   "source": [
    "- 케라스는 데이터를 0에서 1사의 값으로 변환한 다음 구동할 때 최적의 성능을 보임.\n",
    "\n",
    "- 따라서 현재 0-255 사이의 값으로 이루어진 값을 0-1 사이의 값으로 바꿔야 함"
   ]
  },
  {
   "cell_type": "code",
   "execution_count": 170,
   "metadata": {},
   "outputs": [],
   "source": [
    "X_train=X_train.astype(\"float64\")\n",
    "X_train=X_train/255"
   ]
  },
  {
   "cell_type": "code",
   "execution_count": 171,
   "metadata": {},
   "outputs": [],
   "source": [
    "X_test=X_test.reshape(X_test.shape[0],784).astype(\"float64\")/255"
   ]
  },
  {
   "cell_type": "code",
   "execution_count": 172,
   "metadata": {},
   "outputs": [
    {
     "name": "stdout",
     "output_type": "stream",
     "text": [
      "class : 5\n"
     ]
    }
   ],
   "source": [
    "print(\"class : %d\" % (Y_class_train[0]))"
   ]
  },
  {
   "cell_type": "code",
   "execution_count": 173,
   "metadata": {},
   "outputs": [],
   "source": [
    "Y_train=utils.to_categorical(Y_class_train,10)\n",
    "Y_test=utils.to_categorical(Y_class_test,10)"
   ]
  },
  {
   "cell_type": "code",
   "execution_count": 174,
   "metadata": {},
   "outputs": [
    {
     "data": {
      "text/plain": [
       "array([[0., 0., 0., ..., 0., 0., 0.],\n",
       "       [1., 0., 0., ..., 0., 0., 0.],\n",
       "       [0., 0., 0., ..., 0., 0., 0.],\n",
       "       ...,\n",
       "       [0., 0., 0., ..., 0., 0., 0.],\n",
       "       [0., 0., 0., ..., 0., 0., 0.],\n",
       "       [0., 0., 0., ..., 0., 1., 0.]], dtype=float32)"
      ]
     },
     "execution_count": 174,
     "metadata": {},
     "output_type": "execute_result"
    }
   ],
   "source": [
    "Y_train"
   ]
  },
  {
   "cell_type": "markdown",
   "metadata": {},
   "source": [
    "### 학습"
   ]
  },
  {
   "cell_type": "code",
   "execution_count": 175,
   "metadata": {},
   "outputs": [],
   "source": [
    "model=Sequential()\n",
    "model.add(Dense(64,input_dim=784,activation='relu'))\n",
    "model.add(Dense(64,activation='relu'))\n",
    "model.add(Dense(64,activation='relu'))\n",
    "model.add(Dense(10,activation='softmax'))\n",
    "model.compile(loss='categorical_crossentropy',optimizer='adam',metrics=['accuracy'])"
   ]
  },
  {
   "cell_type": "code",
   "execution_count": 176,
   "metadata": {
    "scrolled": true
   },
   "outputs": [
    {
     "name": "stdout",
     "output_type": "stream",
     "text": [
      "Model: \"sequential_7\"\n",
      "_________________________________________________________________\n",
      "Layer (type)                 Output Shape              Param #   \n",
      "=================================================================\n",
      "dense_24 (Dense)             (None, 64)                50240     \n",
      "_________________________________________________________________\n",
      "dense_25 (Dense)             (None, 64)                4160      \n",
      "_________________________________________________________________\n",
      "dense_26 (Dense)             (None, 64)                4160      \n",
      "_________________________________________________________________\n",
      "dense_27 (Dense)             (None, 10)                650       \n",
      "=================================================================\n",
      "Total params: 59,210\n",
      "Trainable params: 59,210\n",
      "Non-trainable params: 0\n",
      "_________________________________________________________________\n"
     ]
    }
   ],
   "source": [
    "model.summary()"
   ]
  },
  {
   "cell_type": "code",
   "execution_count": 177,
   "metadata": {},
   "outputs": [],
   "source": [
    "import os\n",
    "\n",
    "MODEL_DIR='./model/'\n",
    "if not os.path.exists(MODEL_DIR):\n",
    "    os.makedir(MODEL_DIR)\n",
    "    \n",
    "modelpath=\"./model/{epoch:02d}-{val_loss:.4f}.hdf5\""
   ]
  },
  {
   "cell_type": "code",
   "execution_count": 178,
   "metadata": {},
   "outputs": [],
   "source": [
    "checkpoint=ModelCheckpoint(filepath=modelpath,monitor=\"val_loss\",verbose=1,save_best_only=True)"
   ]
  },
  {
   "cell_type": "code",
   "execution_count": 179,
   "metadata": {},
   "outputs": [],
   "source": [
    "early_stop=EarlyStopping(monitor=\"val_loss\",patience=15)"
   ]
  },
  {
   "cell_type": "code",
   "execution_count": 180,
   "metadata": {
    "scrolled": false
   },
   "outputs": [
    {
     "name": "stdout",
     "output_type": "stream",
     "text": [
      "Epoch 1/150\n",
      "437/469 [==========================>...] - ETA: 0s - loss: 0.4123 - accuracy: 0.8808\n",
      "Epoch 00001: val_loss improved from inf to 0.18296, saving model to ./model\\01-0.1830.hdf5\n",
      "469/469 [==============================] - 1s 2ms/step - loss: 0.3970 - accuracy: 0.8853 - val_loss: 0.1830 - val_accuracy: 0.9450\n",
      "Epoch 2/150\n",
      "456/469 [============================>.] - ETA: 0s - loss: 0.1503 - accuracy: 0.9558\n",
      "Epoch 00002: val_loss improved from 0.18296 to 0.13868, saving model to ./model\\02-0.1387.hdf5\n",
      "469/469 [==============================] - 1s 2ms/step - loss: 0.1499 - accuracy: 0.9561 - val_loss: 0.1387 - val_accuracy: 0.9594\n",
      "Epoch 3/150\n",
      "466/469 [============================>.] - ETA: 0s - loss: 0.1111 - accuracy: 0.9660\n",
      "Epoch 00003: val_loss improved from 0.13868 to 0.11356, saving model to ./model\\03-0.1136.hdf5\n",
      "469/469 [==============================] - 1s 2ms/step - loss: 0.1109 - accuracy: 0.9660 - val_loss: 0.1136 - val_accuracy: 0.9646\n",
      "Epoch 4/150\n",
      "464/469 [============================>.] - ETA: 0s - loss: 0.0871 - accuracy: 0.9737\n",
      "Epoch 00004: val_loss improved from 0.11356 to 0.10936, saving model to ./model\\04-0.1094.hdf5\n",
      "469/469 [==============================] - 1s 2ms/step - loss: 0.0871 - accuracy: 0.9736 - val_loss: 0.1094 - val_accuracy: 0.9663\n",
      "Epoch 5/150\n",
      "444/469 [===========================>..] - ETA: 0s - loss: 0.0725 - accuracy: 0.9783\n",
      "Epoch 00005: val_loss improved from 0.10936 to 0.08863, saving model to ./model\\05-0.0886.hdf5\n",
      "469/469 [==============================] - 1s 1ms/step - loss: 0.0732 - accuracy: 0.9779 - val_loss: 0.0886 - val_accuracy: 0.9728\n",
      "Epoch 6/150\n",
      "458/469 [============================>.] - ETA: 0s - loss: 0.0627 - accuracy: 0.9808\n",
      "Epoch 00006: val_loss improved from 0.08863 to 0.08780, saving model to ./model\\06-0.0878.hdf5\n",
      "469/469 [==============================] - 1s 2ms/step - loss: 0.0627 - accuracy: 0.9808 - val_loss: 0.0878 - val_accuracy: 0.9724\n",
      "Epoch 7/150\n",
      "461/469 [============================>.] - ETA: 0s - loss: 0.0524 - accuracy: 0.9837\n",
      "Epoch 00007: val_loss did not improve from 0.08780\n",
      "469/469 [==============================] - 1s 1ms/step - loss: 0.0521 - accuracy: 0.9838 - val_loss: 0.0980 - val_accuracy: 0.9703\n",
      "Epoch 8/150\n",
      "456/469 [============================>.] - ETA: 0s - loss: 0.0447 - accuracy: 0.9862\n",
      "Epoch 00008: val_loss did not improve from 0.08780\n",
      "469/469 [==============================] - 1s 1ms/step - loss: 0.0450 - accuracy: 0.9861 - val_loss: 0.0925 - val_accuracy: 0.9737\n",
      "Epoch 9/150\n",
      "460/469 [============================>.] - ETA: 0s - loss: 0.0389 - accuracy: 0.9878\n",
      "Epoch 00009: val_loss improved from 0.08780 to 0.08326, saving model to ./model\\09-0.0833.hdf5\n",
      "469/469 [==============================] - 1s 2ms/step - loss: 0.0388 - accuracy: 0.9878 - val_loss: 0.0833 - val_accuracy: 0.9739\n",
      "Epoch 10/150\n",
      "462/469 [============================>.] - ETA: 0s - loss: 0.0334 - accuracy: 0.9891\n",
      "Epoch 00010: val_loss did not improve from 0.08326\n",
      "469/469 [==============================] - 1s 1ms/step - loss: 0.0334 - accuracy: 0.9891 - val_loss: 0.1035 - val_accuracy: 0.9708\n",
      "Epoch 11/150\n",
      "458/469 [============================>.] - ETA: 0s - loss: 0.0319 - accuracy: 0.9894\n",
      "Epoch 00011: val_loss did not improve from 0.08326\n",
      "469/469 [==============================] - 1s 1ms/step - loss: 0.0321 - accuracy: 0.9894 - val_loss: 0.1148 - val_accuracy: 0.9700\n",
      "Epoch 12/150\n",
      "459/469 [============================>.] - ETA: 0s - loss: 0.0270 - accuracy: 0.9914\n",
      "Epoch 00012: val_loss did not improve from 0.08326\n",
      "469/469 [==============================] - 1s 1ms/step - loss: 0.0270 - accuracy: 0.9915 - val_loss: 0.0924 - val_accuracy: 0.9756\n",
      "Epoch 13/150\n",
      "456/469 [============================>.] - ETA: 0s - loss: 0.0235 - accuracy: 0.9926\n",
      "Epoch 00013: val_loss did not improve from 0.08326\n",
      "469/469 [==============================] - 1s 2ms/step - loss: 0.0238 - accuracy: 0.9925 - val_loss: 0.1002 - val_accuracy: 0.9749\n",
      "Epoch 14/150\n",
      "456/469 [============================>.] - ETA: 0s - loss: 0.0204 - accuracy: 0.9931\n",
      "Epoch 00014: val_loss did not improve from 0.08326\n",
      "469/469 [==============================] - 1s 1ms/step - loss: 0.0210 - accuracy: 0.9930 - val_loss: 0.0899 - val_accuracy: 0.9759\n",
      "Epoch 15/150\n",
      "457/469 [============================>.] - ETA: 0s - loss: 0.0222 - accuracy: 0.9924\n",
      "Epoch 00015: val_loss did not improve from 0.08326\n",
      "469/469 [==============================] - 1s 2ms/step - loss: 0.0223 - accuracy: 0.9923 - val_loss: 0.1043 - val_accuracy: 0.9768\n",
      "Epoch 16/150\n",
      "464/469 [============================>.] - ETA: 0s - loss: 0.0181 - accuracy: 0.9940\n",
      "Epoch 00016: val_loss did not improve from 0.08326\n",
      "469/469 [==============================] - 1s 1ms/step - loss: 0.0183 - accuracy: 0.9939 - val_loss: 0.1139 - val_accuracy: 0.9727\n",
      "Epoch 17/150\n",
      "457/469 [============================>.] - ETA: 0s - loss: 0.0174 - accuracy: 0.9940\n",
      "Epoch 00017: val_loss did not improve from 0.08326\n",
      "469/469 [==============================] - 1s 1ms/step - loss: 0.0174 - accuracy: 0.9940 - val_loss: 0.0986 - val_accuracy: 0.9746\n",
      "Epoch 18/150\n",
      "461/469 [============================>.] - ETA: 0s - loss: 0.0167 - accuracy: 0.9945\n",
      "Epoch 00018: val_loss did not improve from 0.08326\n",
      "469/469 [==============================] - 1s 1ms/step - loss: 0.0167 - accuracy: 0.9945 - val_loss: 0.1104 - val_accuracy: 0.9746\n",
      "Epoch 19/150\n",
      "458/469 [============================>.] - ETA: 0s - loss: 0.0150 - accuracy: 0.9949\n",
      "Epoch 00019: val_loss did not improve from 0.08326\n",
      "469/469 [==============================] - 1s 1ms/step - loss: 0.0150 - accuracy: 0.9949 - val_loss: 0.1016 - val_accuracy: 0.9765\n",
      "Epoch 20/150\n",
      "458/469 [============================>.] - ETA: 0s - loss: 0.0127 - accuracy: 0.9958\n",
      "Epoch 00020: val_loss did not improve from 0.08326\n",
      "469/469 [==============================] - 1s 1ms/step - loss: 0.0126 - accuracy: 0.9959 - val_loss: 0.1090 - val_accuracy: 0.9756\n",
      "Epoch 21/150\n",
      "458/469 [============================>.] - ETA: 0s - loss: 0.0141 - accuracy: 0.9952\n",
      "Epoch 00021: val_loss did not improve from 0.08326\n",
      "469/469 [==============================] - 1s 1ms/step - loss: 0.0141 - accuracy: 0.9952 - val_loss: 0.1217 - val_accuracy: 0.9719\n",
      "Epoch 22/150\n",
      "460/469 [============================>.] - ETA: 0s - loss: 0.0144 - accuracy: 0.9950\n",
      "Epoch 00022: val_loss did not improve from 0.08326\n",
      "469/469 [==============================] - 1s 1ms/step - loss: 0.0143 - accuracy: 0.9950 - val_loss: 0.1174 - val_accuracy: 0.9729\n",
      "Epoch 23/150\n",
      "462/469 [============================>.] - ETA: 0s - loss: 0.0120 - accuracy: 0.9960\n",
      "Epoch 00023: val_loss did not improve from 0.08326\n",
      "469/469 [==============================] - 1s 1ms/step - loss: 0.0121 - accuracy: 0.9960 - val_loss: 0.1194 - val_accuracy: 0.9734\n",
      "Epoch 24/150\n",
      "459/469 [============================>.] - ETA: 0s - loss: 0.0120 - accuracy: 0.9959\n",
      "Epoch 00024: val_loss did not improve from 0.08326\n",
      "469/469 [==============================] - 1s 1ms/step - loss: 0.0119 - accuracy: 0.9959 - val_loss: 0.1190 - val_accuracy: 0.9748\n"
     ]
    }
   ],
   "source": [
    "history=model.fit(X_train,Y_train,validation_data=(X_test,Y_test),epochs=150,batch_size=128,callbacks=[checkpoint,early_stop])"
   ]
  },
  {
   "cell_type": "code",
   "execution_count": 193,
   "metadata": {},
   "outputs": [
    {
     "name": "stdout",
     "output_type": "stream",
     "text": [
      "313/313 [==============================] - 0s 712us/step - loss: 0.1190 - accuracy: 0.9748\n"
     ]
    },
    {
     "data": {
      "text/plain": [
       "[0.1189974993467331, 0.9747999906539917]"
      ]
     },
     "execution_count": 193,
     "metadata": {},
     "output_type": "execute_result"
    }
   ],
   "source": [
    "model.evaluate(X_test,Y_test)"
   ]
  },
  {
   "cell_type": "code",
   "execution_count": 186,
   "metadata": {},
   "outputs": [],
   "source": [
    "val_loss=history.history[\"val_loss\"]\n",
    "train_loss=history.history[\"loss\"]\n",
    "x_len=np.arange(len(val_loss))"
   ]
  },
  {
   "cell_type": "code",
   "execution_count": 207,
   "metadata": {},
   "outputs": [
    {
     "data": {
      "image/png": "[encoded data removed]",
      "text/plain": [
       "<Figure size 432x288 with 1 Axes>"
      ]
     },
     "metadata": {
      "needs_background": "light"
     },
     "output_type": "display_data"
    }
   ],
   "source": [
    "plt.plot(x_len,val_loss,\"-\",c=\"blue\",markersize=3)\n",
    "plt.plot(x_len,y_loss,\"-\",c=\"red\",markersize=3)\n",
    "plt.legend([\"val_loss\",\"train_loss\"])\n",
    "plt.grid(True)\n",
    "plt.show()"
   ]
  },
  {
   "cell_type": "code",
   "execution_count": null,
   "metadata": {},
   "outputs": [],
   "source": []
  }
 ],
 "metadata": {
  "kernelspec": {
   "display_name": "Python 3",
   "language": "python",
   "name": "python3"
  },
  "language_info": {
   "codemirror_mode": {
    "name": "ipython",
    "version": 3
   },
   "file_extension": ".py",
   "mimetype": "text/x-python",
   "name": "python",
   "nbconvert_exporter": "python",
   "pygments_lexer": "ipython3",
   "version": "3.7.7"
  }
 },
 "nbformat": 4,
 "nbformat_minor": 4
}
