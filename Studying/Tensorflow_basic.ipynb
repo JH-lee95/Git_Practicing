{
 "cells": [
  {
   "cell_type": "markdown",
   "metadata": {},
   "source": [
    "# 텐서플로우 1.15 로 텐서플로우 이해하기\n",
    "\n",
    "\n",
    "텐서는 단순히 결과값만을 가지고 있지 않다. 객체로서 결과값과 메소드를 같이 가지고 있다.\n",
    "\n",
    "메모리를 할당하거나 어떤 값을 가지고 있지 않으며 계산 **그래프** 의 연산 노드를 가리키는 객체에 가까움\n",
    "\n",
    "텐서라는 자료구조는 행렬을 가지고 있는 데이터구조이지만, 객체로서 메소드도 가지고 있다."
   ]
  },
  {
   "cell_type": "code",
   "execution_count": 2,
   "metadata": {},
   "outputs": [],
   "source": [
    "import tensorflow as tf"
   ]
  },
  {
   "cell_type": "code",
   "execution_count": null,
   "metadata": {},
   "outputs": [],
   "source": [
    "tf.__version__"
   ]
  },
  {
   "cell_type": "code",
   "execution_count": null,
   "metadata": {},
   "outputs": [],
   "source": [
    "x=tf.constant([[1.0,2.0,3.0]])\n",
    "w=tf.constant([[2.0],[2.0],[2.0]])\n",
    "y=tf.matmul(x,w) "
   ]
  },
  {
   "cell_type": "code",
   "execution_count": null,
   "metadata": {},
   "outputs": [],
   "source": [
    " y  #연산의 결과가 아닌 연산을 할 수 있는 텐서객체"
   ]
  },
  {
   "cell_type": "code",
   "execution_count": null,
   "metadata": {},
   "outputs": [],
   "source": [
    "print(x.get_shape())\n",
    "print(w.get_shape())\n",
    "print(y.get_shape())\n",
    "sess=tf.Session() # Session : 텐서를 돌릴 수 있는 기계라고 생각하자\n",
    "init=tf.global_variables_initializer() #변수 초기화\n",
    "sess.run(init)\n",
    "result=sess.run(y)\n",
    "print(result)"
   ]
  },
  {
   "cell_type": "code",
   "execution_count": 3,
   "metadata": {},
   "outputs": [],
   "source": [
    "a=tf.constant(7.0,name=\"data1\") #  name : 추적을 위해 이름을 달아줌\n",
    "b=tf.constant(3.0,name='data2')\n",
    "c=tf.constant(2.0,name='data3')\n",
    "\n",
    "v=a*b/c   #7*3/2 의 계산값을 가지고 있는게 아닌, 해당 연산의 과정 (즉 그래프)를 가지고 있는 것임"
   ]
  },
  {
   "cell_type": "markdown",
   "metadata": {},
   "source": [
    "a,b,c : 에지(tensor)      , tf.constant(7.0,name=\"data1\") 은 노드(operation)"
   ]
  },
  {
   "cell_type": "code",
   "execution_count": 4,
   "metadata": {
    "scrolled": false
   },
   "outputs": [
    {
     "data": {
      "text/plain": [
       "(<tf.Tensor 'data1:0' shape=() dtype=float32>,\n",
       " <tf.Tensor 'data2:0' shape=() dtype=float32>,\n",
       " <tf.Tensor 'data3:0' shape=() dtype=float32>)"
      ]
     },
     "execution_count": 4,
     "metadata": {},
     "output_type": "execute_result"
    }
   ],
   "source": [
    "a,b,c"
   ]
  },
  {
   "cell_type": "code",
   "execution_count": 8,
   "metadata": {},
   "outputs": [
    {
     "name": "stdout",
     "output_type": "stream",
     "text": [
      "name: \"data1\"\n",
      "op: \"Const\"\n",
      "attr {\n",
      "  key: \"dtype\"\n",
      "  value {\n",
      "    type: DT_FLOAT\n",
      "  }\n",
      "}\n",
      "attr {\n",
      "  key: \"value\"\n",
      "  value {\n",
      "    tensor {\n",
      "      dtype: DT_FLOAT\n",
      "      tensor_shape {\n",
      "      }\n",
      "      float_val: 7.0\n",
      "    }\n",
      "  }\n",
      "}\n",
      "\n"
     ]
    }
   ],
   "source": [
    "print(a.op)  #a에 연결된 operation을 확인"
   ]
  },
  {
   "cell_type": "code",
   "execution_count": 21,
   "metadata": {
    "scrolled": true
   },
   "outputs": [
    {
     "name": "stdout",
     "output_type": "stream",
     "text": [
      "name: \"truediv\"\n",
      "op: \"RealDiv\"\n",
      "input: \"mul\"\n",
      "input: \"data3\"\n",
      "attr {\n",
      "  key: \"T\"\n",
      "  value {\n",
      "    type: DT_FLOAT\n",
      "  }\n",
      "}\n",
      "\n"
     ]
    }
   ],
   "source": [
    "print(v.op)"
   ]
  },
  {
   "cell_type": "code",
   "execution_count": 16,
   "metadata": {
    "scrolled": true
   },
   "outputs": [
    {
     "name": "stdout",
     "output_type": "stream",
     "text": [
      "<tensorflow.python.framework.ops.Operation._InputList object at 0x000002679D630548>\n"
     ]
    }
   ],
   "source": [
    "print(v.op.inputs)"
   ]
  },
  {
   "cell_type": "code",
   "execution_count": 17,
   "metadata": {
    "scrolled": true
   },
   "outputs": [
    {
     "data": {
      "text/plain": [
       "[<tf.Tensor 'truediv:0' shape=() dtype=float32>]"
      ]
     },
     "execution_count": 17,
     "metadata": {},
     "output_type": "execute_result"
    }
   ],
   "source": [
    "v.op.outputs"
   ]
  },
  {
   "cell_type": "code",
   "execution_count": 18,
   "metadata": {
    "scrolled": true
   },
   "outputs": [
    {
     "data": {
      "text/plain": [
       "<tf.Tensor 'truediv:0' shape=() dtype=float32>"
      ]
     },
     "execution_count": 18,
     "metadata": {},
     "output_type": "execute_result"
    }
   ],
   "source": [
    "v.op.outputs[0]"
   ]
  },
  {
   "cell_type": "code",
   "execution_count": 22,
   "metadata": {},
   "outputs": [
    {
     "data": {
      "text/plain": [
       "<tf.Operation 'truediv' type=RealDiv>"
      ]
     },
     "execution_count": 22,
     "metadata": {},
     "output_type": "execute_result"
    }
   ],
   "source": [
    "v.op"
   ]
  },
  {
   "cell_type": "code",
   "execution_count": 19,
   "metadata": {},
   "outputs": [
    {
     "data": {
      "text/plain": [
       "name: \"truediv\"\n",
       "op: \"RealDiv\"\n",
       "input: \"mul\"\n",
       "input: \"data3\"\n",
       "attr {\n",
       "  key: \"T\"\n",
       "  value {\n",
       "    type: DT_FLOAT\n",
       "  }\n",
       "}"
      ]
     },
     "execution_count": 19,
     "metadata": {},
     "output_type": "execute_result"
    }
   ],
   "source": [
    "v.op.node_def"
   ]
  },
  {
   "cell_type": "code",
   "execution_count": 12,
   "metadata": {},
   "outputs": [
    {
     "name": "stdout",
     "output_type": "stream",
     "text": [
      "[<tf.Tensor 'data1:0' shape=() dtype=float32>]\n"
     ]
    }
   ],
   "source": [
    "print(a.op.outputs)"
   ]
  },
  {
   "cell_type": "code",
   "execution_count": 13,
   "metadata": {},
   "outputs": [
    {
     "name": "stdout",
     "output_type": "stream",
     "text": [
      "True\n"
     ]
    }
   ],
   "source": [
    "print(a is a.op.outputs[0]) "
   ]
  },
  {
   "cell_type": "code",
   "execution_count": 14,
   "metadata": {},
   "outputs": [
    {
     "name": "stdout",
     "output_type": "stream",
     "text": [
      "7.0\n"
     ]
    }
   ],
   "source": [
    "print(a.op.node_def.attr['value'].tensor.float_val[0])"
   ]
  },
  {
   "cell_type": "code",
   "execution_count": 5,
   "metadata": {},
   "outputs": [
    {
     "name": "stdout",
     "output_type": "stream",
     "text": [
      "10.5\n"
     ]
    }
   ],
   "source": [
    "#with ~ as 구문 : 메모리를 할당하고 구문이 끝나면 자동으로 close \n",
    "with tf.Session() as sess:\n",
    "    sess.run(tf.global_variables_initializer()) #텐서 초기화, 가비지값이 아닌 우리가 신뢰하는 값으로 초기화 히기 위해\n",
    "    print(sess.run(v))"
   ]
  },
  {
   "cell_type": "markdown",
   "metadata": {},
   "source": [
    "1. 텐서플로우가 연산결과값이 아닌 연산의 그래프를 가지고 있는 이유? - 인공지능모델링에 특화\n",
    "    결국 딥러닝(인공지능 모델링)의 목적은 수많은 w,b 중에서 최적값을 찾는 것이다. 그래서 매번 연산을 하는 것보다, 그래프를 모아놓고필요할 때 한번에 연산하는 것이 효율적이다.\n",
    "\n",
    "\n",
    "\n",
    "\n",
    "텐서플로우 그래프에서\n",
    "\n",
    "노드 : operation\n",
    "\n",
    "에지 : tensor \n",
    "\n",
    "그래프에 operation(연산) 을 추가하고 operation 간에 tensor"
   ]
  },
  {
   "cell_type": "code",
   "execution_count": 6,
   "metadata": {},
   "outputs": [
    {
     "data": {
      "text/plain": [
       "[<tf.Operation 'data1' type=Const>,\n",
       " <tf.Operation 'data2' type=Const>,\n",
       " <tf.Operation 'data3' type=Const>,\n",
       " <tf.Operation 'mul' type=Mul>,\n",
       " <tf.Operation 'truediv' type=RealDiv>,\n",
       " <tf.Operation 'init' type=NoOp>]"
      ]
     },
     "execution_count": 6,
     "metadata": {},
     "output_type": "execute_result"
    }
   ],
   "source": [
    "tf.get_default_graph().get_operations()"
   ]
  },
  {
   "cell_type": "markdown",
   "metadata": {},
   "source": [
    "## 텐서의 구성요소\n",
    "텐서는 Rank,shape,type의 3가지 구성요소를 가지고 있음\n",
    "\n",
    "랭크는 차원 : \n",
    "랭크0 : 스칼라 - 3\n",
    "\n",
    "랭크1 : 벡터 - [1,2,3]\n",
    "\n",
    "랭크2 : 행렬 - [[1,2,3],[4,5,6]]\n",
    "\n",
    "랭크3 이상 : n차원 텐서"
   ]
  },
  {
   "cell_type": "markdown",
   "metadata": {},
   "source": [
    "## 텐서의 자료형\n",
    "텐서플로우 자료형 (1.xx 기준)\n",
    "\n",
    "tf.constant : 변하지 않는 수를 지정하는 자료형 (상수형 텐서)\n",
    "tf.Placeholder : 먼저 만들고 값을 나중에 지정해주는 자료형\n",
    "tf.Variable : 조건에 따라 값을 바꿔야 하는 경우 사용하는 자료형\n",
    "\n",
    "\n",
    "placeholder 와 variable은 거의 비슷함 서로 호환도 가능 (뭐가 다를까?)"
   ]
  },
  {
   "cell_type": "code",
   "execution_count": 24,
   "metadata": {},
   "outputs": [
    {
     "name": "stdout",
     "output_type": "stream",
     "text": [
      "Tensor(\"Const_3:0\", shape=(), dtype=int32)\n",
      "Tensor(\"Const_4:0\", shape=(), dtype=int32)\n",
      "Tensor(\"Const_5:0\", shape=(), dtype=int32)\n",
      "Tensor(\"Mul_2:0\", shape=(), dtype=int32)\n",
      "Tensor(\"Add_1:0\", shape=(), dtype=int32)\n",
      "Tensor(\"Sub_1:0\", shape=(), dtype=int32)\n"
     ]
    }
   ],
   "source": [
    "a=tf.constant(5)\n",
    "b=tf.constant(2)\n",
    "c=tf.constant(3)\n",
    "d=tf.multiply(a,b)\n",
    "e=tf.add(c,b)\n",
    "f=tf.subtract(d,e)\n",
    "\n",
    "#모두 그래프만 그렸지, run 하지 않음(연산하지 않음), Session에 넣어 연산을 시켜야함\n",
    "print(a)\n",
    "print(b)\n",
    "print(c)\n",
    "print(d) \n",
    "print(e)\n",
    "print(f)"
   ]
  },
  {
   "cell_type": "code",
   "execution_count": 25,
   "metadata": {},
   "outputs": [
    {
     "name": "stdout",
     "output_type": "stream",
     "text": [
      "outs = 5\n"
     ]
    }
   ],
   "source": [
    "#텐서를 흘려 보내면서(flow) 데이터를 처리하는 과정이 필요, Session은 실제로 값을 대입한 그래프가 동작하도록 하는 역할을 수행\n",
    "sess=tf.Session()\n",
    "outs=sess.run(f)\n",
    "sess.close()\n",
    "print(\"outs =\",outs)"
   ]
  },
  {
   "cell_type": "code",
   "execution_count": 26,
   "metadata": {},
   "outputs": [
    {
     "name": "stdout",
     "output_type": "stream",
     "text": [
      "b'Hello, Tensorflow'\n"
     ]
    }
   ],
   "source": [
    "hello=tf.constant(\"Hello, Tensorflow\")\n",
    "\n",
    "sess=tf.Session()\n",
    "\n",
    "print(sess.run(hello))"
   ]
  },
  {
   "cell_type": "code",
   "execution_count": 5,
   "metadata": {},
   "outputs": [
    {
     "name": "stdout",
     "output_type": "stream",
     "text": [
      "53.0\n"
     ]
    }
   ],
   "source": [
    "sess=tf.Session()\n",
    "\n",
    "p_holder1=tf.placeholder(dtype=tf.float32)\n",
    "p_holder2=tf.placeholder(dtype=tf.float32)\n",
    "p_holder3=tf.placeholder(dtype=tf.float32)\n",
    "\n",
    "val1=5\n",
    "val2=10\n",
    "val3=3\n",
    "\n",
    "ret_val=p_holder1*p_holder2+p_holder3\n",
    "\n",
    "feed_dict={p_holder1 : val1, p_holder2:val2, p_holder3:val3}\n",
    "result=sess.run(ret_val,feed_dict=feed_dict) #placeholder는 feed_dict를 통해서만 값을 넣을 수 있음\n",
    "print(result)"
   ]
  },
  {
   "cell_type": "code",
   "execution_count": 12,
   "metadata": {},
   "outputs": [
    {
     "name": "stdout",
     "output_type": "stream",
     "text": [
      "[[30. 30.]\n",
      " [70. 70.]]\n"
     ]
    }
   ],
   "source": [
    "I=tf.placeholder(tf.float32,[2,4])\n",
    "i=[[1,2,3,4],[5,6,7,8]]\n",
    "\n",
    "W=tf.placeholder(tf.float32,[4,2])\n",
    "w=[[1,1],[2,2],[3,3],[4,4]]\n",
    "\n",
    "node=tf.matmul(I,W)\n",
    "\n",
    "sess=tf.Session()\n",
    "print(sess.run(node,feed_dict={I:i,W:w}))\n",
    "sess.close()"
   ]
  },
  {
   "cell_type": "code",
   "execution_count": 19,
   "metadata": {},
   "outputs": [
    {
     "name": "stdout",
     "output_type": "stream",
     "text": [
      "[[30 30]\n",
      " [70 70]]\n"
     ]
    }
   ],
   "source": [
    "I=tf.Variable([[1,2,3,4],[5,6,7,8]],tf.float32)\n",
    "W=tf.Variable([[1,1],[2,2],[3,3],[4,4]])\n",
    "\n",
    "node=tf.matmul(I,W)\n",
    "sess=tf.Session()\n",
    "sess.run(tf.global_variables_initializer()) #Varialbe로 I와 W를 만들엇으므로 변수 초기화\n",
    "print(sess.run(node))\n",
    "sess.close()"
   ]
  },
  {
   "cell_type": "code",
   "execution_count": 21,
   "metadata": {},
   "outputs": [
    {
     "name": "stdout",
     "output_type": "stream",
     "text": [
      "7\n"
     ]
    }
   ],
   "source": [
    "#변수를 재할당하는 방법(스칼라의 경우)\n",
    "x=tf.Variable(5,dtype=tf.int32)\n",
    "x=tf.assign(x,7)\n",
    "z=tf.global_variables_initializer()\n",
    "sess=tf.Session()\n",
    "sess.run(z)\n",
    "y=sess.run(x)\n",
    "print(y)"
   ]
  },
  {
   "cell_type": "code",
   "execution_count": null,
   "metadata": {},
   "outputs": [],
   "source": []
  }
 ],
 "metadata": {
  "kernelspec": {
   "display_name": "Python 3",
   "language": "python",
   "name": "python3"
  },
  "language_info": {
   "codemirror_mode": {
    "name": "ipython",
    "version": 3
   },
   "file_extension": ".py",
   "mimetype": "text/x-python",
   "name": "python",
   "nbconvert_exporter": "python",
   "pygments_lexer": "ipython3",
   "version": "3.7.7"
  }
 },
 "nbformat": 4,
 "nbformat_minor": 4
}
