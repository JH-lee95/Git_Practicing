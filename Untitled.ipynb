{
 "cells": [
  {
   "cell_type": "code",
   "execution_count": 3,
   "metadata": {},
   "outputs": [
    {
     "name": "stdout",
     "output_type": "stream",
     "text": [
      "['school', 'science', 'mountian']\n"
     ]
    }
   ],
   "source": [
    "#연습문제\n",
    "word = ['school', 'game', 'piano', 'science', 'hotel', \"mountian\"] \n",
    "new=[]\n",
    "for i in word:\n",
    "    if len(i)>=6:\n",
    "        new.append(i)\n",
    "        \n",
    "print(new)"
   ]
  },
  {
   "cell_type": "code",
   "execution_count": 2,
   "metadata": {},
   "outputs": [
    {
     "name": "stdout",
     "output_type": "stream",
     "text": [
      "1 * 1 = 1\n",
      "1 * 2 = 2\n",
      "1 * 3 = 3\n",
      "1 * 4 = 4\n",
      "1 * 5 = 5\n",
      "1 * 6 = 6\n",
      "1 * 7 = 7\n",
      "1 * 8 = 8\n",
      "1 * 9 = 9\n",
      "2 * 1 = 2\n",
      "2 * 2 = 4\n",
      "2 * 3 = 6\n",
      "2 * 4 = 8\n",
      "2 * 5 = 10\n",
      "2 * 6 = 12\n",
      "2 * 7 = 14\n",
      "2 * 8 = 16\n",
      "2 * 9 = 18\n",
      "3 * 1 = 3\n",
      "3 * 2 = 6\n",
      "3 * 3 = 9\n",
      "3 * 4 = 12\n",
      "3 * 5 = 15\n",
      "3 * 6 = 18\n",
      "3 * 7 = 21\n",
      "3 * 8 = 24\n",
      "3 * 9 = 27\n",
      "4 * 1 = 4\n",
      "4 * 2 = 8\n",
      "4 * 3 = 12\n",
      "4 * 4 = 16\n",
      "4 * 5 = 20\n",
      "4 * 6 = 24\n",
      "4 * 7 = 28\n",
      "4 * 8 = 32\n",
      "4 * 9 = 36\n",
      "5 * 1 = 5\n",
      "5 * 2 = 10\n",
      "5 * 3 = 15\n",
      "5 * 4 = 20\n",
      "5 * 5 = 25\n",
      "5 * 6 = 30\n",
      "5 * 7 = 35\n",
      "5 * 8 = 40\n",
      "5 * 9 = 45\n",
      "6 * 1 = 6\n",
      "6 * 2 = 12\n",
      "6 * 3 = 18\n",
      "6 * 4 = 24\n",
      "6 * 5 = 30\n",
      "6 * 6 = 36\n",
      "6 * 7 = 42\n",
      "6 * 8 = 48\n",
      "6 * 9 = 54\n",
      "7 * 1 = 7\n",
      "7 * 2 = 14\n",
      "7 * 3 = 21\n",
      "7 * 4 = 28\n",
      "7 * 5 = 35\n",
      "7 * 6 = 42\n",
      "7 * 7 = 49\n",
      "7 * 8 = 56\n",
      "7 * 9 = 63\n",
      "8 * 1 = 8\n",
      "8 * 2 = 16\n",
      "8 * 3 = 24\n",
      "8 * 4 = 32\n",
      "8 * 5 = 40\n",
      "8 * 6 = 48\n",
      "8 * 7 = 56\n",
      "8 * 8 = 64\n",
      "8 * 9 = 72\n",
      "9 * 1 = 9\n",
      "9 * 2 = 18\n",
      "9 * 3 = 27\n",
      "9 * 4 = 36\n",
      "9 * 5 = 45\n",
      "9 * 6 = 54\n",
      "9 * 7 = 63\n",
      "9 * 8 = 72\n",
      "9 * 9 = 81\n"
     ]
    }
   ],
   "source": [
    "#연습문제\n",
    "\n",
    "\n",
    "for i in range(1,10):\n",
    "    for j in range(1,10):\n",
    "        print(\"%d * %d = %d\" %(i,j,i*j))\n",
    "        "
   ]
  },
  {
   "cell_type": "code",
   "execution_count": 1,
   "metadata": {},
   "outputs": [
    {
     "name": "stdout",
     "output_type": "stream",
     "text": [
      "입력 : 100\n",
      "1\n",
      "2\n",
      "3는 3의배수\n",
      "4\n",
      "5는 5의배수\n",
      "6는 3의배수\n",
      "7\n",
      "8\n",
      "9는 3의배수\n",
      "10는 5의배수\n",
      "11\n",
      "12는 3의배수\n",
      "13\n",
      "14\n",
      "15는 3과 5의 공배수\n",
      "16\n",
      "17\n",
      "18는 3의배수\n",
      "19\n",
      "20는 5의배수\n",
      "21는 3의배수\n",
      "22\n",
      "23\n",
      "24는 3의배수\n",
      "25는 5의배수\n",
      "26\n",
      "27는 3의배수\n",
      "28\n",
      "29\n",
      "30는 3과 5의 공배수\n",
      "31\n",
      "32\n",
      "33는 3의배수\n",
      "34\n",
      "35는 5의배수\n",
      "36는 3의배수\n",
      "37\n",
      "38\n",
      "39는 3의배수\n",
      "40는 5의배수\n",
      "41\n",
      "42는 3의배수\n",
      "43\n",
      "44\n",
      "45는 3과 5의 공배수\n",
      "46\n",
      "47\n",
      "48는 3의배수\n",
      "49\n",
      "50는 5의배수\n",
      "51는 3의배수\n",
      "52\n",
      "53\n",
      "54는 3의배수\n",
      "55는 5의배수\n",
      "56\n",
      "57는 3의배수\n",
      "58\n",
      "59\n",
      "60는 3과 5의 공배수\n",
      "61\n",
      "62\n",
      "63는 3의배수\n",
      "64\n",
      "65는 5의배수\n",
      "66는 3의배수\n",
      "67\n",
      "68\n",
      "69는 3의배수\n",
      "70는 5의배수\n",
      "71\n",
      "72는 3의배수\n",
      "73\n",
      "74\n",
      "75는 3과 5의 공배수\n",
      "76\n",
      "77\n",
      "78는 3의배수\n",
      "79\n",
      "80는 5의배수\n",
      "81는 3의배수\n",
      "82\n",
      "83\n",
      "84는 3의배수\n",
      "85는 5의배수\n",
      "86\n",
      "87는 3의배수\n",
      "88\n",
      "89\n",
      "90는 3과 5의 공배수\n",
      "91\n",
      "92\n",
      "93는 3의배수\n",
      "94\n",
      "95는 5의배수\n",
      "96는 3의배수\n",
      "97\n",
      "98\n",
      "99는 3의배수\n",
      "100는 5의배수\n"
     ]
    }
   ],
   "source": [
    "#연습문제4\n",
    "\n",
    "num = int(input(\"입력 : \"))\n",
    "\n",
    "for i in range(1,num+1):\n",
    "    if i%3==0 and i%5==0:\n",
    "        print(\"%d는 3과 5의 공배수\" %(i))\n",
    "    elif i%3==0:\n",
    "        print(\"%d는 3의배수\" %(i))\n",
    "    elif i%5==0:\n",
    "        print(\"%d는 5의배수\" %(i))\n",
    "    else:\n",
    "        print(i)"
   ]
  },
  {
   "cell_type": "code",
   "execution_count": 11,
   "metadata": {},
   "outputs": [
    {
     "name": "stdout",
     "output_type": "stream",
     "text": [
      "값을 입력해주세요 : 50\n",
      "값을 입력해주세요 : 10\n",
      "값을 입력해주세요 : 20\n",
      "값을 입력해주세요 : s\n",
      "합계는 ?  80\n"
     ]
    }
   ],
   "source": [
    "total=0\n",
    "while True:\n",
    "    \n",
    "    \n",
    "    num=input(\"값을 입력해주세요 : \")\n",
    "    \n",
    "    if num.isnumeric():\n",
    "        total+=int(num)\n",
    "    \n",
    "    else:\n",
    "        if num==\"S\" or num==\"s\":\n",
    "            print(\"합계는 ? \",total)\n",
    "            break"
   ]
  },
  {
   "cell_type": "code",
   "execution_count": 12,
   "metadata": {},
   "outputs": [],
   "source": [
    "import random"
   ]
  },
  {
   "cell_type": "code",
   "execution_count": 20,
   "metadata": {},
   "outputs": [
    {
     "name": "stdout",
     "output_type": "stream",
     "text": [
      "가위(1),바위(2),보(3) 을 입력해주세요! : 3\n",
      "유저 : 보 컴퓨터 : 보\n",
      "가위(1),바위(2),보(3) 을 입력해주세요! : 3\n",
      "유저 : 보 컴퓨터 : 보\n",
      "가위(1),바위(2),보(3) 을 입력해주세요! : 3\n",
      "유저 : 보 컴퓨터 : 보\n",
      "가위(1),바위(2),보(3) 을 입력해주세요! : 3\n",
      "유저 : 보 컴퓨터 : 가위\n",
      "가위(1),바위(2),보(3) 을 입력해주세요! : 3\n",
      "유저 : 보 컴퓨터 : 보\n",
      "가위(1),바위(2),보(3) 을 입력해주세요! : 2\n",
      "유저 : 바위 컴퓨터 : 가위\n",
      "가위(1),바위(2),보(3) 을 입력해주세요! : 1\n",
      "유저 : 가위 컴퓨터 : 보\n",
      "가위(1),바위(2),보(3) 을 입력해주세요! : 4\n",
      "게임종료 전체:7, 승리:2, 비김:4\n"
     ]
    }
   ],
   "source": [
    "tot=0\n",
    "win=0\n",
    "draw=0\n",
    "\n",
    "\n",
    "dic={1:\"가위\",2:\"바위\",3:\"보\"}\n",
    "\n",
    "while True:\n",
    "\n",
    "    \n",
    "    com=random.randint(1,3)\n",
    "    \n",
    "    human=int(input(\"가위(1),바위(2),보(3) 을 입력해주세요! : \"))\n",
    "    \n",
    "    if human not in range(1,4):\n",
    "        print(\"게임종료 전체:%d, 승리:%d, 비김:%d\" %(tot,win,draw))\n",
    "        break\n",
    "           \n",
    "    if com==human:\n",
    "        tot+=1\n",
    "        draw+=1\n",
    "        print(\"유저 : \" + dic[human] + \" 컴퓨터 : \" + dic[com])\n",
    "        \n",
    "    elif com==1 and human==3:\n",
    "        tot+=1\n",
    "        print(\"유저 : \" + dic[human] + \" 컴퓨터 : \" + dic[com])\n",
    "    elif com==1 and human==2:\n",
    "        tot+=1\n",
    "        win+=1\n",
    "        print(\"유저 : \" + dic[human] + \" 컴퓨터 : \" + dic[com])\n",
    "    elif com==2 and human==1:\n",
    "        tot+=1\n",
    "        print(\"유저 : \" + dic[human] + \" 컴퓨터 : \" + dic[com])\n",
    "    elif com==2 and human==3:\n",
    "        tot+=1\n",
    "        win+=1\n",
    "        print(\"유저 : \" + dic[human] + \" 컴퓨터 : \" + dic[com])\n",
    "    elif com==3 and human==1:\n",
    "        tot+=1\n",
    "        win+=1\n",
    "        print(\"유저 : \" + dic[human] + \" 컴퓨터 : \" + dic[com])\n",
    "    elif com==3 and human==2:\n",
    "        tot+=1\n",
    "        print(\"유저 : \" + dic[human] + \" 컴퓨터 : \" + dic[com])\n",
    "        \n",
    "\n",
    "        \n",
    "        \n",
    "        "
   ]
  },
  {
   "cell_type": "code",
   "execution_count": 22,
   "metadata": {},
   "outputs": [
    {
     "name": "stdout",
     "output_type": "stream",
     "text": [
      "입력 :  5\n",
      "hi\n",
      "hi\n",
      "hi\n",
      "hi\n",
      "hi\n"
     ]
    }
   ],
   "source": [
    "#연습문제\n",
    "\n",
    "num=int(input(\"입력 :  \"))\n",
    "i=0\n",
    "\n",
    "while i<num:\n",
    "    print(\"hi\")\n",
    "    i+=1"
   ]
  },
  {
   "cell_type": "code",
   "execution_count": 24,
   "metadata": {},
   "outputs": [
    {
     "name": "stdout",
     "output_type": "stream",
     "text": [
      "입력 :  12\n",
      "0\n",
      "2\n",
      "4\n",
      "6\n",
      "8\n",
      "10\n",
      "12\n"
     ]
    }
   ],
   "source": [
    "#연습문제\n",
    "\n",
    "num=int(input(\"입력 :  \"))\n",
    "\n",
    "for i in range(num+1):\n",
    "    if i%2==0:\n",
    "        print(i)\n",
    "    else:\n",
    "        continue\n",
    "    "
   ]
  },
  {
   "cell_type": "code",
   "execution_count": 28,
   "metadata": {},
   "outputs": [
    {
     "name": "stdout",
     "output_type": "stream",
     "text": [
      "994\n"
     ]
    }
   ],
   "source": [
    "#연습문제\n",
    "\n",
    "a=[]\n",
    "\n",
    "while len(a)<101:\n",
    "    a.append(random.randint(1,1000))\n",
    "    \n",
    "print(max(a))"
   ]
  },
  {
   "cell_type": "code",
   "execution_count": 29,
   "metadata": {},
   "outputs": [
    {
     "name": "stdout",
     "output_type": "stream",
     "text": [
      "47741\n"
     ]
    }
   ],
   "source": [
    "#연습문제\n",
    "a=[]\n",
    "\n",
    "while len(a)<101:\n",
    "    a.append(random.randint(1,1000))\n",
    "    \n",
    "print(sum(a))"
   ]
  },
  {
   "cell_type": "code",
   "execution_count": 32,
   "metadata": {},
   "outputs": [],
   "source": [
    "word = ['school', 'game', 'piano', 'science', 'hotel', 'mountn'] \n",
    "\n",
    "new_list=[i for i in word if len(i)>=6]\n",
    "len_of_word=[len(i) for i in word]"
   ]
  },
  {
   "cell_type": "code",
   "execution_count": 52,
   "metadata": {},
   "outputs": [],
   "source": [
    "a = [[10, 20], [30, 40], [50, 60]]\n",
    "b = [[2, 3], [4, 5], [6, 7]]\n",
    "\n",
    "result=[]\n",
    "\n",
    "for n1,n2 in zip(a,b):\n",
    "    ln=[]\n",
    "    for num1,num2 in zip(n1,n2):\n",
    "        ln.append(num1*num2)\n",
    "    result.append(ln)"
   ]
  },
  {
   "cell_type": "code",
   "execution_count": 53,
   "metadata": {},
   "outputs": [
    {
     "data": {
      "text/plain": [
       "[[20, 60], [120, 200], [300, 420]]"
      ]
     },
     "execution_count": 53,
     "metadata": {},
     "output_type": "execute_result"
    }
   ],
   "source": [
    "result"
   ]
  },
  {
   "cell_type": "code",
   "execution_count": 47,
   "metadata": {},
   "outputs": [
    {
     "name": "stdout",
     "output_type": "stream",
     "text": [
      "[[1, 2], [3, 4], [5, 6]]\n"
     ]
    }
   ],
   "source": [
    "a=[]\n",
    "num=1\n",
    "for i in range(3):\n",
    "    line=[]\n",
    "    for j in range(2):\n",
    "        line.append(num)\n",
    "        num+=1\n",
    "    a.append(line)\n",
    "print(a)"
   ]
  },
  {
   "cell_type": "code",
   "execution_count": 3,
   "metadata": {},
   "outputs": [],
   "source": [
    "with open(\"sample.txt\",'w') as f:\n",
    "    content=f.write(\"with\")\n",
    "    "
   ]
  },
  {
   "cell_type": "code",
   "execution_count": 4,
   "metadata": {},
   "outputs": [
    {
     "name": "stdout",
     "output_type": "stream",
     "text": [
      "with\n"
     ]
    }
   ],
   "source": [
    "with open(\"sample.txt\",'r') as f:\n",
    "    content1=f.read()\n",
    "    print(content1)"
   ]
  },
  {
   "cell_type": "code",
   "execution_count": 5,
   "metadata": {},
   "outputs": [
    {
     "name": "stdout",
     "output_type": "stream",
     "text": [
      "1\n",
      "1\n"
     ]
    }
   ],
   "source": [
    "a=5\n",
    "\n",
    "def func3():\n",
    "    global a #전역변수 사용 \n",
    "    a=1 #위에서 global로 선언했으므로 전억변수 a가 5에서 1로 바뀜\n",
    "    print(a)\n",
    "    \n",
    "func3()\n",
    "print(a)"
   ]
  },
  {
   "cell_type": "code",
   "execution_count": 9,
   "metadata": {},
   "outputs": [
    {
     "data": {
      "text/plain": [
       "(11, -1, 30, 0.8333333333333334)"
      ]
     },
     "execution_count": 9,
     "metadata": {},
     "output_type": "execute_result"
    }
   ],
   "source": [
    "#연습문제\n",
    "\n",
    "def calc(n,m):\n",
    "    summ=n+m\n",
    "    minus=n-m\n",
    "    pro=n*m\n",
    "    div=n/m\n",
    "    \n",
    "    return (summ,minus,pro,div)\n",
    "calc(5,6)"
   ]
  },
  {
   "cell_type": "code",
   "execution_count": 10,
   "metadata": {},
   "outputs": [
    {
     "data": {
      "text/plain": [
       "[0, 3, 6]"
      ]
     },
     "execution_count": 10,
     "metadata": {},
     "output_type": "execute_result"
    }
   ],
   "source": [
    "#연습문제\n",
    "\n",
    "def allinedex(a,b):\n",
    "    lis=[]\n",
    "    for idx,j in enumerate(a):\n",
    "        if j==b:\n",
    "            lis.append(idx)\n",
    "    return lis\n",
    "\n",
    "\n",
    "lis=[1,2,3,1,4,2,1]\n",
    "\n",
    "allinedex(lis,1)\n",
    "    \n",
    "    "
   ]
  },
  {
   "cell_type": "code",
   "execution_count": 15,
   "metadata": {},
   "outputs": [
    {
     "name": "stdout",
     "output_type": "stream",
     "text": [
      "25\n",
      "(7, -1)\n"
     ]
    }
   ],
   "source": [
    "print((lambda x:x**2)(5))\n",
    "\n",
    "print((lambda x,y:(x+y,x-y))(3,4))\n",
    "\n",
    "add=lambda x,y : x+y"
   ]
  },
  {
   "cell_type": "code",
   "execution_count": 16,
   "metadata": {},
   "outputs": [
    {
     "data": {
      "text/plain": [
       "7"
      ]
     },
     "execution_count": 16,
     "metadata": {},
     "output_type": "execute_result"
    }
   ],
   "source": [
    "add(3,4)"
   ]
  },
  {
   "cell_type": "code",
   "execution_count": 18,
   "metadata": {},
   "outputs": [
    {
     "data": {
      "text/plain": [
       "[1, 4, 9, 16, 25, 36, 49, 81]"
      ]
     },
     "execution_count": 18,
     "metadata": {},
     "output_type": "execute_result"
    }
   ],
   "source": [
    "lis=[1,2,3,4,5,6,7,9]\n",
    "\n",
    "\n",
    "list(map(lambda x: x**2,lis))"
   ]
  },
  {
   "cell_type": "code",
   "execution_count": 83,
   "metadata": {},
   "outputs": [],
   "source": [
    "def ant(n):\n",
    "    ln=[1,1,2,1]\n",
    "    \n",
    "    cnt=1\n",
    "    crn=ln[0]\n",
    "    \n",
    "    for num in range(n):\n",
    "    \n",
    "        for i in ln[1:]:\n",
    "            temp=[]\n",
    "            if i==crn:\n",
    "                crn=i\n",
    "                cnt+=1\n",
    "\n",
    "            else:\n",
    "                temp.append(crn)\n",
    "                temp.append(cnt)\n",
    "                cnt=1\n",
    "                print(temp)\n",
    "        \n",
    "            \n",
    "            \n",
    "        \n",
    "        \n",
    "            \n",
    "     \n",
    "                \n",
    "        "
   ]
  },
  {
   "cell_type": "code",
   "execution_count": 82,
   "metadata": {},
   "outputs": [
    {
     "name": "stdout",
     "output_type": "stream",
     "text": [
      "[1, 2]\n",
      "[1, 3]\n",
      "[1, 3]\n",
      "[1, 3]\n",
      "[1, 3]\n"
     ]
    },
    {
     "data": {
      "text/plain": [
       "[]"
      ]
     },
     "execution_count": 82,
     "metadata": {},
     "output_type": "execute_result"
    }
   ],
   "source": [
    "ant(5)"
   ]
  },
  {
   "cell_type": "code",
   "execution_count": 20,
   "metadata": {},
   "outputs": [
    {
     "ename": "KeyboardInterrupt",
     "evalue": "",
     "output_type": "error",
     "traceback": [
      "\u001b[1;31m---------------------------------------------------------------------------\u001b[0m",
      "\u001b[1;31mKeyboardInterrupt\u001b[0m                         Traceback (most recent call last)",
      "\u001b[1;32m<ipython-input-20-75921148652a>\u001b[0m in \u001b[0;36m<module>\u001b[1;34m\u001b[0m\n\u001b[1;32m----> 1\u001b[1;33m \u001b[0mant\u001b[0m\u001b[1;33m(\u001b[0m\u001b[1;33m)\u001b[0m\u001b[1;33m\u001b[0m\u001b[1;33m\u001b[0m\u001b[0m\n\u001b[0m",
      "\u001b[1;32m<ipython-input-19-7e22dffa2ca2>\u001b[0m in \u001b[0;36mant\u001b[1;34m()\u001b[0m\n\u001b[0;32m      5\u001b[0m         \u001b[0mtemp\u001b[0m\u001b[1;33m=\u001b[0m\u001b[1;33m[\u001b[0m\u001b[1;33m]\u001b[0m\u001b[1;33m\u001b[0m\u001b[1;33m\u001b[0m\u001b[0m\n\u001b[0;32m      6\u001b[0m         \u001b[0mcount\u001b[0m\u001b[1;33m=\u001b[0m\u001b[1;36m1\u001b[0m\u001b[1;33m\u001b[0m\u001b[1;33m\u001b[0m\u001b[0m\n\u001b[1;32m----> 7\u001b[1;33m         \u001b[1;32mfor\u001b[0m \u001b[0midx\u001b[0m\u001b[1;33m,\u001b[0m\u001b[0mj\u001b[0m \u001b[1;32min\u001b[0m \u001b[0menumerate\u001b[0m\u001b[1;33m(\u001b[0m\u001b[0mln\u001b[0m\u001b[1;33m)\u001b[0m\u001b[1;33m:\u001b[0m\u001b[1;33m\u001b[0m\u001b[1;33m\u001b[0m\u001b[0m\n\u001b[0m\u001b[0;32m      8\u001b[0m             \u001b[1;32mif\u001b[0m \u001b[0midx\u001b[0m\u001b[1;33m==\u001b[0m\u001b[0mlen\u001b[0m\u001b[1;33m(\u001b[0m\u001b[0mln\u001b[0m\u001b[1;33m)\u001b[0m\u001b[1;33m-\u001b[0m\u001b[1;36m1\u001b[0m\u001b[1;33m:\u001b[0m\u001b[1;33m\u001b[0m\u001b[1;33m\u001b[0m\u001b[0m\n\u001b[0;32m      9\u001b[0m                 \u001b[0mtemp\u001b[0m\u001b[1;33m.\u001b[0m\u001b[0mappend\u001b[0m\u001b[1;33m(\u001b[0m\u001b[0mj\u001b[0m\u001b[1;33m)\u001b[0m\u001b[1;33m\u001b[0m\u001b[1;33m\u001b[0m\u001b[0m\n",
      "\u001b[1;31mKeyboardInterrupt\u001b[0m: "
     ]
    }
   ],
   "source": []
  },
  {
   "cell_type": "code",
   "execution_count": 21,
   "metadata": {},
   "outputs": [],
   "source": [
    "def make_profile(name,email,height):\n",
    "    return {\n",
    "        \"name\" :name,\n",
    "        'email':email,\n",
    "        \"height\" : height\n",
    "    }"
   ]
  },
  {
   "cell_type": "code",
   "execution_count": 24,
   "metadata": {},
   "outputs": [
    {
     "data": {
      "text/plain": [
       "{'name': 'sss', 'email': 'sss', 'height': 111}"
      ]
     },
     "execution_count": 24,
     "metadata": {},
     "output_type": "execute_result"
    }
   ],
   "source": [
    "make_profile(\"sss\",\"sss\",111)"
   ]
  },
  {
   "cell_type": "code",
   "execution_count": 25,
   "metadata": {},
   "outputs": [
    {
     "data": {
      "text/plain": [
       "{'name': 'sdsd', 'email': '123123', 'height': 1232}"
      ]
     },
     "execution_count": 25,
     "metadata": {},
     "output_type": "execute_result"
    }
   ],
   "source": [
    "make_profile(name=\"sdsd\",height=1232,email=\"123123\")"
   ]
  },
  {
   "cell_type": "code",
   "execution_count": 28,
   "metadata": {},
   "outputs": [
    {
     "name": "stdout",
     "output_type": "stream",
     "text": [
      "(1, 2, 3, 4, 5)\n",
      "<class 'tuple'>\n"
     ]
    }
   ],
   "source": [
    "#가변인수 (*args)\n",
    "\n",
    "\n",
    "\n",
    "\n",
    "def add(*args):\n",
    "    print(args)\n",
    "    print(type(args))\n",
    "    return sum(args)\n",
    "    \n",
    "a=add(1,2,3,4,5)  #*args 에 들어가는 길이가 5임, 만약 [1,2,3,4,5] 를 넣으면 *args가 받는 인자의 길이는 리스트의 길이인1임 따라서 리스트를 풀어야함\n"
   ]
  },
  {
   "cell_type": "code",
   "execution_count": 44,
   "metadata": {},
   "outputs": [
    {
     "name": "stdout",
     "output_type": "stream",
     "text": [
      "15\n",
      "(1, 2, 3, 4, 5, 6)\n",
      "<class 'tuple'>\n",
      "21\n"
     ]
    }
   ],
   "source": [
    "list11=[1,2,3,4,5,6]\n",
    "\n",
    "print(a)\n",
    "\n",
    "print(add(*list11)) #*args의 인자인 list11을 에스트리스크로 풀어서 전달함, 안풀고 전달하면 오류"
   ]
  },
  {
   "cell_type": "code",
   "execution_count": null,
   "metadata": {},
   "outputs": [],
   "source": []
  },
  {
   "cell_type": "code",
   "execution_count": 37,
   "metadata": {},
   "outputs": [],
   "source": [
    "#가변키워드인수 (**kwargs)\n",
    "\n",
    "def make_profile(name,email,city='Seoul',*friends,**kwargs):\n",
    "    result={\n",
    "        \"name\":name,\n",
    "        \"email\":email,\n",
    "        \"city\":city,\n",
    "        \"friends\":friends\n",
    "    }\n",
    "    result.update(kwargs)\n",
    "    return result\n"
   ]
  },
  {
   "cell_type": "code",
   "execution_count": 38,
   "metadata": {},
   "outputs": [
    {
     "data": {
      "text/plain": [
       "{'name': '정환',\n",
       " 'email': 'asdasda@asdasd',\n",
       " 'city': 'Busan',\n",
       " 'friends': ('친구1', '친구2'),\n",
       " 'intro': '안녕하세요 친구분들'}"
      ]
     },
     "execution_count": 38,
     "metadata": {},
     "output_type": "execute_result"
    }
   ],
   "source": [
    "make_profile(\"정환\",\"asdasda@asdasd\",\"Busan\",\"친구1\",\"친구2\",intro=\"안녕하세요 친구분들\")"
   ]
  },
  {
   "cell_type": "code",
   "execution_count": 66,
   "metadata": {},
   "outputs": [
    {
     "name": "stdout",
     "output_type": "stream",
     "text": [
      "15\n",
      "-13\n",
      "120\n"
     ]
    }
   ],
   "source": [
    "#연습문제\n",
    "\n",
    "def calc(op,*args):\n",
    "    if op==\"+\":\n",
    "        print(sum(args))\n",
    "    elif op==\"-\":\n",
    "        tot1=args[0]\n",
    "        for i in range(1,len(args)):\n",
    "            tot1-=args[i]\n",
    "        print(tot1)\n",
    "    elif op==\"*\":\n",
    "            tot2=args[0]\n",
    "            for i in range(1,len(args)):\n",
    "                tot2*=args[i]\n",
    "            print(tot2)\n",
    "calc(\"+\",1,2,3,4,5)\n",
    "calc(\"-\",1,2,3,4,5)\n",
    "calc(\"*\",1,2,3,4,5)"
   ]
  },
  {
   "cell_type": "code",
   "execution_count": 54,
   "metadata": {},
   "outputs": [
    {
     "name": "stdout",
     "output_type": "stream",
     "text": [
      "최대값: 5, 최소값: 1, 평균값: 3\n"
     ]
    }
   ],
   "source": [
    "#연습문제\n",
    "\n",
    "def calc2(*args):\n",
    "    print(\"최대값: %d, 최소값: %d, 평균값: %d\" %(max(args),min(args),(sum(args)/len(args))))\n",
    "    \n",
    "calc(1,2,3,4,5)"
   ]
  },
  {
   "cell_type": "code",
   "execution_count": 53,
   "metadata": {},
   "outputs": [
    {
     "name": "stdout",
     "output_type": "stream",
     "text": [
      "최대값: 5, 최소값: 1, 평균값: 3\n"
     ]
    }
   ],
   "source": []
  },
  {
   "cell_type": "code",
   "execution_count": 58,
   "metadata": {},
   "outputs": [
    {
     "name": "stdout",
     "output_type": "stream",
     "text": [
      "1\n",
      "5\n"
     ]
    }
   ],
   "source": [
    "def abc(*args):\n",
    "    print(args[0])\n",
    "    print(len(args))\n",
    "\n",
    "abc(1,2,3,4,5)"
   ]
  },
  {
   "cell_type": "code",
   "execution_count": 172,
   "metadata": {},
   "outputs": [],
   "source": [
    "class Dog:\n",
    "    \n",
    "    #메소드 : 클래스내에 있는 함수들\n",
    "    #속성 (attribuye) : 클래스내에 있는 변수들\n",
    "    \n",
    "    dog_count=0 #class 속성, 클래스가 직접 관리\n",
    "    \n",
    "    def __init__(self,name,color):   #생성자 : 클래스가 만들어짐과 동시에 호출 되는 함수\n",
    "        self.__hungry=0  #Private : 외부에서 속성을 건들지 못하게 함  (언더바 두개)\n",
    "        self.name=name\n",
    "        self.color=color\n",
    "        Dog.dog_count+=1 #class 속성 \n",
    "    def eat(self):\n",
    "        self.__hungry-=10\n",
    "        print(\"밥먹음 \",self.__hungry)\n",
    "        \n",
    "    def walk(self):\n",
    "        self.__hungry +=10\n",
    "        print(\"산책 \",self.__hungry)\n",
    "        \n",
    "    def get_hungry(self):     #self.__hungry 가 프라이빗이기 때문에 값을 얻어오기 위해 또 다른 메소드를 정의해줌\n",
    "        return self.__hungry  \n",
    "    \n",
    "    \n",
    "    @classmethod # \"@\" : 데코레이터 , 클래스메소드 : 클래스자체를 조작(클래스 단위에서 관리) <> 인스턴스메소드 : 인스턴스를 조작 \n",
    "    def create_black_dog(cls,name): #cls : 클래스 자체를 인자로 (인스턴스는 self로 자기 자신을 받아오는 것 처럼)\n",
    "        print(\"현재 강아지 수: \", cls.dog_count)\n",
    "        return cls(name,\"Black\")\n",
    "    \n",
    "    \n",
    "    @staticmethod #정적메소드 : 의미적으로만 존재, 기능은 없음 , \n",
    "    def intro():\n",
    "        print(\"안녕하세요. 동물의 숲입니다.\")\n",
    "        \n",
    "        \n",
    "    def __str__(self):           #출력될 값을 재 정의 일반적으로 객체를 프린트 하면 171번 과 같이 메모리 주소같은게 나옴\n",
    "        return repr(self)\n",
    "        \n",
    "    def __repr__(self):\n",
    "        return str({\n",
    "            'name' : self.name,\n",
    "            \"color\" : self.color\n",
    "        })"
   ]
  },
  {
   "cell_type": "code",
   "execution_count": 127,
   "metadata": {},
   "outputs": [],
   "source": [
    "choco=Dog(\"choco\",\"black\")\n",
    "jjong=Dog(\"jjong\",\"white\")"
   ]
  },
  {
   "cell_type": "code",
   "execution_count": 171,
   "metadata": {},
   "outputs": [
    {
     "name": "stdout",
     "output_type": "stream",
     "text": [
      "<__main__.Dog object at 0x0000023AA7BE03D0>\n"
     ]
    }
   ],
   "source": [
    "print(choco)"
   ]
  },
  {
   "cell_type": "code",
   "execution_count": 128,
   "metadata": {},
   "outputs": [
    {
     "name": "stdout",
     "output_type": "stream",
     "text": [
      "밥먹음  -10\n",
      "밥먹음  -20\n",
      "산책  -10\n"
     ]
    }
   ],
   "source": [
    "choco.eat()\n",
    "choco.eat()\n",
    "choco.walk()"
   ]
  },
  {
   "cell_type": "code",
   "execution_count": 133,
   "metadata": {},
   "outputs": [
    {
     "name": "stdout",
     "output_type": "stream",
     "text": [
      "현재 강아지 수:  2\n"
     ]
    }
   ],
   "source": [
    "choco=Dog.create_black_dog(\"초코\")"
   ]
  },
  {
   "cell_type": "code",
   "execution_count": 137,
   "metadata": {},
   "outputs": [
    {
     "name": "stdout",
     "output_type": "stream",
     "text": [
      "안녕하세요. 동물의 숲입니다.\n"
     ]
    }
   ],
   "source": [
    "Dog.intro()"
   ]
  },
  {
   "cell_type": "code",
   "execution_count": 134,
   "metadata": {},
   "outputs": [
    {
     "data": {
      "text/plain": [
       "'초코'"
      ]
     },
     "execution_count": 134,
     "metadata": {},
     "output_type": "execute_result"
    }
   ],
   "source": [
    "choco.name"
   ]
  },
  {
   "cell_type": "code",
   "execution_count": 132,
   "metadata": {},
   "outputs": [
    {
     "data": {
      "text/plain": [
       "0"
      ]
     },
     "execution_count": 132,
     "metadata": {},
     "output_type": "execute_result"
    }
   ],
   "source": [
    "jjong.get_hungry()"
   ]
  },
  {
   "cell_type": "code",
   "execution_count": 109,
   "metadata": {},
   "outputs": [
    {
     "data": {
      "text/plain": [
       "0"
      ]
     },
     "execution_count": 109,
     "metadata": {},
     "output_type": "execute_result"
    }
   ],
   "source": [
    "Dog.dog_count"
   ]
  },
  {
   "cell_type": "code",
   "execution_count": 178,
   "metadata": {},
   "outputs": [],
   "source": [
    "#연습문제\n",
    "\n",
    "class Car:\n",
    "    \n",
    "    car_count=0\n",
    "    \n",
    "    def __init__(self,name,cc,year):\n",
    "        self.__name=name\n",
    "        self.__cc=cc\n",
    "        self.__year=year\n",
    "        self.__speed=0\n",
    "        Car.car_count+=1\n",
    "        \n",
    "    def change_name(self,new_name):\n",
    "        self.__name=new_name\n",
    "    \n",
    "    def size(self):\n",
    "        if self.__cc<=1000:\n",
    "            print(\"소형\")\n",
    "        elif self.__cc<=2000 and self.__cc>1000:\n",
    "            print(\"중형\")\n",
    "        else:\n",
    "            print(\"대형\")\n",
    "            \n",
    "    @classmethod    \n",
    "    def get_car_count(cls):\n",
    "        print(\"등록 차량 대수 : \",cls.car_count)\n",
    "        \n",
    "    def get_info(self):\n",
    "        return \"배기량 : \",self.__cc, \" 이름 : \",self.__name, \" 생산년도 : \",self.__year \n",
    "            \n",
    "    \n",
    "    def excel(self):\n",
    "        self.__speed+=50\n",
    "    \n",
    "    def break_(self):\n",
    "        self.__speed-=10\n",
    "        \n",
    "        \n",
    "    @property # 프로퍼티 , 함수인데 속성처럼(변수처럼) 쓸 수 있다.\n",
    "    def speed(self):\n",
    "        return self.__speed"
   ]
  },
  {
   "cell_type": "code",
   "execution_count": 179,
   "metadata": {},
   "outputs": [],
   "source": [
    "hd=Car(\"Sonata\",2000,2015)"
   ]
  },
  {
   "cell_type": "code",
   "execution_count": 180,
   "metadata": {},
   "outputs": [
    {
     "data": {
      "text/plain": [
       "('배기량 : ', 2000, ' 이름 : ', 'Sonata', ' 생산년도 : ', 2015)"
      ]
     },
     "execution_count": 180,
     "metadata": {},
     "output_type": "execute_result"
    }
   ],
   "source": [
    "hd.get_info()"
   ]
  },
  {
   "cell_type": "code",
   "execution_count": 181,
   "metadata": {},
   "outputs": [
    {
     "name": "stdout",
     "output_type": "stream",
     "text": [
      "중형\n"
     ]
    }
   ],
   "source": [
    "hd.size()"
   ]
  },
  {
   "cell_type": "code",
   "execution_count": 182,
   "metadata": {},
   "outputs": [],
   "source": [
    "hd.change_name(\"그랜져\")"
   ]
  },
  {
   "cell_type": "code",
   "execution_count": 183,
   "metadata": {},
   "outputs": [
    {
     "data": {
      "text/plain": [
       "('배기량 : ', 2000, ' 이름 : ', '그랜져', ' 생산년도 : ', 2015)"
      ]
     },
     "execution_count": 183,
     "metadata": {},
     "output_type": "execute_result"
    }
   ],
   "source": [
    "hd.get_info()"
   ]
  },
  {
   "cell_type": "code",
   "execution_count": 184,
   "metadata": {},
   "outputs": [
    {
     "name": "stdout",
     "output_type": "stream",
     "text": [
      "등록 차량 대수 :  1\n"
     ]
    }
   ],
   "source": [
    "Car.get_car_count()"
   ]
  },
  {
   "cell_type": "code",
   "execution_count": 185,
   "metadata": {},
   "outputs": [],
   "source": [
    "KIA=Car(\"K9\",3500,2019)"
   ]
  },
  {
   "cell_type": "code",
   "execution_count": 186,
   "metadata": {},
   "outputs": [
    {
     "name": "stdout",
     "output_type": "stream",
     "text": [
      "대형\n"
     ]
    }
   ],
   "source": [
    "KIA.size()"
   ]
  },
  {
   "cell_type": "code",
   "execution_count": 187,
   "metadata": {},
   "outputs": [
    {
     "data": {
      "text/plain": [
       "('배기량 : ', 3500, ' 이름 : ', 'K9', ' 생산년도 : ', 2019)"
      ]
     },
     "execution_count": 187,
     "metadata": {},
     "output_type": "execute_result"
    }
   ],
   "source": [
    "KIA.get_info()"
   ]
  },
  {
   "cell_type": "code",
   "execution_count": 188,
   "metadata": {},
   "outputs": [],
   "source": [
    "KIA.excel()"
   ]
  },
  {
   "cell_type": "code",
   "execution_count": 189,
   "metadata": {
    "scrolled": true
   },
   "outputs": [
    {
     "data": {
      "text/plain": [
       "50"
      ]
     },
     "execution_count": 189,
     "metadata": {},
     "output_type": "execute_result"
    }
   ],
   "source": [
    "KIA.speed"
   ]
  },
  {
   "cell_type": "code",
   "execution_count": 190,
   "metadata": {},
   "outputs": [],
   "source": [
    "KIA.break_()"
   ]
  },
  {
   "cell_type": "code",
   "execution_count": 191,
   "metadata": {},
   "outputs": [
    {
     "data": {
      "text/plain": [
       "40"
      ]
     },
     "execution_count": 191,
     "metadata": {},
     "output_type": "execute_result"
    }
   ],
   "source": [
    "KIA.speed"
   ]
  },
  {
   "cell_type": "code",
   "execution_count": 192,
   "metadata": {},
   "outputs": [
    {
     "name": "stdout",
     "output_type": "stream",
     "text": [
      "등록 차량 대수 :  2\n"
     ]
    }
   ],
   "source": [
    "Car.get_car_count()"
   ]
  },
  {
   "cell_type": "code",
   "execution_count": 193,
   "metadata": {},
   "outputs": [
    {
     "data": {
      "text/plain": [
       "40"
      ]
     },
     "execution_count": 193,
     "metadata": {},
     "output_type": "execute_result"
    }
   ],
   "source": [
    "KIA.speed  #프로퍼티로부터 받아왓기 때문에 속성처럼 사용가능 "
   ]
  },
  {
   "cell_type": "code",
   "execution_count": 195,
   "metadata": {},
   "outputs": [],
   "source": [
    "class Animal():\n",
    "    def __init__(self,name):\n",
    "        self.__hungry=0\n",
    "        self.name=name\n",
    "        \n",
    "    def intro(self):\n",
    "        print(\"안녕~~~\")\n",
    "    def eat(self):\n",
    "        self.__hungry-=10"
   ]
  },
  {
   "cell_type": "code",
   "execution_count": 196,
   "metadata": {},
   "outputs": [],
   "source": [
    "class Puppy(Animal):\n",
    "    def __init__(self,name,type_):\n",
    "        self.type_=type_ #type_ 만 Puppy 클래스에서 따로 정의 하고 나머지는 그대로 가져올것임\n",
    "        super().__init__(name) #super : 부모클래스에 있는 메소드에 접근, 부모클래스의 __init__의 name을 메소드를 그대로 가져옴"
   ]
  },
  {
   "cell_type": "code",
   "execution_count": null,
   "metadata": {},
   "outputs": [],
   "source": [
    "puppy1=Puppy(\"숑이\",\"비셔\")"
   ]
  }
 ],
 "metadata": {
  "kernelspec": {
   "display_name": "Python 3",
   "language": "python",
   "name": "python3"
  },
  "language_info": {
   "codemirror_mode": {
    "name": "ipython",
    "version": 3
   },
   "file_extension": ".py",
   "mimetype": "text/x-python",
   "name": "python",
   "nbconvert_exporter": "python",
   "pygments_lexer": "ipython3",
   "version": "3.8.3"
  }
 },
 "nbformat": 4,
 "nbformat_minor": 4
}
