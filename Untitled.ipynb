{
 "cells": [
  {
   "cell_type": "code",
   "execution_count": 3,
   "metadata": {},
   "outputs": [
    {
     "name": "stdout",
     "output_type": "stream",
     "text": [
      "['school', 'science', 'mountian']\n"
     ]
    }
   ],
   "source": [
    "#연습문제\n",
    "word = ['school', 'game', 'piano', 'science', 'hotel', \"mountian\"] \n",
    "new=[]\n",
    "for i in word:\n",
    "    if len(i)>=6:\n",
    "        new.append(i)\n",
    "        \n",
    "print(new)"
   ]
  },
  {
   "cell_type": "code",
   "execution_count": 2,
   "metadata": {},
   "outputs": [
    {
     "name": "stdout",
     "output_type": "stream",
     "text": [
      "1 * 1 = 1\n",
      "1 * 2 = 2\n",
      "1 * 3 = 3\n",
      "1 * 4 = 4\n",
      "1 * 5 = 5\n",
      "1 * 6 = 6\n",
      "1 * 7 = 7\n",
      "1 * 8 = 8\n",
      "1 * 9 = 9\n",
      "2 * 1 = 2\n",
      "2 * 2 = 4\n",
      "2 * 3 = 6\n",
      "2 * 4 = 8\n",
      "2 * 5 = 10\n",
      "2 * 6 = 12\n",
      "2 * 7 = 14\n",
      "2 * 8 = 16\n",
      "2 * 9 = 18\n",
      "3 * 1 = 3\n",
      "3 * 2 = 6\n",
      "3 * 3 = 9\n",
      "3 * 4 = 12\n",
      "3 * 5 = 15\n",
      "3 * 6 = 18\n",
      "3 * 7 = 21\n",
      "3 * 8 = 24\n",
      "3 * 9 = 27\n",
      "4 * 1 = 4\n",
      "4 * 2 = 8\n",
      "4 * 3 = 12\n",
      "4 * 4 = 16\n",
      "4 * 5 = 20\n",
      "4 * 6 = 24\n",
      "4 * 7 = 28\n",
      "4 * 8 = 32\n",
      "4 * 9 = 36\n",
      "5 * 1 = 5\n",
      "5 * 2 = 10\n",
      "5 * 3 = 15\n",
      "5 * 4 = 20\n",
      "5 * 5 = 25\n",
      "5 * 6 = 30\n",
      "5 * 7 = 35\n",
      "5 * 8 = 40\n",
      "5 * 9 = 45\n",
      "6 * 1 = 6\n",
      "6 * 2 = 12\n",
      "6 * 3 = 18\n",
      "6 * 4 = 24\n",
      "6 * 5 = 30\n",
      "6 * 6 = 36\n",
      "6 * 7 = 42\n",
      "6 * 8 = 48\n",
      "6 * 9 = 54\n",
      "7 * 1 = 7\n",
      "7 * 2 = 14\n",
      "7 * 3 = 21\n",
      "7 * 4 = 28\n",
      "7 * 5 = 35\n",
      "7 * 6 = 42\n",
      "7 * 7 = 49\n",
      "7 * 8 = 56\n",
      "7 * 9 = 63\n",
      "8 * 1 = 8\n",
      "8 * 2 = 16\n",
      "8 * 3 = 24\n",
      "8 * 4 = 32\n",
      "8 * 5 = 40\n",
      "8 * 6 = 48\n",
      "8 * 7 = 56\n",
      "8 * 8 = 64\n",
      "8 * 9 = 72\n",
      "9 * 1 = 9\n",
      "9 * 2 = 18\n",
      "9 * 3 = 27\n",
      "9 * 4 = 36\n",
      "9 * 5 = 45\n",
      "9 * 6 = 54\n",
      "9 * 7 = 63\n",
      "9 * 8 = 72\n",
      "9 * 9 = 81\n"
     ]
    }
   ],
   "source": [
    "#연습문제\n",
    "\n",
    "\n",
    "for i in range(1,10):\n",
    "    for j in range(1,10):\n",
    "        print(\"%d * %d = %d\" %(i,j,i*j))\n",
    "        "
   ]
  },
  {
   "cell_type": "code",
   "execution_count": 1,
   "metadata": {},
   "outputs": [
    {
     "name": "stdout",
     "output_type": "stream",
     "text": [
      "입력 : 100\n",
      "1\n",
      "2\n",
      "3는 3의배수\n",
      "4\n",
      "5는 5의배수\n",
      "6는 3의배수\n",
      "7\n",
      "8\n",
      "9는 3의배수\n",
      "10는 5의배수\n",
      "11\n",
      "12는 3의배수\n",
      "13\n",
      "14\n",
      "15는 3과 5의 공배수\n",
      "16\n",
      "17\n",
      "18는 3의배수\n",
      "19\n",
      "20는 5의배수\n",
      "21는 3의배수\n",
      "22\n",
      "23\n",
      "24는 3의배수\n",
      "25는 5의배수\n",
      "26\n",
      "27는 3의배수\n",
      "28\n",
      "29\n",
      "30는 3과 5의 공배수\n",
      "31\n",
      "32\n",
      "33는 3의배수\n",
      "34\n",
      "35는 5의배수\n",
      "36는 3의배수\n",
      "37\n",
      "38\n",
      "39는 3의배수\n",
      "40는 5의배수\n",
      "41\n",
      "42는 3의배수\n",
      "43\n",
      "44\n",
      "45는 3과 5의 공배수\n",
      "46\n",
      "47\n",
      "48는 3의배수\n",
      "49\n",
      "50는 5의배수\n",
      "51는 3의배수\n",
      "52\n",
      "53\n",
      "54는 3의배수\n",
      "55는 5의배수\n",
      "56\n",
      "57는 3의배수\n",
      "58\n",
      "59\n",
      "60는 3과 5의 공배수\n",
      "61\n",
      "62\n",
      "63는 3의배수\n",
      "64\n",
      "65는 5의배수\n",
      "66는 3의배수\n",
      "67\n",
      "68\n",
      "69는 3의배수\n",
      "70는 5의배수\n",
      "71\n",
      "72는 3의배수\n",
      "73\n",
      "74\n",
      "75는 3과 5의 공배수\n",
      "76\n",
      "77\n",
      "78는 3의배수\n",
      "79\n",
      "80는 5의배수\n",
      "81는 3의배수\n",
      "82\n",
      "83\n",
      "84는 3의배수\n",
      "85는 5의배수\n",
      "86\n",
      "87는 3의배수\n",
      "88\n",
      "89\n",
      "90는 3과 5의 공배수\n",
      "91\n",
      "92\n",
      "93는 3의배수\n",
      "94\n",
      "95는 5의배수\n",
      "96는 3의배수\n",
      "97\n",
      "98\n",
      "99는 3의배수\n",
      "100는 5의배수\n"
     ]
    }
   ],
   "source": [
    "#연습문제4\n",
    "\n",
    "num = int(input(\"입력 : \"))\n",
    "\n",
    "for i in range(1,num+1):\n",
    "    if i%3==0 and i%5==0:\n",
    "        print(\"%d는 3과 5의 공배수\" %(i))\n",
    "    elif i%3==0:\n",
    "        print(\"%d는 3의배수\" %(i))\n",
    "    elif i%5==0:\n",
    "        print(\"%d는 5의배수\" %(i))\n",
    "    else:\n",
    "        print(i)"
   ]
  },
  {
   "cell_type": "code",
   "execution_count": 11,
   "metadata": {},
   "outputs": [
    {
     "name": "stdout",
     "output_type": "stream",
     "text": [
      "값을 입력해주세요 : 50\n",
      "값을 입력해주세요 : 10\n",
      "값을 입력해주세요 : 20\n",
      "값을 입력해주세요 : s\n",
      "합계는 ?  80\n"
     ]
    }
   ],
   "source": [
    "total=0\n",
    "while True:\n",
    "    \n",
    "    \n",
    "    num=input(\"값을 입력해주세요 : \")\n",
    "    \n",
    "    if num.isnumeric():\n",
    "        total+=int(num)\n",
    "    \n",
    "    else:\n",
    "        if num==\"S\" or num==\"s\":\n",
    "            print(\"합계는 ? \",total)\n",
    "            break"
   ]
  },
  {
   "cell_type": "code",
   "execution_count": 12,
   "metadata": {},
   "outputs": [],
   "source": [
    "import random"
   ]
  },
  {
   "cell_type": "code",
   "execution_count": 20,
   "metadata": {},
   "outputs": [
    {
     "name": "stdout",
     "output_type": "stream",
     "text": [
      "가위(1),바위(2),보(3) 을 입력해주세요! : 3\n",
      "유저 : 보 컴퓨터 : 보\n",
      "가위(1),바위(2),보(3) 을 입력해주세요! : 3\n",
      "유저 : 보 컴퓨터 : 보\n",
      "가위(1),바위(2),보(3) 을 입력해주세요! : 3\n",
      "유저 : 보 컴퓨터 : 보\n",
      "가위(1),바위(2),보(3) 을 입력해주세요! : 3\n",
      "유저 : 보 컴퓨터 : 가위\n",
      "가위(1),바위(2),보(3) 을 입력해주세요! : 3\n",
      "유저 : 보 컴퓨터 : 보\n",
      "가위(1),바위(2),보(3) 을 입력해주세요! : 2\n",
      "유저 : 바위 컴퓨터 : 가위\n",
      "가위(1),바위(2),보(3) 을 입력해주세요! : 1\n",
      "유저 : 가위 컴퓨터 : 보\n",
      "가위(1),바위(2),보(3) 을 입력해주세요! : 4\n",
      "게임종료 전체:7, 승리:2, 비김:4\n"
     ]
    }
   ],
   "source": [
    "tot=0\n",
    "win=0\n",
    "draw=0\n",
    "\n",
    "\n",
    "dic={1:\"가위\",2:\"바위\",3:\"보\"}\n",
    "\n",
    "while True:\n",
    "\n",
    "    \n",
    "    com=random.randint(1,3)\n",
    "    \n",
    "    human=int(input(\"가위(1),바위(2),보(3) 을 입력해주세요! : \"))\n",
    "    \n",
    "    if human not in range(1,4):\n",
    "        print(\"게임종료 전체:%d, 승리:%d, 비김:%d\" %(tot,win,draw))\n",
    "        break\n",
    "           \n",
    "    if com==human:\n",
    "        tot+=1\n",
    "        draw+=1\n",
    "        print(\"유저 : \" + dic[human] + \" 컴퓨터 : \" + dic[com])\n",
    "        \n",
    "    elif com==1 and human==3:\n",
    "        tot+=1\n",
    "        print(\"유저 : \" + dic[human] + \" 컴퓨터 : \" + dic[com])\n",
    "    elif com==1 and human==2:\n",
    "        tot+=1\n",
    "        win+=1\n",
    "        print(\"유저 : \" + dic[human] + \" 컴퓨터 : \" + dic[com])\n",
    "    elif com==2 and human==1:\n",
    "        tot+=1\n",
    "        print(\"유저 : \" + dic[human] + \" 컴퓨터 : \" + dic[com])\n",
    "    elif com==2 and human==3:\n",
    "        tot+=1\n",
    "        win+=1\n",
    "        print(\"유저 : \" + dic[human] + \" 컴퓨터 : \" + dic[com])\n",
    "    elif com==3 and human==1:\n",
    "        tot+=1\n",
    "        win+=1\n",
    "        print(\"유저 : \" + dic[human] + \" 컴퓨터 : \" + dic[com])\n",
    "    elif com==3 and human==2:\n",
    "        tot+=1\n",
    "        print(\"유저 : \" + dic[human] + \" 컴퓨터 : \" + dic[com])\n",
    "        \n",
    "\n",
    "        \n",
    "        \n",
    "        "
   ]
  },
  {
   "cell_type": "code",
   "execution_count": 22,
   "metadata": {},
   "outputs": [
    {
     "name": "stdout",
     "output_type": "stream",
     "text": [
      "입력 :  5\n",
      "hi\n",
      "hi\n",
      "hi\n",
      "hi\n",
      "hi\n"
     ]
    }
   ],
   "source": [
    "#연습문제\n",
    "\n",
    "num=int(input(\"입력 :  \"))\n",
    "i=0\n",
    "\n",
    "while i<num:\n",
    "    print(\"hi\")\n",
    "    i+=1"
   ]
  },
  {
   "cell_type": "code",
   "execution_count": 24,
   "metadata": {},
   "outputs": [
    {
     "name": "stdout",
     "output_type": "stream",
     "text": [
      "입력 :  12\n",
      "0\n",
      "2\n",
      "4\n",
      "6\n",
      "8\n",
      "10\n",
      "12\n"
     ]
    }
   ],
   "source": [
    "#연습문제\n",
    "\n",
    "num=int(input(\"입력 :  \"))\n",
    "\n",
    "for i in range(num+1):\n",
    "    if i%2==0:\n",
    "        print(i)\n",
    "    else:\n",
    "        continue\n",
    "    "
   ]
  },
  {
   "cell_type": "code",
   "execution_count": 28,
   "metadata": {},
   "outputs": [
    {
     "name": "stdout",
     "output_type": "stream",
     "text": [
      "994\n"
     ]
    }
   ],
   "source": [
    "#연습문제\n",
    "\n",
    "a=[]\n",
    "\n",
    "while len(a)<101:\n",
    "    a.append(random.randint(1,1000))\n",
    "    \n",
    "print(max(a))"
   ]
  },
  {
   "cell_type": "code",
   "execution_count": 29,
   "metadata": {},
   "outputs": [
    {
     "name": "stdout",
     "output_type": "stream",
     "text": [
      "47741\n"
     ]
    }
   ],
   "source": [
    "#연습문제\n",
    "a=[]\n",
    "\n",
    "while len(a)<101:\n",
    "    a.append(random.randint(1,1000))\n",
    "    \n",
    "print(sum(a))"
   ]
  },
  {
   "cell_type": "code",
   "execution_count": 32,
   "metadata": {},
   "outputs": [],
   "source": [
    "word = ['school', 'game', 'piano', 'science', 'hotel', 'mountn'] \n",
    "\n",
    "new_list=[i for i in word if len(i)>=6]\n",
    "len_of_word=[len(i) for i in word]"
   ]
  },
  {
   "cell_type": "code",
   "execution_count": 52,
   "metadata": {},
   "outputs": [],
   "source": [
    "a = [[10, 20], [30, 40], [50, 60]]\n",
    "b = [[2, 3], [4, 5], [6, 7]]\n",
    "\n",
    "result=[]\n",
    "\n",
    "for n1,n2 in zip(a,b):\n",
    "    ln=[]\n",
    "    for num1,num2 in zip(n1,n2):\n",
    "        ln.append(num1*num2)\n",
    "    result.append(ln)"
   ]
  },
  {
   "cell_type": "code",
   "execution_count": 53,
   "metadata": {},
   "outputs": [
    {
     "data": {
      "text/plain": [
       "[[20, 60], [120, 200], [300, 420]]"
      ]
     },
     "execution_count": 53,
     "metadata": {},
     "output_type": "execute_result"
    }
   ],
   "source": [
    "result"
   ]
  },
  {
   "cell_type": "code",
   "execution_count": 47,
   "metadata": {},
   "outputs": [
    {
     "name": "stdout",
     "output_type": "stream",
     "text": [
      "[[1, 2], [3, 4], [5, 6]]\n"
     ]
    }
   ],
   "source": [
    "a=[]\n",
    "num=1\n",
    "for i in range(3):\n",
    "    line=[]\n",
    "    for j in range(2):\n",
    "        line.append(num)\n",
    "        num+=1\n",
    "    a.append(line)\n",
    "print(a)"
   ]
  },
  {
   "cell_type": "code",
   "execution_count": 3,
   "metadata": {},
   "outputs": [],
   "source": [
    "with open(\"sample.txt\",'w') as f:\n",
    "    content=f.write(\"with\")\n",
    "    "
   ]
  },
  {
   "cell_type": "code",
   "execution_count": 4,
   "metadata": {},
   "outputs": [
    {
     "name": "stdout",
     "output_type": "stream",
     "text": [
      "with\n"
     ]
    }
   ],
   "source": [
    "with open(\"sample.txt\",'r') as f:\n",
    "    content1=f.read()\n",
    "    print(content1)"
   ]
  },
  {
   "cell_type": "code",
   "execution_count": 5,
   "metadata": {},
   "outputs": [
    {
     "name": "stdout",
     "output_type": "stream",
     "text": [
      "1\n",
      "1\n"
     ]
    }
   ],
   "source": [
    "a=5\n",
    "\n",
    "def func3():\n",
    "    global a #전역변수 사용 \n",
    "    a=1 #위에서 global로 선언했으므로 전억변수 a가 5에서 1로 바뀜\n",
    "    print(a)\n",
    "    \n",
    "func3()\n",
    "print(a)"
   ]
  },
  {
   "cell_type": "code",
   "execution_count": 9,
   "metadata": {},
   "outputs": [
    {
     "data": {
      "text/plain": [
       "(11, -1, 30, 0.8333333333333334)"
      ]
     },
     "execution_count": 9,
     "metadata": {},
     "output_type": "execute_result"
    }
   ],
   "source": [
    "#연습문제\n",
    "\n",
    "def calc(n,m):\n",
    "    summ=n+m\n",
    "    minus=n-m\n",
    "    pro=n*m\n",
    "    div=n/m\n",
    "    \n",
    "    return (summ,minus,pro,div)\n",
    "calc(5,6)"
   ]
  },
  {
   "cell_type": "code",
   "execution_count": 10,
   "metadata": {},
   "outputs": [
    {
     "data": {
      "text/plain": [
       "[0, 3, 6]"
      ]
     },
     "execution_count": 10,
     "metadata": {},
     "output_type": "execute_result"
    }
   ],
   "source": [
    "#연습문제\n",
    "\n",
    "def allinedex(a,b):\n",
    "    lis=[]\n",
    "    for idx,j in enumerate(a):\n",
    "        if j==b:\n",
    "            lis.append(idx)\n",
    "    return lis\n",
    "\n",
    "\n",
    "lis=[1,2,3,1,4,2,1]\n",
    "\n",
    "allinedex(lis,1)\n",
    "    \n",
    "    "
   ]
  },
  {
   "cell_type": "code",
   "execution_count": null,
   "metadata": {},
   "outputs": [],
   "source": []
  }
 ],
 "metadata": {
  "kernelspec": {
   "display_name": "Python 3",
   "language": "python",
   "name": "python3"
  },
  "language_info": {
   "codemirror_mode": {
    "name": "ipython",
    "version": 3
   },
   "file_extension": ".py",
   "mimetype": "text/x-python",
   "name": "python",
   "nbconvert_exporter": "python",
   "pygments_lexer": "ipython3",
   "version": "3.8.3"
  }
 },
 "nbformat": 4,
 "nbformat_minor": 4
}
